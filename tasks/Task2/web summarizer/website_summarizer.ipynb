{
 "cells": [
  {
   "cell_type": "code",
   "execution_count": 17,
   "id": "7c40e907",
   "metadata": {},
   "outputs": [
    {
     "name": "stdout",
     "output_type": "stream",
     "text": [
      "Requirement already satisfied: requests in c:\\users\\hp\\appdata\\local\\programs\\python\\python312\\lib\\site-packages (2.32.3)\n",
      "Requirement already satisfied: beautifulsoup4 in c:\\users\\hp\\appdata\\local\\programs\\python\\python312\\lib\\site-packages (4.12.3)\n",
      "Requirement already satisfied: google-generativeai in c:\\users\\hp\\appdata\\local\\programs\\python\\python312\\lib\\site-packages (0.8.5)\n",
      "Requirement already satisfied: python-dotenv in c:\\users\\hp\\appdata\\local\\programs\\python\\python312\\lib\\site-packages (1.1.1)\n",
      "Requirement already satisfied: charset-normalizer<4,>=2 in c:\\users\\hp\\appdata\\local\\programs\\python\\python312\\lib\\site-packages (from requests) (3.3.2)\n",
      "Requirement already satisfied: idna<4,>=2.5 in c:\\users\\hp\\appdata\\local\\programs\\python\\python312\\lib\\site-packages (from requests) (3.7)\n",
      "Requirement already satisfied: urllib3<3,>=1.21.1 in c:\\users\\hp\\appdata\\local\\programs\\python\\python312\\lib\\site-packages (from requests) (2.2.2)\n",
      "Requirement already satisfied: certifi>=2017.4.17 in c:\\users\\hp\\appdata\\local\\programs\\python\\python312\\lib\\site-packages (from requests) (2024.7.4)\n",
      "Requirement already satisfied: soupsieve>1.2 in c:\\users\\hp\\appdata\\local\\programs\\python\\python312\\lib\\site-packages (from beautifulsoup4) (2.5)\n",
      "Requirement already satisfied: google-ai-generativelanguage==0.6.15 in c:\\users\\hp\\appdata\\local\\programs\\python\\python312\\lib\\site-packages (from google-generativeai) (0.6.15)\n",
      "Requirement already satisfied: google-api-core in c:\\users\\hp\\appdata\\local\\programs\\python\\python312\\lib\\site-packages (from google-generativeai) (2.25.1)\n",
      "Requirement already satisfied: google-api-python-client in c:\\users\\hp\\appdata\\local\\programs\\python\\python312\\lib\\site-packages (from google-generativeai) (2.175.0)\n",
      "Requirement already satisfied: google-auth>=2.15.0 in c:\\users\\hp\\appdata\\local\\programs\\python\\python312\\lib\\site-packages (from google-generativeai) (2.40.3)\n",
      "Requirement already satisfied: protobuf in c:\\users\\hp\\appdata\\local\\programs\\python\\python312\\lib\\site-packages (from google-generativeai) (5.29.5)\n",
      "Requirement already satisfied: pydantic in c:\\users\\hp\\appdata\\local\\programs\\python\\python312\\lib\\site-packages (from google-generativeai) (2.11.7)\n",
      "Requirement already satisfied: tqdm in c:\\users\\hp\\appdata\\local\\programs\\python\\python312\\lib\\site-packages (from google-generativeai) (4.67.1)\n",
      "Requirement already satisfied: typing-extensions in c:\\users\\hp\\appdata\\local\\programs\\python\\python312\\lib\\site-packages (from google-generativeai) (4.13.2)\n",
      "Requirement already satisfied: proto-plus<2.0.0dev,>=1.22.3 in c:\\users\\hp\\appdata\\local\\programs\\python\\python312\\lib\\site-packages (from google-ai-generativelanguage==0.6.15->google-generativeai) (1.26.1)\n",
      "Requirement already satisfied: googleapis-common-protos<2.0.0,>=1.56.2 in c:\\users\\hp\\appdata\\local\\programs\\python\\python312\\lib\\site-packages (from google-api-core->google-generativeai) (1.70.0)\n",
      "Requirement already satisfied: cachetools<6.0,>=2.0.0 in c:\\users\\hp\\appdata\\local\\programs\\python\\python312\\lib\\site-packages (from google-auth>=2.15.0->google-generativeai) (5.5.2)\n",
      "Requirement already satisfied: pyasn1-modules>=0.2.1 in c:\\users\\hp\\appdata\\local\\programs\\python\\python312\\lib\\site-packages (from google-auth>=2.15.0->google-generativeai) (0.4.2)\n",
      "Requirement already satisfied: rsa<5,>=3.1.4 in c:\\users\\hp\\appdata\\local\\programs\\python\\python312\\lib\\site-packages (from google-auth>=2.15.0->google-generativeai) (4.9.1)\n",
      "Requirement already satisfied: httplib2<1.0.0,>=0.19.0 in c:\\users\\hp\\appdata\\local\\programs\\python\\python312\\lib\\site-packages (from google-api-python-client->google-generativeai) (0.22.0)\n",
      "Requirement already satisfied: google-auth-httplib2<1.0.0,>=0.2.0 in c:\\users\\hp\\appdata\\local\\programs\\python\\python312\\lib\\site-packages (from google-api-python-client->google-generativeai) (0.2.0)\n",
      "Requirement already satisfied: uritemplate<5,>=3.0.1 in c:\\users\\hp\\appdata\\local\\programs\\python\\python312\\lib\\site-packages (from google-api-python-client->google-generativeai) (4.2.0)\n",
      "Requirement already satisfied: annotated-types>=0.6.0 in c:\\users\\hp\\appdata\\local\\programs\\python\\python312\\lib\\site-packages (from pydantic->google-generativeai) (0.7.0)\n",
      "Requirement already satisfied: pydantic-core==2.33.2 in c:\\users\\hp\\appdata\\local\\programs\\python\\python312\\lib\\site-packages (from pydantic->google-generativeai) (2.33.2)\n",
      "Requirement already satisfied: typing-inspection>=0.4.0 in c:\\users\\hp\\appdata\\local\\programs\\python\\python312\\lib\\site-packages (from pydantic->google-generativeai) (0.4.1)\n",
      "Requirement already satisfied: colorama in c:\\users\\hp\\appdata\\local\\programs\\python\\python312\\lib\\site-packages (from tqdm->google-generativeai) (0.4.6)\n",
      "Requirement already satisfied: grpcio<2.0.0,>=1.33.2 in c:\\users\\hp\\appdata\\local\\programs\\python\\python312\\lib\\site-packages (from google-api-core[grpc]!=2.0.*,!=2.1.*,!=2.10.*,!=2.2.*,!=2.3.*,!=2.4.*,!=2.5.*,!=2.6.*,!=2.7.*,!=2.8.*,!=2.9.*,<3.0.0dev,>=1.34.1->google-ai-generativelanguage==0.6.15->google-generativeai) (1.73.1)\n",
      "Requirement already satisfied: grpcio-status<2.0.0,>=1.33.2 in c:\\users\\hp\\appdata\\local\\programs\\python\\python312\\lib\\site-packages (from google-api-core[grpc]!=2.0.*,!=2.1.*,!=2.10.*,!=2.2.*,!=2.3.*,!=2.4.*,!=2.5.*,!=2.6.*,!=2.7.*,!=2.8.*,!=2.9.*,<3.0.0dev,>=1.34.1->google-ai-generativelanguage==0.6.15->google-generativeai) (1.71.2)\n",
      "Requirement already satisfied: pyparsing!=3.0.0,!=3.0.1,!=3.0.2,!=3.0.3,<4,>=2.4.2 in c:\\users\\hp\\appdata\\local\\programs\\python\\python312\\lib\\site-packages (from httplib2<1.0.0,>=0.19.0->google-api-python-client->google-generativeai) (3.2.1)\n",
      "Requirement already satisfied: pyasn1<0.7.0,>=0.6.1 in c:\\users\\hp\\appdata\\local\\programs\\python\\python312\\lib\\site-packages (from pyasn1-modules>=0.2.1->google-auth>=2.15.0->google-generativeai) (0.6.1)\n",
      "Note: you may need to restart the kernel to use updated packages.\n"
     ]
    },
    {
     "name": "stderr",
     "output_type": "stream",
     "text": [
      "\n",
      "[notice] A new release of pip is available: 24.2 -> 25.1.1\n",
      "[notice] To update, run: python.exe -m pip install --upgrade pip\n"
     ]
    }
   ],
   "source": [
    "%pip install requests beautifulsoup4 google-generativeai python-dotenv\n",
    "\n",
    "import os\n",
    "import requests\n",
    "from dotenv import load_dotenv\n",
    "from bs4 import BeautifulSoup\n",
    "from IPython.display import Markdown, display\n",
    "import google.generativeai as genai\n",
    "from urllib.parse import urljoin, urlparse"
   ]
  },
  {
   "cell_type": "code",
   "execution_count": 20,
   "id": "4de67f3d",
   "metadata": {},
   "outputs": [],
   "source": [
    "load_dotenv()\n",
    "genai.configure(api_key=os.getenv(\"GEMINI_API_KEY\"))"
   ]
  },
  {
   "cell_type": "code",
   "execution_count": 21,
   "id": "96c108d0",
   "metadata": {},
   "outputs": [],
   "source": [
    "class Website:\n",
    "    def __init__(self, url: str):\n",
    "        self.url = url\n",
    "        resp = requests.get(url)\n",
    "        resp.raise_for_status()  # Raise an exception for failed HTTP requests\n",
    "        soup = BeautifulSoup(resp.content, 'html.parser')\n",
    "        self.title = soup.title.string if soup.title else 'No title'\n",
    "        \n",
    "        # Remove unwanted tags\n",
    "        for tag in soup.body([\"script\", \"style\", \"img\", \"input\"]):\n",
    "            tag.decompose()\n",
    "        self.text = soup.body.get_text(separator='\\n', strip=True)\n",
    "        \n",
    "        # Extract internal and external links\n",
    "        self.domain = urlparse(url).netloc\n",
    "        self.internal_links = []\n",
    "        self.external_links = []\n",
    "        for a_tag in soup.find_all('a', href=True):\n",
    "            href = a_tag['href']\n",
    "            # Resolve relative URLs to absolute\n",
    "            absolute_url = urljoin(url, href)\n",
    "            # Validate URL\n",
    "            parsed = urlparse(absolute_url)\n",
    "            if parsed.scheme in ('http', 'https') and parsed.netloc:\n",
    "                if parsed.netloc == self.domain:\n",
    "                    self.internal_links.append(absolute_url)\n",
    "                else:\n",
    "                    self.external_links.append(absolute_url)\n",
    "        # Remove duplicates while preserving order\n",
    "        self.internal_links = list(dict.fromkeys(self.internal_links))\n",
    "        self.external_links = list(dict.fromkeys(self.external_links))"
   ]
  },
  {
   "cell_type": "code",
   "execution_count": 22,
   "id": "272ff9f6",
   "metadata": {},
   "outputs": [],
   "source": [
    "system_prompt = (\n",
    "    \"You are an assistant summarizing a website. Provide a short Markdown summary, \"\n",
    "    \"ignoring navigation text, and include any news or announcements. \"\n",
    "    \"Also list a few example internal and external links from the website, if available, \"\n",
    "    \"in the format:\\n\\n\"\n",
    "    \"**Internal Links:**\\n\"\n",
    "    \"- [Link Text](URL)\\n\\n\"\n",
    "    \"**External Links:**\\n\"\n",
    "    \"- [Link Text](URL)\"\n",
    ")"
   ]
  },
  {
   "cell_type": "code",
   "execution_count": 23,
   "id": "e664d8fe",
   "metadata": {},
   "outputs": [],
   "source": [
    "def user_prompt_for(site: Website) -> str:\n",
    "    # Get a few example links (up to 5 each to avoid overwhelming the prompt)\n",
    "    internal_links = site.internal_links[:5]\n",
    "    external_links = site.external_links[:5]\n",
    "    \n",
    "    internal_links_md = \"\\n\".join([f\"- [{link}]({link})\" for link in internal_links]) if internal_links else \"- None\"\n",
    "    external_links_md = \"\\n\".join([f\"- [{link}]({link})\" for link in external_links]) if external_links else \"- None\"\n",
    "    \n",
    "    return (\n",
    "        f\"Website title: **{site.title}**\\n\\n\"\n",
    "        \"Content:\\n\\n\"\n",
    "        f\"{site.text}\\n\\n\"\n",
    "        \"Internal Links:\\n\"\n",
    "        f\"{internal_links_md}\\n\\n\"\n",
    "        \"External Links:\\n\"\n",
    "        f\"{external_links_md}\"\n",
    "    )"
   ]
  },
  {
   "cell_type": "code",
   "execution_count": 24,
   "id": "d2d1f618",
   "metadata": {},
   "outputs": [],
   "source": [
    "def summarize_with_gemini(url: str, model: str = \"gemini-1.5-flash\") -> str:\n",
    "    site = Website(url)\n",
    "    model = genai.GenerativeModel(model)\n",
    "    prompt = f\"{system_prompt}\\n\\n{user_prompt_for(site)}\"\n",
    "    response = model.generate_content(prompt)\n",
    "    return response.text"
   ]
  },
  {
   "cell_type": "code",
   "execution_count": 25,
   "id": "4a553937",
   "metadata": {},
   "outputs": [],
   "source": [
    "def display_and_save_summary(url: str, output_file: str = \"summary.md\"):\n",
    "    summary = summarize_with_gemini(url)\n",
    "    display(Markdown(summary))  # Display in notebook\n",
    "    with open(output_file, 'w', encoding='utf-8') as f:\n",
    "        f.write(summary)  # Save to Markdown file"
   ]
  },
  {
   "cell_type": "code",
   "execution_count": 26,
   "id": "1c57392a",
   "metadata": {},
   "outputs": [
    {
     "data": {
      "text/markdown": [
       "# GeeksforGeeks Summary\n",
       "\n",
       "GeeksforGeeks is an all-in-one learning portal offering a wide range of courses, tutorials, and practice problems covering various computer science topics.  These include data structures and algorithms (DSA), programming languages (Java, Python, C++, JavaScript, etc.), web development, data science, machine learning, DevOps, and more.  The site also features interview preparation resources, job postings, and a placement training program.  Several courses are highlighted, including DSA focused courses, full-stack development courses, and backend development courses, all with student ratings and enrollment numbers.  The site also provides learning resources for school students (classes 9-12).\n",
       "\n",
       "\n",
       "**Internal Links:**\n",
       "- [Learn DSA](https://www.geeksforgeeks.org/learn-data-structures-and-algorithms-dsa-tutorial/)\n",
       "- [Explore](https://www.geeksforgeeks.org/explore)\n",
       "- [C Programming](https://www.geeksforgeeks.org/c-programming-language/)\n",
       "- [C++ Programming](https://www.geeksforgeeks.org/c-plus-plus/)\n",
       "- [Home](https://www.geeksforgeeks.org/)\n",
       "\n",
       "\n",
       "**External Links:**\n",
       "- [DSA Self-Paced Course](https://practice.geeksforgeeks.org/courses/dsa-self-paced)\n",
       "- [Facebook](https://www.facebook.com/geeksforgeeks.org/)\n",
       "- [Instagram](https://www.instagram.com/geeks_for_geeks/)\n",
       "- [LinkedIn](https://in.linkedin.com/company/geeksforgeeks)\n",
       "- [Twitter](https://twitter.com/geeksforgeeks)\n",
       "\n",
       "There are no explicit news or announcements on the provided website text.\n"
      ],
      "text/plain": [
       "<IPython.core.display.Markdown object>"
      ]
     },
     "metadata": {},
     "output_type": "display_data"
    }
   ],
   "source": [
    "display_and_save_summary(\"https://www.geeksforgeeks.org/\")"
   ]
  }
 ],
 "metadata": {
  "kernelspec": {
   "display_name": "Python 3",
   "language": "python",
   "name": "python3"
  },
  "language_info": {
   "codemirror_mode": {
    "name": "ipython",
    "version": 3
   },
   "file_extension": ".py",
   "mimetype": "text/x-python",
   "name": "python",
   "nbconvert_exporter": "python",
   "pygments_lexer": "ipython3",
   "version": "3.12.4"
  }
 },
 "nbformat": 4,
 "nbformat_minor": 5
}
