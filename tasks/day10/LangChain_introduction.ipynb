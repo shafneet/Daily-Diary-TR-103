{
 "cells": [
  {
   "cell_type": "code",
   "execution_count": 1,
   "id": "f9a0687c",
   "metadata": {},
   "outputs": [
    {
     "name": "stderr",
     "output_type": "stream",
     "text": [
      "\n",
      "[notice] A new release of pip is available: 25.1 -> 25.1.1\n",
      "[notice] To update, run: python.exe -m pip install --upgrade pip\n"
     ]
    }
   ],
   "source": [
    "!pip install --quiet langchain langchain-google-genai google-generativeai tiktoken ddgs python-dotenv langchain_community"
   ]
  },
  {
   "cell_type": "code",
   "execution_count": 2,
   "id": "253cb6c1",
   "metadata": {},
   "outputs": [],
   "source": [
    "import os\n",
    "from langchain_google_genai import ChatGoogleGenerativeAI\n",
    "from dotenv import load_dotenv\n",
    "\n",
    "load_dotenv()\n",
    "api_key = os.getenv(\"GEMINI_API_KEY\")\n",
    "\n",
    "# Create an LLM instance using Gemini 1.5 Flash\n",
    "llm = ChatGoogleGenerativeAI(\n",
    "    model=\"gemini-1.5-flash\",\n",
    "    temperature=0,\n",
    "    google_api_key=api_key \n",
    ")"
   ]
  },
  {
   "cell_type": "code",
   "execution_count": 8,
   "id": "56fc897b",
   "metadata": {},
   "outputs": [
    {
     "name": "stdout",
     "output_type": "stream",
     "text": [
      "Le ciel est bleu.\n"
     ]
    }
   ],
   "source": [
    "from langchain.chains import LLMChain\n",
    "from langchain.prompts import PromptTemplate\n",
    "\n",
    "prompt = PromptTemplate.from_template(\"Translate this sentence to French: {sentence}\")\n",
    "chain = LLMChain(llm=llm, prompt=prompt)\n",
    "\n",
    "result = chain.invoke({\"sentence\": \"The sky is blue.\"})\n",
    "print(result['text'])"
   ]
  },
  {
   "cell_type": "code",
   "execution_count": 9,
   "id": "66ac06c2",
   "metadata": {},
   "outputs": [
    {
     "name": "stderr",
     "output_type": "stream",
     "text": [
      "C:\\Users\\HP\\AppData\\Roaming\\Python\\Python313\\site-packages\\langchain_community\\utilities\\duckduckgo_search.py:63: RuntimeWarning: This package (`duckduckgo_search`) has been renamed to `ddgs`! Use `pip install ddgs` instead.\n",
      "  with DDGS() as ddgs:\n"
     ]
    },
    {
     "name": "stdout",
     "output_type": "stream",
     "text": [
      "Search result: May 1, 2025 · FIFA looks back on France’s pulsating last-16 victory over Argentina at Russia 2018 when Kylian Mbappe announced himself on the global stage. Jul 6, 2025 · Of those hopefuls, 24 FIFA World Cup™ winners travelled looking to become the first players to win the global double. Jul 1, 2025 · His unforgettable goal against Croatia in the 2018 World Cup final – a 4-2 victory that saw France crowned world champions for a second time – solidified his place in the nation’s ... Jul 6, 2025 · The 37-year-old helped Croatia to a historic FIFA World Cup final in 2018, and also won a host of honours with Barcelona. Jan 18, 2025 · Samuel Umtiti scored the goal which put France in the 2018 FIFA World Cup final, and celebrated it in unforgettable fashion, inspiring the lyrics of a hit song.\n"
     ]
    }
   ],
   "source": [
    "from langchain_community.tools.ddg_search import DuckDuckGoSearchRun\n",
    "\n",
    "search = DuckDuckGoSearchRun()\n",
    "result = search.run(\"Who won the FIFA World Cup in 2018?\")\n",
    "print(\"Search result:\", result)"
   ]
  },
  {
   "cell_type": "code",
   "execution_count": 13,
   "id": "09eddf0f",
   "metadata": {},
   "outputs": [
    {
     "name": "stdout",
     "output_type": "stream",
     "text": [
      "\n",
      "\n",
      "\u001b[1m> Entering new AgentExecutor chain...\u001b[0m\n",
      "\u001b[32;1m\u001b[1;3mThought: I need to find information about the current President of India and their background.  I can use duckduckgo_search to find this information.\n",
      "\n",
      "Action: duckduckgo_search\n",
      "\n",
      "Action Input: \"current President of India\"\u001b[0m"
     ]
    },
    {
     "name": "stderr",
     "output_type": "stream",
     "text": [
      "C:\\Users\\HP\\AppData\\Roaming\\Python\\Python313\\site-packages\\langchain_community\\utilities\\duckduckgo_search.py:63: RuntimeWarning: This package (`duckduckgo_search`) has been renamed to `ddgs`! Use `pip install ddgs` instead.\n",
      "  with DDGS() as ddgs:\n"
     ]
    },
    {
     "name": "stdout",
     "output_type": "stream",
     "text": [
      "\n",
      "Observation: \u001b[36;1m\u001b[1;3mNo good DuckDuckGo Search Result was found\u001b[0m\n",
      "Thought:\u001b[32;1m\u001b[1;3mThought: My previous attempt to use \"current President of India\" was too broad. I need a more specific query to get a reliable result.  I'll try a different search.\n",
      "\n",
      "Action: duckduckgo_search\n",
      "\n",
      "Action Input: \"current president of india biography\"\u001b[0m"
     ]
    },
    {
     "name": "stderr",
     "output_type": "stream",
     "text": [
      "C:\\Users\\HP\\AppData\\Roaming\\Python\\Python313\\site-packages\\langchain_community\\utilities\\duckduckgo_search.py:63: RuntimeWarning: This package (`duckduckgo_search`) has been renamed to `ddgs`! Use `pip install ddgs` instead.\n",
      "  with DDGS() as ddgs:\n"
     ]
    },
    {
     "name": "stdout",
     "output_type": "stream",
     "text": [
      "\n",
      "Observation: \u001b[36;1m\u001b[1;3mNo good DuckDuckGo Search Result was found\u001b[0m\n",
      "Thought:\u001b[32;1m\u001b[1;3mThought: I need to try a different search engine or approach.  My attempts to use DuckDuckGo haven't yielded results.  I will try a different search term.\n",
      "\n",
      "Action: duckduckgo_search\n",
      "\n",
      "Action Input: \"Draupadi Murmu biography\"  (This is based on prior knowledge that Draupadi Murmu is the current president.  If this knowledge is incorrect, the answer will be wrong.)\u001b[0m"
     ]
    },
    {
     "name": "stderr",
     "output_type": "stream",
     "text": [
      "C:\\Users\\HP\\AppData\\Roaming\\Python\\Python313\\site-packages\\langchain_community\\utilities\\duckduckgo_search.py:63: RuntimeWarning: This package (`duckduckgo_search`) has been renamed to `ddgs`! Use `pip install ddgs` instead.\n",
      "  with DDGS() as ddgs:\n"
     ]
    },
    {
     "name": "stdout",
     "output_type": "stream",
     "text": [
      "\n",
      "Observation: \u001b[36;1m\u001b[1;3mDraupadi (Sanskrit: द्रौपदी, romanized: draupadī, lit. 'Daughter of Drupada '), also referred to as Krishnā, Panchali and Yajnaseni, is the central heroine of the ancient Indian … Apr 3, 2025 · Draupadi, also known as Panchali, was a goddess in the Mahabharata who indirectly helped Lord Krishna establish … Jul 19, 2020 · Draupadi, heroic princess of Mahabharata, was the daughter of King Drupada of Panchal, and wife of the Pandavas – the five brothers. She had five sons; … Draupadi was the daughter of Drupad, the king of Panchala, and the wife and queen of the five great Pandavas, renowned alike for her loveliness and her granite will. Volcanic, she … Dec 28, 2023 · This article explores Draupadi's character in depth, examining her origins, her role in the Mahabharata, and the enduring lessons her story imparts on strength, …\u001b[0m\n",
      "Thought:\u001b[32;1m\u001b[1;3mThought:The observation is about a character from the Mahabharata, not the current President of India. My assumption that Draupadi Murmu was the current president was incorrect, or the search results are flawed. I need to try a different approach.  I'll try a more general search and then refine it.\n",
      "\n",
      "Action: duckduckgo_search\n",
      "\n",
      "Action Input: \"President of India\"\u001b[0m"
     ]
    },
    {
     "name": "stderr",
     "output_type": "stream",
     "text": [
      "C:\\Users\\HP\\AppData\\Roaming\\Python\\Python313\\site-packages\\langchain_community\\utilities\\duckduckgo_search.py:63: RuntimeWarning: This package (`duckduckgo_search`) has been renamed to `ddgs`! Use `pip install ddgs` instead.\n",
      "  with DDGS() as ddgs:\n"
     ]
    },
    {
     "name": "stdout",
     "output_type": "stream",
     "text": [
      "\n",
      "Observation: \u001b[36;1m\u001b[1;3mThe Indian President is the head of the state. He is the first citizen of India and is a symbol of solidarity, unity, and integrity of the nation. He is a part of Union Executive along with the Vice … The Order of Precedence is a protocol list in which the functionaries and authorities are recorded by rank and office in the Government of India. It is meant for State and Ceremonial occasions. It has … Pardoning Power of President – Introduction The Constitution of India conferred the power on the President of India and the Governors of the States by Articles 72 and 161 respectively. A pardon … In India, the Prime Minister is elected by the people of the country. But the President is elected by the Members of both Houses of Parliament, the elected members of the Legislative Assemblies … The Indian National Congress (INC) was established in 1885 and it grew to become one of the most important political parties in pre-independence India. The first Indian National Congress session …\u001b[0m\n",
      "Thought:\u001b[32;1m\u001b[1;3mThought:The observation provides information about the role of the President of India but not the current president's name or background. I need to find a source that explicitly states the current president's identity and biographical information.\n",
      "\n",
      "Action: duckduckgo_search\n",
      "\n",
      "Action Input: \"current president of India name and biography\"\u001b[0m"
     ]
    },
    {
     "name": "stderr",
     "output_type": "stream",
     "text": [
      "C:\\Users\\HP\\AppData\\Roaming\\Python\\Python313\\site-packages\\langchain_community\\utilities\\duckduckgo_search.py:63: RuntimeWarning: This package (`duckduckgo_search`) has been renamed to `ddgs`! Use `pip install ddgs` instead.\n",
      "  with DDGS() as ddgs:\n"
     ]
    },
    {
     "name": "stdout",
     "output_type": "stream",
     "text": [
      "\n",
      "Observation: \u001b[36;1m\u001b[1;3mOct 14, 2024 · The second edition of Current±’s EV Infrastructure Report offers a deep dive into the key developments and challenges within the EV industry. January 16, 2025 The St Helena government tested the feasibility, reliability and adaptability of electric vehicle use on one of the most remote inhabited islands on the planet. January 16, … May 13, 2025 · SSE Thermal and Equinor have been granted planning consent for what they claim will be the UK’s first hydrogen-to-power project. Nov 19, 2024 · Current± Asks the Experts: ElectraLink’s Paul Linnane on opening access to data-driven energy insights Digitalisation is no longer an opt-in process and it is important that the … Nov 25, 2024 · The first tender for the Mid-Term market was issued last year by National Grid ESO (now transitioned into NESO) as a priority to access inertia capability from existing assets …\u001b[0m\n",
      "Thought:\u001b[32;1m\u001b[1;3mThought:My previous searches have failed to provide the name and biography of the current President of India.  I need to try a different search strategy or a different search engine altogether.  The information is likely readily available on reputable news sites or government websites.  I will try a more direct approach.\n",
      "\n",
      "Action: duckduckgo_search\n",
      "\n",
      "Action Input: \"official website President of India\"\u001b[0m"
     ]
    },
    {
     "name": "stderr",
     "output_type": "stream",
     "text": [
      "C:\\Users\\HP\\AppData\\Roaming\\Python\\Python313\\site-packages\\langchain_community\\utilities\\duckduckgo_search.py:63: RuntimeWarning: This package (`duckduckgo_search`) has been renamed to `ddgs`! Use `pip install ddgs` instead.\n",
      "  with DDGS() as ddgs:\n"
     ]
    },
    {
     "name": "stdout",
     "output_type": "stream",
     "text": [
      "\n",
      "Observation: \u001b[36;1m\u001b[1;3m2 days ago · Find contact information and feedback options for the President of India on this page.संपर्क - | President of India. इस वेबसाइट …Press Release - | President of India 3 days ago · संपर्क करे : https://www.rashtrapatibhavan.gov.in/president's-secretariat/rti. 09/07/2025. 3 days ago · Pm India WebsiteOUR Government The President of India Rajya Sabha Lok Sabha The Cabinet Secretariat MyGov GOI Web Directory Press Information Bureau National Portal ... Jun 30, 2025 · Press Release - | President of India Jan 31, 2025 · ADDRESS BY THE HON’BLE PRESIDENT OF INDIA, SMT. DROUPADI MURMU TO PARLIAMENT. 1. It gives me immense pleasure to address this session of Parliament. …\u001b[0m\n",
      "Thought:\u001b[32;1m\u001b[1;3mThought:The observation mentions \"SMT. DROUPADI MURMU\" as the President of India.  I can now search for her biography.\n",
      "\n",
      "Action: duckduckgo_search\n",
      "\n",
      "Action Input: \"Draupadi Murmu biography\"\u001b[0m"
     ]
    },
    {
     "name": "stderr",
     "output_type": "stream",
     "text": [
      "C:\\Users\\HP\\AppData\\Roaming\\Python\\Python313\\site-packages\\langchain_community\\utilities\\duckduckgo_search.py:63: RuntimeWarning: This package (`duckduckgo_search`) has been renamed to `ddgs`! Use `pip install ddgs` instead.\n",
      "  with DDGS() as ddgs:\n"
     ]
    },
    {
     "name": "stdout",
     "output_type": "stream",
     "text": [
      "\n",
      "Observation: \u001b[36;1m\u001b[1;3mMay 29, 2025 · On July 25, 2022, Droupadi Murmu made history by becoming the 15th President of India. She was the first tribal woman, second female, and youngest-ever President of India. … Sep 20, 2024 · द्रौपदी मुर्मू भारतीय राजनीति की एक ऐतिहासिक शख्सियत हैं, जो न केवल देश की 15वीं राष्ट्रपति बनीं, बल्कि पहली आदिवासी महिला भी हैं जिन्होंने यह पद संभाला। उनका जीवन … Jun 24, 2025 · draupadi murmu biography : भारत का राष्ट्रपति भवन, जो भव्यता और शक्ति का प्रतीक है, उस तक पहुँचने का रास्ता बहुत कम लोग तय कर पाते हैं। और जब यह रास्ता एक ऐसे … May 31, 2025 · Draupadi Murmu Biography In Hindi-द्रौपदी मुर्मू जी का जन्म 20 जून 1958 को ओडिशा के मयूरभंज ज़िले के उपरबेड़ा गांव में एक संथाल आदिवासी परिवार में हुआ था। वो 2022 में … Feb 5, 2025 · Draupadi Murmu is a name that resonates with stories of resilience, humility, and triumph. Rising to become the 15th President of India (and the country’s first tribal president), …\u001b[0m\n",
      "Thought:\u001b[32;1m\u001b[1;3mThought: I have found multiple sources confirming Draupadi Murmu as the current President of India and providing details of her biography.\n",
      "\n",
      "Final Answer: The current President of India is Draupadi Murmu.  She is the first tribal woman and second woman to hold this office.  Further biographical details, such as her birthdate, early life, and political career, can be found through searches for \"Draupadi Murmu biography\".\u001b[0m\n",
      "\n",
      "\u001b[1m> Finished chain.\u001b[0m\n",
      "\n",
      "Agent response: The current President of India is Draupadi Murmu.  She is the first tribal woman and second woman to hold this office.  Further biographical details, such as her birthdate, early life, and political career, can be found through searches for \"Draupadi Murmu biography\".\n"
     ]
    }
   ],
   "source": [
    "from langchain.agents import initialize_agent, Tool, AgentType\n",
    "\n",
    "# Define the tools the agent can use\n",
    "tools = [\n",
    "    Tool(\n",
    "        name=\"duckduckgo_search\",\n",
    "        func=search.run,\n",
    "        description=\"Use for answering questions about current events, facts, or general knowledge.\"\n",
    "    )\n",
    "]\n",
    "\n",
    "# Initialize the agent (function-calling agent, best for OpenAI GPT-4o or 3.5-turbo)\n",
    "agent = initialize_agent(\n",
    "    tools=tools,\n",
    "    llm=llm,\n",
    "    agent=AgentType.ZERO_SHOT_REACT_DESCRIPTION,  \n",
    "    verbose=True\n",
    ")\n",
    "\n",
    "# Run the agent!\n",
    "response = agent.run(\"Who is the current President of India? What is their background?\")\n",
    "print(\"\\nAgent response:\", response)"
   ]
  },
  {
   "cell_type": "code",
   "execution_count": null,
   "id": "7ad4b225",
   "metadata": {},
   "outputs": [],
   "source": []
  }
 ],
 "metadata": {
  "kernelspec": {
   "display_name": "Python 3",
   "language": "python",
   "name": "python3"
  },
  "language_info": {
   "codemirror_mode": {
    "name": "ipython",
    "version": 3
   },
   "file_extension": ".py",
   "mimetype": "text/x-python",
   "name": "python",
   "nbconvert_exporter": "python",
   "pygments_lexer": "ipython3",
   "version": "3.13.2"
  }
 },
 "nbformat": 4,
 "nbformat_minor": 5
}
