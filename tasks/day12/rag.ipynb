{
 "cells": [
  {
   "cell_type": "markdown",
   "id": "fc106b6f",
   "metadata": {},
   "source": [
    "# RAG Model (Pipeline)"
   ]
  },
  {
   "cell_type": "code",
   "execution_count": 50,
   "id": "1676fd34",
   "metadata": {},
   "outputs": [
    {
     "name": "stdout",
     "output_type": "stream",
     "text": [
      "Defaulting to user installation because normal site-packages is not writeable\n",
      "Requirement already satisfied: PyPDF2 in c:\\users\\hp\\appdata\\roaming\\python\\python313\\site-packages (3.0.1)\n",
      "Requirement already satisfied: chromadb in c:\\users\\hp\\appdata\\roaming\\python\\python313\\site-packages (1.0.15)\n",
      "Requirement already satisfied: google-generativeai in c:\\users\\hp\\appdata\\roaming\\python\\python313\\site-packages (0.8.5)\n",
      "Requirement already satisfied: python-dotenv in c:\\users\\hp\\appdata\\roaming\\python\\python313\\site-packages (1.1.1)\n",
      "Requirement already satisfied: build>=1.0.3 in c:\\users\\hp\\appdata\\roaming\\python\\python313\\site-packages (from chromadb) (1.2.2.post1)\n",
      "Requirement already satisfied: pydantic>=1.9 in c:\\users\\hp\\appdata\\roaming\\python\\python313\\site-packages (from chromadb) (2.11.7)\n",
      "Requirement already satisfied: pybase64>=1.4.1 in c:\\users\\hp\\appdata\\roaming\\python\\python313\\site-packages (from chromadb) (1.4.1)\n",
      "Requirement already satisfied: uvicorn>=0.18.3 in c:\\users\\hp\\appdata\\roaming\\python\\python313\\site-packages (from uvicorn[standard]>=0.18.3->chromadb) (0.35.0)\n",
      "Requirement already satisfied: numpy>=1.22.5 in c:\\users\\hp\\appdata\\roaming\\python\\python313\\site-packages (from chromadb) (2.3.1)\n",
      "Requirement already satisfied: posthog<6.0.0,>=2.4.0 in c:\\users\\hp\\appdata\\roaming\\python\\python313\\site-packages (from chromadb) (5.4.0)\n",
      "Requirement already satisfied: typing-extensions>=4.5.0 in c:\\users\\hp\\appdata\\roaming\\python\\python313\\site-packages (from chromadb) (4.13.2)\n",
      "Requirement already satisfied: onnxruntime>=1.14.1 in c:\\users\\hp\\appdata\\roaming\\python\\python313\\site-packages (from chromadb) (1.22.1)\n",
      "Requirement already satisfied: opentelemetry-api>=1.2.0 in c:\\users\\hp\\appdata\\roaming\\python\\python313\\site-packages (from chromadb) (1.35.0)\n",
      "Requirement already satisfied: opentelemetry-exporter-otlp-proto-grpc>=1.2.0 in c:\\users\\hp\\appdata\\roaming\\python\\python313\\site-packages (from chromadb) (1.35.0)\n",
      "Requirement already satisfied: opentelemetry-sdk>=1.2.0 in c:\\users\\hp\\appdata\\roaming\\python\\python313\\site-packages (from chromadb) (1.35.0)\n",
      "Requirement already satisfied: tokenizers>=0.13.2 in c:\\users\\hp\\appdata\\roaming\\python\\python313\\site-packages (from chromadb) (0.21.2)\n",
      "Requirement already satisfied: pypika>=0.48.9 in c:\\users\\hp\\appdata\\roaming\\python\\python313\\site-packages (from chromadb) (0.48.9)\n",
      "Requirement already satisfied: tqdm>=4.65.0 in c:\\users\\hp\\appdata\\roaming\\python\\python313\\site-packages (from chromadb) (4.67.1)\n",
      "Requirement already satisfied: overrides>=7.3.1 in c:\\users\\hp\\appdata\\roaming\\python\\python313\\site-packages (from chromadb) (7.7.0)\n",
      "Requirement already satisfied: importlib-resources in c:\\users\\hp\\appdata\\roaming\\python\\python313\\site-packages (from chromadb) (6.5.2)\n",
      "Requirement already satisfied: grpcio>=1.58.0 in c:\\users\\hp\\appdata\\roaming\\python\\python313\\site-packages (from chromadb) (1.73.1)\n",
      "Requirement already satisfied: bcrypt>=4.0.1 in c:\\users\\hp\\appdata\\roaming\\python\\python313\\site-packages (from chromadb) (4.3.0)\n",
      "Requirement already satisfied: typer>=0.9.0 in c:\\users\\hp\\appdata\\roaming\\python\\python313\\site-packages (from chromadb) (0.16.0)\n",
      "Requirement already satisfied: kubernetes>=28.1.0 in c:\\users\\hp\\appdata\\roaming\\python\\python313\\site-packages (from chromadb) (33.1.0)\n",
      "Requirement already satisfied: tenacity>=8.2.3 in c:\\users\\hp\\appdata\\roaming\\python\\python313\\site-packages (from chromadb) (8.5.0)\n",
      "Requirement already satisfied: pyyaml>=6.0.0 in c:\\users\\hp\\appdata\\roaming\\python\\python313\\site-packages (from chromadb) (6.0.2)\n",
      "Requirement already satisfied: mmh3>=4.0.1 in c:\\users\\hp\\appdata\\roaming\\python\\python313\\site-packages (from chromadb) (5.1.0)\n",
      "Requirement already satisfied: orjson>=3.9.12 in c:\\users\\hp\\appdata\\roaming\\python\\python313\\site-packages (from chromadb) (3.10.18)\n",
      "Requirement already satisfied: httpx>=0.27.0 in c:\\users\\hp\\appdata\\roaming\\python\\python313\\site-packages (from chromadb) (0.28.1)\n",
      "Requirement already satisfied: rich>=10.11.0 in c:\\users\\hp\\appdata\\roaming\\python\\python313\\site-packages (from chromadb) (14.0.0)\n",
      "Requirement already satisfied: jsonschema>=4.19.0 in c:\\users\\hp\\appdata\\roaming\\python\\python313\\site-packages (from chromadb) (4.24.0)\n",
      "Requirement already satisfied: requests<3.0,>=2.7 in c:\\users\\hp\\appdata\\roaming\\python\\python313\\site-packages (from posthog<6.0.0,>=2.4.0->chromadb) (2.32.4)\n",
      "Requirement already satisfied: six>=1.5 in c:\\users\\hp\\appdata\\roaming\\python\\python313\\site-packages (from posthog<6.0.0,>=2.4.0->chromadb) (1.17.0)\n",
      "Requirement already satisfied: python-dateutil>=2.2 in c:\\users\\hp\\appdata\\roaming\\python\\python313\\site-packages (from posthog<6.0.0,>=2.4.0->chromadb) (2.9.0.post0)\n",
      "Requirement already satisfied: backoff>=1.10.0 in c:\\users\\hp\\appdata\\roaming\\python\\python313\\site-packages (from posthog<6.0.0,>=2.4.0->chromadb) (2.2.1)\n",
      "Requirement already satisfied: distro>=1.5.0 in c:\\users\\hp\\appdata\\roaming\\python\\python313\\site-packages (from posthog<6.0.0,>=2.4.0->chromadb) (1.9.0)\n",
      "Requirement already satisfied: charset_normalizer<4,>=2 in c:\\users\\hp\\appdata\\roaming\\python\\python313\\site-packages (from requests<3.0,>=2.7->posthog<6.0.0,>=2.4.0->chromadb) (3.4.2)\n",
      "Requirement already satisfied: idna<4,>=2.5 in c:\\users\\hp\\appdata\\roaming\\python\\python313\\site-packages (from requests<3.0,>=2.7->posthog<6.0.0,>=2.4.0->chromadb) (3.10)\n",
      "Requirement already satisfied: urllib3<3,>=1.21.1 in c:\\users\\hp\\appdata\\roaming\\python\\python313\\site-packages (from requests<3.0,>=2.7->posthog<6.0.0,>=2.4.0->chromadb) (2.5.0)\n",
      "Requirement already satisfied: certifi>=2017.4.17 in c:\\users\\hp\\appdata\\roaming\\python\\python313\\site-packages (from requests<3.0,>=2.7->posthog<6.0.0,>=2.4.0->chromadb) (2025.6.15)\n",
      "Requirement already satisfied: google-ai-generativelanguage==0.6.15 in c:\\users\\hp\\appdata\\roaming\\python\\python313\\site-packages (from google-generativeai) (0.6.15)\n",
      "Requirement already satisfied: google-api-core in c:\\users\\hp\\appdata\\roaming\\python\\python313\\site-packages (from google-generativeai) (2.25.1)\n",
      "Requirement already satisfied: google-api-python-client in c:\\users\\hp\\appdata\\roaming\\python\\python313\\site-packages (from google-generativeai) (2.175.0)\n",
      "Requirement already satisfied: google-auth>=2.15.0 in c:\\users\\hp\\appdata\\roaming\\python\\python313\\site-packages (from google-generativeai) (2.40.3)\n",
      "Requirement already satisfied: protobuf in c:\\users\\hp\\appdata\\roaming\\python\\python313\\site-packages (from google-generativeai) (5.29.5)\n",
      "Requirement already satisfied: proto-plus<2.0.0dev,>=1.22.3 in c:\\users\\hp\\appdata\\roaming\\python\\python313\\site-packages (from google-ai-generativelanguage==0.6.15->google-generativeai) (1.26.1)\n",
      "Requirement already satisfied: googleapis-common-protos<2.0.0,>=1.56.2 in c:\\users\\hp\\appdata\\roaming\\python\\python313\\site-packages (from google-api-core->google-generativeai) (1.70.0)\n",
      "Requirement already satisfied: grpcio-status<2.0.0,>=1.33.2 in c:\\users\\hp\\appdata\\roaming\\python\\python313\\site-packages (from google-api-core[grpc]!=2.0.*,!=2.1.*,!=2.10.*,!=2.2.*,!=2.3.*,!=2.4.*,!=2.5.*,!=2.6.*,!=2.7.*,!=2.8.*,!=2.9.*,<3.0.0dev,>=1.34.1->google-ai-generativelanguage==0.6.15->google-generativeai) (1.71.2)\n",
      "Requirement already satisfied: cachetools<6.0,>=2.0.0 in c:\\users\\hp\\appdata\\roaming\\python\\python313\\site-packages (from google-auth>=2.15.0->google-generativeai) (5.5.2)\n",
      "Requirement already satisfied: pyasn1-modules>=0.2.1 in c:\\users\\hp\\appdata\\roaming\\python\\python313\\site-packages (from google-auth>=2.15.0->google-generativeai) (0.4.2)\n",
      "Requirement already satisfied: rsa<5,>=3.1.4 in c:\\users\\hp\\appdata\\roaming\\python\\python313\\site-packages (from google-auth>=2.15.0->google-generativeai) (4.9.1)\n",
      "Requirement already satisfied: pyasn1>=0.1.3 in c:\\users\\hp\\appdata\\roaming\\python\\python313\\site-packages (from rsa<5,>=3.1.4->google-auth>=2.15.0->google-generativeai) (0.6.1)\n",
      "Requirement already satisfied: packaging>=19.1 in c:\\users\\hp\\appdata\\roaming\\python\\python313\\site-packages (from build>=1.0.3->chromadb) (24.2)\n",
      "Requirement already satisfied: pyproject_hooks in c:\\users\\hp\\appdata\\roaming\\python\\python313\\site-packages (from build>=1.0.3->chromadb) (1.2.0)\n",
      "Requirement already satisfied: colorama in c:\\users\\hp\\appdata\\roaming\\python\\python313\\site-packages (from build>=1.0.3->chromadb) (0.4.6)\n",
      "Requirement already satisfied: anyio in c:\\users\\hp\\appdata\\roaming\\python\\python313\\site-packages (from httpx>=0.27.0->chromadb) (4.9.0)\n",
      "Requirement already satisfied: httpcore==1.* in c:\\users\\hp\\appdata\\roaming\\python\\python313\\site-packages (from httpx>=0.27.0->chromadb) (1.0.9)\n",
      "Requirement already satisfied: h11>=0.16 in c:\\users\\hp\\appdata\\roaming\\python\\python313\\site-packages (from httpcore==1.*->httpx>=0.27.0->chromadb) (0.16.0)\n",
      "Requirement already satisfied: attrs>=22.2.0 in c:\\users\\hp\\appdata\\roaming\\python\\python313\\site-packages (from jsonschema>=4.19.0->chromadb) (25.3.0)\n",
      "Requirement already satisfied: jsonschema-specifications>=2023.03.6 in c:\\users\\hp\\appdata\\roaming\\python\\python313\\site-packages (from jsonschema>=4.19.0->chromadb) (2025.4.1)\n",
      "Requirement already satisfied: referencing>=0.28.4 in c:\\users\\hp\\appdata\\roaming\\python\\python313\\site-packages (from jsonschema>=4.19.0->chromadb) (0.36.2)\n",
      "Requirement already satisfied: rpds-py>=0.7.1 in c:\\users\\hp\\appdata\\roaming\\python\\python313\\site-packages (from jsonschema>=4.19.0->chromadb) (0.26.0)\n",
      "Requirement already satisfied: websocket-client!=0.40.0,!=0.41.*,!=0.42.*,>=0.32.0 in c:\\users\\hp\\appdata\\roaming\\python\\python313\\site-packages (from kubernetes>=28.1.0->chromadb) (1.8.0)\n",
      "Requirement already satisfied: requests-oauthlib in c:\\users\\hp\\appdata\\roaming\\python\\python313\\site-packages (from kubernetes>=28.1.0->chromadb) (2.0.0)\n",
      "Requirement already satisfied: oauthlib>=3.2.2 in c:\\users\\hp\\appdata\\roaming\\python\\python313\\site-packages (from kubernetes>=28.1.0->chromadb) (3.3.1)\n",
      "Requirement already satisfied: durationpy>=0.7 in c:\\users\\hp\\appdata\\roaming\\python\\python313\\site-packages (from kubernetes>=28.1.0->chromadb) (0.10)\n",
      "Requirement already satisfied: coloredlogs in c:\\users\\hp\\appdata\\roaming\\python\\python313\\site-packages (from onnxruntime>=1.14.1->chromadb) (15.0.1)\n",
      "Requirement already satisfied: flatbuffers in c:\\users\\hp\\appdata\\roaming\\python\\python313\\site-packages (from onnxruntime>=1.14.1->chromadb) (25.2.10)\n",
      "Requirement already satisfied: sympy in c:\\users\\hp\\appdata\\roaming\\python\\python313\\site-packages (from onnxruntime>=1.14.1->chromadb) (1.14.0)\n",
      "Requirement already satisfied: importlib-metadata<8.8.0,>=6.0 in c:\\users\\hp\\appdata\\roaming\\python\\python313\\site-packages (from opentelemetry-api>=1.2.0->chromadb) (8.7.0)\n",
      "Requirement already satisfied: zipp>=3.20 in c:\\users\\hp\\appdata\\roaming\\python\\python313\\site-packages (from importlib-metadata<8.8.0,>=6.0->opentelemetry-api>=1.2.0->chromadb) (3.23.0)\n",
      "Requirement already satisfied: opentelemetry-exporter-otlp-proto-common==1.35.0 in c:\\users\\hp\\appdata\\roaming\\python\\python313\\site-packages (from opentelemetry-exporter-otlp-proto-grpc>=1.2.0->chromadb) (1.35.0)\n",
      "Requirement already satisfied: opentelemetry-proto==1.35.0 in c:\\users\\hp\\appdata\\roaming\\python\\python313\\site-packages (from opentelemetry-exporter-otlp-proto-grpc>=1.2.0->chromadb) (1.35.0)\n",
      "Requirement already satisfied: opentelemetry-semantic-conventions==0.56b0 in c:\\users\\hp\\appdata\\roaming\\python\\python313\\site-packages (from opentelemetry-sdk>=1.2.0->chromadb) (0.56b0)\n",
      "Requirement already satisfied: annotated-types>=0.6.0 in c:\\users\\hp\\appdata\\roaming\\python\\python313\\site-packages (from pydantic>=1.9->chromadb) (0.7.0)\n",
      "Requirement already satisfied: pydantic-core==2.33.2 in c:\\users\\hp\\appdata\\roaming\\python\\python313\\site-packages (from pydantic>=1.9->chromadb) (2.33.2)\n",
      "Requirement already satisfied: typing-inspection>=0.4.0 in c:\\users\\hp\\appdata\\roaming\\python\\python313\\site-packages (from pydantic>=1.9->chromadb) (0.4.1)\n",
      "Requirement already satisfied: markdown-it-py>=2.2.0 in c:\\users\\hp\\appdata\\roaming\\python\\python313\\site-packages (from rich>=10.11.0->chromadb) (3.0.0)\n",
      "Requirement already satisfied: pygments<3.0.0,>=2.13.0 in c:\\users\\hp\\appdata\\roaming\\python\\python313\\site-packages (from rich>=10.11.0->chromadb) (2.19.1)\n",
      "Requirement already satisfied: mdurl~=0.1 in c:\\users\\hp\\appdata\\roaming\\python\\python313\\site-packages (from markdown-it-py>=2.2.0->rich>=10.11.0->chromadb) (0.1.2)\n",
      "Requirement already satisfied: huggingface-hub<1.0,>=0.16.4 in c:\\users\\hp\\appdata\\roaming\\python\\python313\\site-packages (from tokenizers>=0.13.2->chromadb) (0.33.2)\n",
      "Requirement already satisfied: filelock in c:\\users\\hp\\appdata\\roaming\\python\\python313\\site-packages (from huggingface-hub<1.0,>=0.16.4->tokenizers>=0.13.2->chromadb) (3.18.0)\n",
      "Requirement already satisfied: fsspec>=2023.5.0 in c:\\users\\hp\\appdata\\roaming\\python\\python313\\site-packages (from huggingface-hub<1.0,>=0.16.4->tokenizers>=0.13.2->chromadb) (2025.3.2)\n",
      "Requirement already satisfied: click>=8.0.0 in c:\\users\\hp\\appdata\\roaming\\python\\python313\\site-packages (from typer>=0.9.0->chromadb) (8.1.8)\n",
      "Requirement already satisfied: shellingham>=1.3.0 in c:\\users\\hp\\appdata\\roaming\\python\\python313\\site-packages (from typer>=0.9.0->chromadb) (1.5.4)\n",
      "Requirement already satisfied: httptools>=0.6.3 in c:\\users\\hp\\appdata\\roaming\\python\\python313\\site-packages (from uvicorn[standard]>=0.18.3->chromadb) (0.6.4)\n",
      "Requirement already satisfied: watchfiles>=0.13 in c:\\users\\hp\\appdata\\roaming\\python\\python313\\site-packages (from uvicorn[standard]>=0.18.3->chromadb) (1.1.0)\n",
      "Requirement already satisfied: websockets>=10.4 in c:\\users\\hp\\appdata\\roaming\\python\\python313\\site-packages (from uvicorn[standard]>=0.18.3->chromadb) (15.0.1)\n",
      "Requirement already satisfied: sniffio>=1.1 in c:\\users\\hp\\appdata\\roaming\\python\\python313\\site-packages (from anyio->httpx>=0.27.0->chromadb) (1.3.1)\n",
      "Requirement already satisfied: humanfriendly>=9.1 in c:\\users\\hp\\appdata\\roaming\\python\\python313\\site-packages (from coloredlogs->onnxruntime>=1.14.1->chromadb) (10.0)\n",
      "Requirement already satisfied: pyreadline3 in c:\\users\\hp\\appdata\\roaming\\python\\python313\\site-packages (from humanfriendly>=9.1->coloredlogs->onnxruntime>=1.14.1->chromadb) (3.5.4)\n",
      "Requirement already satisfied: httplib2<1.0.0,>=0.19.0 in c:\\users\\hp\\appdata\\roaming\\python\\python313\\site-packages (from google-api-python-client->google-generativeai) (0.22.0)\n",
      "Requirement already satisfied: google-auth-httplib2<1.0.0,>=0.2.0 in c:\\users\\hp\\appdata\\roaming\\python\\python313\\site-packages (from google-api-python-client->google-generativeai) (0.2.0)\n",
      "Requirement already satisfied: uritemplate<5,>=3.0.1 in c:\\users\\hp\\appdata\\roaming\\python\\python313\\site-packages (from google-api-python-client->google-generativeai) (4.2.0)\n",
      "Requirement already satisfied: pyparsing!=3.0.0,!=3.0.1,!=3.0.2,!=3.0.3,<4,>=2.4.2 in c:\\users\\hp\\appdata\\roaming\\python\\python313\\site-packages (from httplib2<1.0.0,>=0.19.0->google-api-python-client->google-generativeai) (3.2.3)\n",
      "Requirement already satisfied: mpmath<1.4,>=1.1.0 in c:\\users\\hp\\appdata\\roaming\\python\\python313\\site-packages (from sympy->onnxruntime>=1.14.1->chromadb) (1.3.0)\n"
     ]
    },
    {
     "name": "stderr",
     "output_type": "stream",
     "text": [
      "\n",
      "[notice] A new release of pip is available: 25.1 -> 25.1.1\n",
      "[notice] To update, run: python.exe -m pip install --upgrade pip\n"
     ]
    }
   ],
   "source": [
    "# Install required libraries\n",
    "!pip install PyPDF2 chromadb google-generativeai python-dotenv"
   ]
  },
  {
   "cell_type": "markdown",
   "id": "1b072013",
   "metadata": {},
   "source": [
    "# Step1: Indexing"
   ]
  },
  {
   "cell_type": "code",
   "execution_count": 51,
   "id": "9272dd8c",
   "metadata": {},
   "outputs": [],
   "source": [
    "# Import libraries and configure API key from .env for embedding and storage\n",
    "\n",
    "# Import required libraries\n",
    "from PyPDF2 import PdfReader\n",
    "from chromadb import PersistentClient\n",
    "from typing import List\n",
    "import google.generativeai as genai\n",
    "from google.generativeai import GenerativeModel, embed_content\n",
    "from dotenv import load_dotenv\n",
    "import os\n",
    "\n",
    "# Load environment variables from .env file\n",
    "load_dotenv()\n",
    "\n",
    "# Get API key from .env\n",
    "api_key = os.getenv(\"GEMINI_API_KEY\")\n",
    "if not api_key:\n",
    "    raise ValueError(\"GEMINI_API_KEY not found in .env file. Please check your .env file and ensure it contains a valid key.\")\n",
    "\n",
    "# Configure the Gemini API key\n",
    "from google.generativeai import configure\n",
    "configure(api_key=api_key)\n",
    "\n",
    "# Custom embedding function for Gemini\n",
    "def gemini_embedding_function(texts: List[str]):\n",
    "    embeddings = embed_content(model=\"models/embedding-001\", content=texts, task_type=\"RETRIEVAL_DOCUMENT\")\n",
    "    # Debug: Print the type and structure of embeddings\n",
    "    print(f\"Embeddings type: {type(embeddings)}, Content: {embeddings}\")\n",
    "    # Extract the embedding vector list directly\n",
    "    return embeddings['embedding']\n",
    "\n",
    "# Initialize ChromaDB client\n",
    "client = PersistentClient(path=\"./chroma_store\")"
   ]
  },
  {
   "cell_type": "code",
   "execution_count": 52,
   "id": "2984cff7",
   "metadata": {},
   "outputs": [
    {
     "name": "stdout",
     "output_type": "stream",
     "text": [
      "Number of chunks created: 2\n"
     ]
    }
   ],
   "source": [
    "# Load PDF document and split text into chunks\n",
    "\n",
    "# Function to load PDF and extract text\n",
    "def load_doc(file_path: str) -> str:\n",
    "    doc = PdfReader(file_path)\n",
    "    text = \"\"\n",
    "    for page in doc.pages:\n",
    "        text += page.extract_text()\n",
    "    return text\n",
    "\n",
    "# Load the PDF\n",
    "file_path = \"Prompt Engineering Notes.pdf\"\n",
    "raw_text = load_doc(file_path)\n",
    "\n",
    "# Function to chunk text\n",
    "def chunk_text(text: str, chunk_size: int = 1000) -> List[str]:\n",
    "    return [text[i:i + chunk_size] for i in range(0, len(text), chunk_size)]\n",
    "\n",
    "# Split text into chunks\n",
    "chunks = chunk_text(raw_text)\n",
    "print(f\"Number of chunks created: {len(chunks)}\")"
   ]
  },
  {
   "cell_type": "code",
   "execution_count": 53,
   "id": "240ab0fc",
   "metadata": {},
   "outputs": [
    {
     "name": "stdout",
     "output_type": "stream",
     "text": [
      "Embeddings type: <class 'dict'>, Content: {'embedding': [[-0.0038651999, -0.057339083, -0.013568151, 0.0008058864, 0.04618785, 0.05861834, 0.0324567, -0.011731126, 0.031681046, 0.039041698, 0.026550077, 0.018093457, -0.010437395, -0.012460071, -0.019655965, -0.056106415, 0.019210948, 0.036232214, 0.0029842732, -0.038603187, -0.0120304, -0.036876503, 0.021129863, -0.018699674, 0.01252138, 0.011008919, 0.009497376, -0.08484459, -0.03287711, 0.018966438, -0.014902838, 0.041731533, -0.020397991, 0.032543097, -0.017294047, -0.017387578, 0.03352678, 0.0028630437, 0.01831637, 0.029306646, -0.027892793, -0.0059806583, -0.011083477, -0.008029205, 0.0043557244, -0.030003915, -0.013227758, 0.04225345, 0.013577571, -0.047630258, 0.020505244, 0.016266547, 0.04085291, 0.002855867, -0.013012458, -0.018074108, 0.009592166, -0.0088652335, 0.0038918382, 0.03425106, -0.0036657054, 0.0012819235, -0.03239932, -0.0114647485, -0.014412447, -0.059433434, -0.031851605, 0.028379824, 0.06635605, -0.004074331, 0.019219695, 0.011585009, 0.04739621, -0.030247197, -0.004930767, -0.12573206, 0.005607996, 0.024167148, 0.026768336, 0.023686044, -0.015805291, -0.025655886, -0.058182526, -0.0065438123, -0.05098125, 0.040611368, -0.017782032, -0.06108869, -0.05989698, 0.05159809, 0.028724326, 0.0036162792, 0.06781929, -0.017076116, 0.013207213, 0.089291215, -0.026668793, -0.025478857, 0.014050959, -0.05114832, 0.006102534, -0.020208554, -0.042232763, 0.009175869, 0.025264775, 0.033613544, 0.0025318486, 0.06509719, -0.047214262, 0.03945906, -0.07113406, -0.017015541, -0.028491717, -0.060230363, 0.05900444, -0.0026032254, 0.020940125, 0.039697073, 0.033859227, -0.011185765, 0.01690313, -0.0015557697, 0.058656752, -0.0062009515, -0.002119126, 0.054793183, -0.0039730496, 0.016245533, 0.068856664, 0.015859967, 0.0039664246, -0.017473, -0.04457849, 0.0019578806, 0.03177216, 0.045715287, 0.08007765, 0.0067718364, 0.03286835, 0.015778815, -0.030233908, 0.008214839, 0.013059086, 0.038516063, -0.027961746, 0.06378857, -0.058796495, 0.04503799, 0.028113538, -0.07551965, -0.043131534, 3.975693e-08, -0.070965335, -0.007548923, 0.036561277, -0.018431041, -0.0017904297, 0.048173968, 0.039576888, 0.01739388, 0.03351877, 0.017810596, 0.04149581, 0.06046321, -0.04019454, -0.01675144, 0.002705821, -0.008128518, -0.028044814, 0.04341685, -0.02612284, 0.05428139, -0.0540265, -0.04097693, -0.00074225996, -0.062738195, 0.0032635583, 0.013733299, -0.008207188, -0.0048686406, -0.066687495, -0.06848578, 0.012589308, 0.026246859, 0.053955518, -0.02268349, 0.069984585, -0.03894375, -0.04961473, -0.040648956, -0.002953954, -0.038334575, -0.033397846, -0.024869574, -0.004622848, 0.048914906, 0.05700147, -0.0022977602, 0.03678495, -0.027186811, 0.035582848, 0.09835657, -0.024913175, 0.00013756864, -0.005778837, 0.016164888, 0.05916589, 0.014138678, -0.052129123, 0.080114804, -0.092386946, 0.015576724, 0.019860182, -0.003518746, 0.049940396, 0.006295054, 0.023715694, 0.00082285615, 0.008592498, -0.063586876, -0.008951081, -0.040482268, -0.046882074, -0.0013906393, -0.012584465, 0.03960847, -0.025199186, 0.018827595, 0.053768672, -0.014449503, -0.009809928, 0.07725272, 0.031377044, 0.001859129, 0.060816556, 0.007448961, 0.008302704, 0.012510156, 0.05555984, 0.022417461, -0.030351797, -0.01069906, 0.028615907, 0.054464117, -0.057279598, -0.062137518, -0.05380908, 0.023267724, 0.012168897, 0.016735662, -0.029098876, -0.035979994, -0.0482301, -0.011039229, -0.0476623, 0.047414284, -0.02078003, 0.02448647, -0.03305931, -0.001691163, -0.019026795, 0.0021021492, 0.034046214, -0.036824293, -0.0047048707, -0.055721868, 0.018104821, -0.031015247, 0.004465499, 0.024575632, 0.013120442, -0.05024283, -0.0029273103, -0.01145549, 0.040801514, 0.011538331, 0.013179418, 0.0369201, 0.020615863, -0.054276347, 0.0122719435, 0.040385857, 0.03752884, -0.041203216, -0.022178136, 0.0007171758, -0.019028917, -0.019481882, -0.00024136539, -0.058492646, -0.008562494, 0.012906885, 0.0006381272, -0.075883545, -0.011050689, 0.03014103, -0.015979389, 0.026661852, -0.0011370218, -0.058942635, -0.024756297, -0.05974408, -0.026083162, -0.06856616, 0.01502858, -0.01622577, -0.039658707, -0.07513893, 0.016954469, 0.017115554, 0.02707709, -0.036199793, -0.03305187, 0.0150258215, 0.048760984, 0.064306945, -0.016106786, 0.034654684, 0.005014548, 0.032367516, -0.014941127, 0.04638526, -0.009372729, -0.013950934, -0.05960937, 0.057696547, -0.035545573, 0.015406437, -0.017355401, 0.021592623, -0.007832691, -0.02668223, -0.034136713, 0.029902594, -0.02173538, 0.009762226, -0.07822962, -0.008662549, -0.030701894, -0.022714429, -0.009260285, 0.010899664, -0.0023309204, 0.002032602, 0.025454277, -0.029159788, -0.059141308, 0.0033900142, 0.0851258, 0.0018093145, 0.028972993, 0.055426188, -0.05599603, -0.00016648, 0.011494674, -0.037629966, 0.027568761, -0.025790384, 0.068601035, -0.015876455, -0.0010702393, 0.047921546, -0.03539184, -0.03221135, -0.007452996, 0.0042903423, 0.030594788, 0.045681976, 0.00035728907, 0.06757801, -0.007220475, -0.043564558, 0.018840166, -0.05212888, -0.0074020843, -0.021416737, -0.059135422, -0.05083836, 0.051655788, 0.017051548, -0.040845543, -0.040523812, 0.053245205, 0.011087913, 0.029127173, -0.016031655, 0.0094923135, 0.016691597, -0.042509653, 0.084124476, -0.024195693, 0.005200249, 0.11217499, 0.0070855175, 0.032550067, 0.007251554, -0.02057003, -0.023622451, -0.008949462, 0.039134357, -0.003631576, -0.06398797, -0.046182662, -0.03886977, -0.00494595, 0.016655274, 0.016978137, -0.031894702, -0.03206205, 0.007827535, -0.0058075837, 0.026253605, 0.043849044, -0.053956974, -0.04356878, 0.030933341, 0.04298482, -0.023428764, -0.005136246, 0.017533662, -0.028597498, -0.065750144, 0.03191988, -0.015137454, -0.04287918, -0.07947875, -0.027646225, -0.0153804, 0.027185634, 0.022877153, 0.018662909, -0.0019795164, 0.0034389314, -0.015593201, -0.0094746975, -0.029245455, -0.007276313, 0.03365809, -0.0721162, 0.0036647592, 0.009122094, -0.025302663, -0.022949368, -0.009476441, -0.05528821, -0.011429204, -0.0032337182, 0.0035231798, 0.043986782, -0.092059724, 0.027244536, -0.02314468, -0.023079332, -0.05783607, -0.030306755, -0.03446548, -0.0064745955, 0.026342185, -0.0397024, 0.0040803696, 0.07122542, -0.06236817, -0.009328982, -0.048376616, 0.0414616, -0.018344397, 0.0021660896, -0.028438892, 0.014003529, 0.057869025, 0.0093351, -0.013886071, 0.017185865, -0.06713066, -0.01459771, -0.031775832, -0.05054653, 0.027971813, -0.08826712, 0.0014966615, -0.004773533, 0.022955144, 0.0057029407, 0.034993365, -0.06533469, 0.0014719417, 0.003634404, 0.059333645, -0.017687967, 0.056421228, 0.009809615, 0.05559501, -0.020380925, -0.03709561, -0.018426824, -0.029418334, -0.021062545, 0.050490957, 0.08202546, 0.009236994, -0.053072445, -0.0049018515, -0.0069269463, -0.011682199, 0.06286285, -0.057263456, 0.02365167, 0.013026413, 0.02178106, 0.0092554735, 0.029050125, 0.047187254, 0.0033255317, -0.038089983, 0.06817418, -0.016482038, -0.00054773875, 0.019353028, 0.00961733, -0.02275833, -0.0035623026, -0.02697751, -0.10902304, -0.045853544, 0.022328883, -0.030335328, -0.023219505, -0.0028180776, -0.04629605, -0.024784198, -0.018605873, 0.038857568, -0.067944944, -0.0154462345, 0.017866613, 0.0018984433, 0.022097575, -0.039646916, 0.026753783, -0.020788329, 0.0019363376, -0.0016969815, 0.015963556, 0.048797682, -0.009453319, -0.0067094485, 0.0121590635, -0.08798671, 0.05132363, -0.016034605, -0.016807126, 0.008669156, -0.012333354, -0.026103329, 0.023718707, 0.0002072201, -0.0334835, 0.020076908, -0.012735998, -0.041195467, 0.007110713, 0.031275086, 0.025236027, 0.049110364, 0.041995596, -0.0005544394, -0.027930435, -0.03948278, 0.07001353, -0.06493108, 0.040901102, -0.017938532, 0.0042842133, 0.012956964, 0.03788662, -0.038034543, -0.040825587, 0.007649402, -0.067985386, 0.0136903, 0.05414974, 0.008834975, -0.016460225, 0.003696359, 0.023088116, 0.006953979, 0.015982835, 0.039138727, -0.0026393398, -0.021709075, -0.03334377, 0.07699326, -0.052264974, -0.03747867, 0.0038685931, 0.019720761, 0.00017727722, -0.04223852, -0.04520532, 0.01958625, -0.0068550874, -0.043195095, 0.036380578, -0.016713925, -0.00065421854, 0.049038447, 0.02355776, 0.005025625, 0.008174028, 0.0506534, -0.025314461, 0.007595064, -0.032278903, -0.04891636, -0.040131766, -0.02846805, 0.08887978, 0.0047561172, -0.055126067, -0.019806527, -0.0057402123, 0.002562634, 0.025412362, -0.0029702918, 0.022531755, 0.020185927, -0.033516012, -0.018573076, 0.070998795, 0.049399514, 0.0069289478, 0.023416769, 0.027927253, -0.029363832, -0.051995832, 0.006922972, -0.0038466468, 0.04141331, -0.013141664, 0.020742051, -0.08290698, 0.014549948, -0.0059672184, -0.026924863, -0.012857885, 0.035998065, 0.0053714127, -0.10033512, -0.013020683, 0.033690687, -0.038114242, 0.013635525, 0.04488043, -0.04187202, -0.010161551, 0.035980277, -0.00441438, -0.04592235, 0.030346941, -0.029651066, 0.0040791426, -0.015012564, -0.01038653, 0.007547729, 0.022503208, -0.048616927, -0.06199297, -0.06589881, -0.016068006, 0.01906632, -0.051033996, 0.046703648, 0.07760286, -0.027890118, 0.051956967, -0.024254719, 0.01490433, 0.039332412, 0.017623536, 0.03706079, -0.012922783, 0.011605287, -0.034886736, 0.017170168, -0.026040152, 0.014063653, -0.0030504728, 0.016253758, -0.048561733, -0.02165074, 0.01958106, -0.04755888, -0.03400808, 0.0022421735, 0.04049039, 0.0019497464, -0.0267739, -0.061091118, 0.024382645, 0.042034306, -0.028353728, -0.03978549, -0.02574493, 0.011810574, 0.023093766, -0.0113491835, -0.0033616289, 0.042132106, -0.009622074, 0.04691098, 0.07078257, -0.074820794, -0.024265602, 0.0067417347, -0.012525022, -0.0044998284, 0.0023941537, 0.006663599, -0.03128968, 0.01949367, 0.014893195, 0.03932746, -0.010129388, -0.024824068, -0.045210045, 0.06646512, -0.04595463, 0.005083204, 0.0042768805, -0.0020445033, 0.031420875, -0.03238963, 0.05006831, 0.05414231, -0.022788294, 0.049133506, -0.017934423, 0.034081325, 0.011044455, -0.082136974, -0.003235464, -0.009759193, 0.021406433, 0.060337257, 0.01848187, -0.071172014, -0.0009928831, -0.0036030915, 0.035990283, -0.026782176, -0.023674022, 0.005083347, -0.016753007, 0.035882752, 0.052876018, -0.02201766, 0.007036927, 0.009490807, 0.030755576, 0.013553986, -0.05649615, 0.028882412, -0.03350828, -0.044424847, 0.04802074, 0.051137306, -0.027433777, 0.038084358]]}\n",
      "Embeddings type: <class 'dict'>, Content: {'embedding': [[-0.007021742, -0.06762347, -0.013489515, 0.0031000099, 0.042288896, 0.065665044, 0.0025334542, -0.018543608, 0.05279278, 0.040991507, -0.015105691, 0.009321352, 0.01750656, -0.02083866, -0.007369631, -0.07711236, 0.005642579, 0.030121056, 0.0036189116, -0.06592177, 0.020677218, -0.03717489, 0.03164588, -0.00026936867, 0.0032615718, -0.002140562, 0.014294118, -0.104743764, -0.015820447, -0.0011698303, -0.020887217, 0.040258504, -0.018004276, -0.0030572664, -0.030566104, -0.046329685, 0.016331166, 0.00750759, 0.017878652, 0.009597767, -0.044388484, -0.022890601, -0.037982684, -0.00504285, -0.007427368, -0.028506339, -0.003567104, 0.050564736, 0.023023518, -0.061632033, 0.023688728, 0.034024153, 0.067221105, -0.02753934, -0.015551617, 0.013020264, 0.020583693, -0.022432763, 0.025308788, 0.01820203, -0.01060758, 0.011508798, -0.052537844, 0.0014686408, 0.013252331, -0.052944534, -0.04266288, 0.031155627, 0.05662472, 0.03345034, 0.012857562, 0.034402035, 0.074188754, -0.039553896, -0.016759386, -0.09375546, 0.0026500437, 0.017819801, 0.006335043, 0.036069047, -0.008941947, -0.043646645, -0.07631436, -0.022678677, -0.05596327, 0.045789607, -0.002664725, -0.017519742, 0.0023914285, 0.024377346, 0.008945725, 0.0066889036, 0.08220691, -0.009059971, -0.027094947, 0.10385572, -0.045010395, -0.04041992, 0.020418372, -0.045850866, -6.97916e-05, 0.0043935617, -0.017856505, -0.005411229, 0.05756444, 0.071759745, 0.0014826168, 0.06409433, -0.022975689, 0.009622776, -0.050187096, -0.02854308, -0.060096968, -0.077718675, 0.08341391, -0.031731118, 0.04249312, 0.050844494, 0.06331971, -0.008686316, 0.025159366, 0.010825579, 0.024930274, 0.0068695773, -0.009250823, 0.040879462, 0.009836218, 0.021804042, 0.046442706, 0.028477479, -0.007412948, -0.033207636, -0.05591695, -0.009027539, 0.012450064, 0.030119915, 0.069218405, 0.0025458187, 0.012258552, 0.019873818, -0.036186747, 0.020883234, 0.005836742, -0.0028454715, -0.013466287, 0.061831146, -0.0783286, 0.0026969332, 0.03618391, -0.058936704, -0.05508899, -0.00600434, -0.060719166, 0.0069126096, -0.018569855, -0.007725843, 0.00058557314, 0.049462, 0.026874132, -0.001320585, 0.021125816, 0.025774393, 0.050351843, 0.07273856, -0.0536938, -0.024546659, 0.0077524027, 0.0042031687, -0.025010617, 0.015941631, 0.011946764, 0.055564627, -0.04250751, -0.0867482, -0.008304125, -0.028185653, -0.008597155, 0.04502151, -0.024791023, -0.0029558132, -0.093924634, -0.04421602, 0.009233623, 0.04362094, 0.07302364, -0.0016001341, 0.053295117, -0.07418096, -0.045128495, 0.0073037404, 0.00961267, -0.038231768, -0.03934574, -0.019852864, -0.00704332, 0.047070697, 0.07670305, 0.023087535, 0.04383922, -0.04372797, 0.013641804, 0.0699717, -0.021877773, 0.0008924242, 0.016478978, 0.004607489, 0.06794108, 0.009848822, -0.039505873, 0.0626338, -0.07558209, 0.02232785, 0.03612153, 0.014481388, 0.032186292, 0.0060526608, -0.007701204, -0.01635436, 0.0073942784, -0.07025902, -0.0043130284, -0.015316976, -0.052317377, -0.02890707, -0.043193266, 0.05516211, -0.014685567, 0.0018070473, 0.05350039, -0.028264029, -0.016481789, 0.08128919, 0.02967384, 0.018735895, 0.023178227, 0.01001827, 0.020404879, 0.022811774, 0.068160325, 0.0054878844, -0.017170684, -0.017066387, 0.007449769, 0.032471757, -0.051407658, -0.04528311, -0.034145877, 0.023913087, 0.031989526, 0.0013765804, -0.012008877, -0.0036441681, -0.0644267, -0.006899371, -0.056082625, 0.029278232, -0.044436056, -0.00264637, -0.0093441075, 0.0026148683, 0.0025757675, 0.01775599, 0.02988958, -0.039679274, -0.022162333, -0.0573854, 0.0101946965, -0.036703166, 0.012565004, 0.021331318, -0.01021515, -0.0364068, -0.01243146, -0.016638627, 0.046477664, -0.0028894218, 0.025994796, 0.041285243, 0.00037551593, -0.012722143, 0.00922865, 0.048210382, 0.03558776, -0.06283369, -0.054449163, 0.0024111385, -0.012146813, -0.036302425, -0.014700991, -0.053013843, -0.023438264, 0.074684665, 0.017346118, -0.03008031, -0.025463562, 0.039641682, -0.0058542616, 0.02553833, 0.0007409663, -0.029824425, -0.026028378, -0.077146515, -0.02418983, -0.022856534, 0.0060774265, 0.006996029, -0.04759696, -0.063541695, 0.024186403, -0.018882338, 0.04593925, -0.026357522, -0.022330923, 0.008798695, 0.063278265, 0.04564945, -0.0021237205, 0.016591093, -0.0062862467, 0.044333614, 0.008871044, 0.023897627, -0.00015107312, -0.01384146, -0.03181795, 0.055777695, -0.03903377, -0.01759991, -0.0133799575, 0.0054631582, 0.008059891, -0.03151717, -0.044408124, 0.0311414, -0.034101192, 0.019900924, -0.058018554, -0.026436107, -0.0037407496, -0.03196379, -0.0048228833, -0.013513308, 0.0045909192, -0.0051394356, 0.029754013, -0.023163442, -0.04004861, 0.008314428, 0.074540906, 0.013380404, 0.033650503, 0.043132618, -0.033334322, 0.0028126722, 0.023234136, -0.050731923, -0.0048993994, 0.011615495, 0.055553615, 0.017477926, -0.032158166, 0.039623354, -0.030101793, -0.007062314, 0.016967993, 0.002365076, 0.011449113, 0.030032152, -0.0118177, 0.055326194, -0.0019119334, 0.006667406, 0.017650899, -0.07293956, -0.0066061933, -0.009871742, -0.04127409, -0.043784298, 0.027944135, -0.0029166585, -0.028541707, -0.03543224, 0.04779382, 0.013757238, 0.03593115, -0.0099415, 0.0077939653, 0.033372834, -0.026559908, 0.08521681, -0.015496622, 0.030156227, 0.068057984, 0.01784535, 0.044695344, 0.015442759, 0.02991186, -0.021320798, -0.003361921, 0.003237678, -0.015426874, -0.050013896, -0.034096055, -0.044690326, -0.006394683, 0.035325658, 0.01574811, -0.048459005, -0.015014371, -0.01605508, -0.023000108, 0.02076148, 0.047159627, -0.04279995, -0.05104873, 0.039203167, 0.020430943, -0.0029682717, -0.016626086, -0.0013927572, -0.034506243, -0.044964563, 0.032377146, -0.018659823, -0.054907933, -0.06361851, 0.012165204, -0.03599993, 0.038350575, 0.020563684, 0.02847857, -0.005478007, 0.0067127454, -0.0047191526, 0.011881595, -0.042744163, -0.010274227, 0.018578013, -0.0523517, -0.016346974, 0.031520836, -0.009632748, -0.03806551, -0.022567911, -0.058233954, -0.028462354, 0.006726423, -0.00044918706, 0.020587668, -0.054388713, 0.02527232, -0.0069733523, -0.018615915, -0.037262652, -0.023073342, -0.030050468, -0.012099409, 0.039124034, -0.04181073, -0.012186443, 0.057212867, -0.04861375, -0.02234499, -0.043136045, 0.03613826, -0.012072525, -0.012709119, -0.04122823, 0.005918503, 0.06812038, -0.0004001133, -0.025430439, 0.01450945, -0.0689571, -0.024208074, -0.01502626, -0.066390805, 0.005961944, -0.11487421, 0.011668051, 0.008899836, 0.019761093, -0.00039097416, 0.009030985, -0.044269748, 0.004907536, -0.0043175695, 0.05869494, -0.026423093, 0.058915585, 0.008531549, 0.06807263, -0.0078611765, -0.070340924, -0.020451922, -0.0018906412, -0.020546895, 0.057454936, 0.09536296, 0.005563016, -0.05714884, -0.014690513, -0.02181708, -0.0049608904, 0.06687667, -0.023594873, -0.020836024, 0.0050548883, 0.033114415, -0.00647952, 0.014870268, 0.043629095, -0.0037135906, -0.035469536, 0.09416061, -0.03164753, -0.0071572, -0.015606741, 0.03723627, -0.006777145, -0.024260215, -8.264059e-05, -0.0914507, 0.000468273, 0.017070843, -0.058023296, -0.009868862, 0.016161587, -0.045889523, -0.03495778, 0.023162853, 0.01599353, -0.08057525, 0.00024922902, -0.0049831313, -0.002566107, 0.042190805, -0.057839382, -0.0032308954, -0.017893652, 0.0010863267, -0.025305074, 0.016997254, 0.07300656, 0.0022537615, -0.020006947, -0.00046404303, -0.07238097, 0.05104846, -0.04256335, -0.0042583616, 0.03560821, -0.016028149, -0.005819279, 0.036358286, -0.00025439588, -0.023702383, -0.0012665401, 0.0095174005, -0.021526886, -0.03686092, 0.010210582, 0.0050790487, 0.021634525, 0.0419406, -0.027183462, -0.0061589344, -0.012103513, 0.039644454, -0.03630808, 0.045529466, -0.016019339, 0.011697717, 0.029741384, 0.043096434, -0.027585149, -0.032087605, -0.0054531344, -0.06267405, 0.03267155, 0.055000372, 0.024016015, -0.0066903457, 0.012451508, -0.027941748, 0.01852046, 0.013347466, 0.07746102, 0.008553335, -0.0011681155, -0.045652296, 0.06229914, -0.05618955, -0.03577554, 0.0042755487, 0.041183915, 0.031554043, -0.05425373, -0.044697315, 0.019383559, 0.007756052, -0.03574355, 0.055001218, -0.011235286, -0.012809878, 0.029397137, 0.042162817, -0.0016443665, 0.026223095, 0.05022337, -0.013731261, -0.015835289, -0.028498268, -0.038169853, -0.061763283, -0.04421185, 0.070220575, 0.02353659, -0.08048385, -0.01362906, -0.00056627614, 0.01002229, 0.025904309, 0.0050292844, 0.012921746, 0.009618049, -0.06895201, -0.051336113, 0.062346116, 0.056729507, 0.0365294, 0.0029768127, 0.048229028, -0.03840963, -0.040621202, 0.00769327, -0.010147896, 0.031165373, -0.010941567, 0.014187259, -0.057802178, 0.021527996, -0.0017110837, 0.006193164, -0.034934428, 0.0033808034, 0.0039600404, -0.08669198, -0.0395606, 0.026066318, -0.068581544, 0.01778194, 0.035522584, -0.01980232, 0.002323749, 0.050734427, -0.0049247704, -0.021152383, 0.039217014, -0.02925155, -0.002157356, -0.0031505306, -0.008792368, 0.018565347, 0.025416048, -0.02400195, -0.04782915, -0.043937057, 0.0029758655, 0.017101986, -0.052058447, 0.070806086, 0.046885457, -0.007952139, 0.06156715, -0.021750234, 0.00745028, 0.033217132, -0.008222024, 0.026992174, -0.036183547, 0.0025855375, -0.004787531, 0.0069156964, -0.027592432, 0.00069373177, 0.015812116, -0.00048817578, -0.040769536, -0.015373816, 0.020311229, -0.054959305, -0.04062191, 0.008234402, 0.047927745, -0.006378208, -0.048137464, -0.031464584, 0.012451357, 0.07886731, -0.013773851, -0.04483153, -0.040789794, 0.019302651, 0.034991782, -0.01782268, 0.0030062536, 0.0415916, -0.03510851, 0.0266998, 0.063906394, -0.09406491, -0.0048304726, -0.021907452, -0.013133749, -0.03369798, 0.0036486727, 0.005318162, -0.022859905, 0.02939163, 0.017428149, 0.04418137, -0.009006475, 0.002455056, -0.014944466, 0.038257703, -0.043702498, -0.0057999897, -0.008304144, 0.00069373177, 0.048878316, -0.033630323, 0.0436334, 0.018827796, -0.05567965, 0.04452647, -0.03590744, 0.019201871, 0.0074249, -0.08705316, -0.009992555, 0.016955271, 0.022098605, 0.072707206, 0.057361294, -0.090817295, 0.0024717592, 0.003815495, 0.059352197, -0.04055085, -0.038250975, 0.026645273, -0.011850763, 0.040911455, 0.026624411, -0.02852225, -0.021219233, 0.0038478454, 0.027430305, 0.00621048, -0.05012194, 0.009198816, -0.013198468, -0.01677943, 0.03058505, 0.00343847, -0.03845882, 0.0443836]]}\n",
      "Chunks embedded and stored.\n"
     ]
    }
   ],
   "source": [
    "# Embed text chunks and store them in ChromaDB\n",
    "\n",
    "# Create or get collection with custom embedding function\n",
    "collection = client.get_or_create_collection(name=\"prompt_engineering_data\")\n",
    "\n",
    "# Embed and store chunks\n",
    "for idx, chunk in enumerate(chunks):\n",
    "    embedding = gemini_embedding_function([chunk])  # Returns [[-0.0038651999, ...]]\n",
    "    collection.add(\n",
    "        embeddings=embedding,  # Pass the embedding list directly\n",
    "        documents=[chunk],\n",
    "        ids=[f\"chunk_{idx}\"]\n",
    "    )\n",
    "\n",
    "print(\"Chunks embedded and stored.\")"
   ]
  },
  {
   "cell_type": "markdown",
   "id": "46654dc8",
   "metadata": {},
   "source": [
    "# Step2: Retrieval"
   ]
  },
  {
   "cell_type": "code",
   "execution_count": 54,
   "id": "d72fc263",
   "metadata": {},
   "outputs": [
    {
     "name": "stdout",
     "output_type": "stream",
     "text": [
      "Embeddings type: <class 'dict'>, Content: {'embedding': [[0.05979032, -0.005721661, -0.04536935, 0.0010204975, 0.044384606, 0.036143757, 0.035445698, -0.037998218, -0.0006648548, 0.07056057, 0.00039240002, 0.018596409, -0.0383092, 0.001544025, -0.014792006, -0.051335014, 0.022678455, 0.014955542, 0.04044032, -0.0823621, -0.008511623, -0.023352385, -0.014367334, -0.010154496, 0.013561452, -0.0147012975, -0.012276829, -0.06841165, 0.0010663831, 0.01805124, -0.06167818, 0.037191868, -0.0349311, -0.02301449, 0.008458694, -0.038687933, 0.012698167, -0.0008894162, -0.0008882697, 0.03955066, -0.010698935, 0.015840298, -0.042327087, -0.0035094353, 0.021065736, -0.010070455, -0.03814773, 0.07252117, 0.036233913, -0.0456164, 0.019769887, 0.008234902, 0.057150986, -0.035741508, -0.01426024, -0.08970876, 0.01430669, -0.045344915, 0.016355572, 0.037037935, -0.038524467, -0.014640292, 0.04642018, -0.017988479, -0.022767993, -0.059890445, -0.011453202, 0.041233134, 0.050100867, 0.024012843, 0.024692344, 0.001285944, 0.055092018, -0.018602071, -0.002682587, -0.098950654, 0.029222582, 0.05786162, 0.0016042452, 0.023585424, -0.010149653, -0.029620519, -0.05367361, 0.01607473, -0.03628365, 0.064666465, -0.013483414, -0.030154783, 0.0014212183, 0.024637736, 0.02933114, -0.024928728, 0.03629966, -0.030146865, -0.0061004716, 0.09777654, -0.017116789, -0.068632625, 0.021611614, -0.03930706, 0.01865874, -0.043258347, -0.06971047, 0.0016541504, 0.010159144, 0.036370397, 0.007611506, 0.06844647, -0.008053739, 0.035263173, -0.043206822, -0.024329916, 0.00080321357, -0.020699764, 0.050789274, -0.014480851, 0.016581053, 0.05700361, 0.047915723, 0.020051736, 0.06726287, 0.0030089025, 0.06899259, -0.026005609, -0.0016789823, 0.011992382, -0.020038083, 0.0118708005, 0.023369778, 0.002206486, -0.0047407458, -0.04125956, -0.048243467, -0.03460454, 0.04592831, 0.05435066, 0.032786965, 0.029809546, 0.04546352, -0.00953641, -0.021613853, 0.0255952, 0.024034543, 0.044070043, -0.012198325, 0.081336334, -0.03890635, 0.009913402, 0.04565362, -0.035323236, -0.038692463, -0.0239381, -0.04779759, 0.017600106, 0.085009016, -0.014710957, 0.025131803, 0.0013625345, 0.00272804, 0.015032251, 0.028820103, 0.029142316, 0.023051823, 0.06629699, -0.008776461, -0.026046151, -0.028263086, -0.02915307, -0.002360515, 0.027526105, -0.048416186, 0.048730657, -0.051464062, -0.012732507, 0.010323849, -0.048471354, 0.019504786, -0.019487668, -0.037750985, 0.031016842, -0.037042465, -0.06889825, -0.014440029, 0.031342823, 0.04510926, -0.06480637, 0.01380142, -0.029143987, -0.032252494, -0.015200311, -0.02118477, 0.0028273168, -0.014921464, -0.022616304, -0.006956533, 0.015391429, 0.048380695, -0.038711432, 0.009209895, -0.038341347, -0.020086078, 0.091520116, 0.03328676, 0.02459755, 0.02105529, 0.0056459457, 0.07657695, 0.018939774, -0.0323001, 0.09629827, -0.05658858, 0.018679526, -0.005685012, 0.024604032, 0.05906384, -0.016846059, 0.027120665, 0.021505967, 0.024908515, -0.04395484, -0.013632012, -0.015190565, -0.024633374, 0.031874847, 0.0035818426, 0.025733586, 0.028637672, -0.025874108, 0.0006972713, -0.020933192, -0.02869068, 0.0959818, 0.049213756, 0.0034728262, 0.09283349, 0.02713683, 0.023033306, 0.01205227, 0.025699697, 0.012388983, -0.020285036, 0.0055894135, 0.060060292, 0.036082774, -0.038891375, -0.022924999, -0.030103566, 0.04877005, 0.0018647048, 0.06436309, -0.021331104, -0.050377596, -0.00026975572, -0.010568096, -0.039741576, 0.032496136, -0.0523039, 0.01856956, -0.01785063, -0.01415033, 0.04545338, -0.002855758, -0.010985355, -0.047599636, 0.011303606, -0.017912773, 0.009151936, -0.04510579, 0.025931617, 0.008476665, 0.010124013, -0.040104203, 0.005518892, 0.00034862265, 0.047822826, -0.003708333, -0.010184221, 0.06543486, 0.0576827, -0.080481894, 0.0049503436, 0.038368493, 0.016533446, -0.029952403, -0.02236449, 0.0145499185, -0.014963911, -0.03512597, 0.041447267, -0.05463979, -0.019132052, -0.020616997, 0.009758048, -0.032642253, 0.008274102, -0.01714427, -0.03441905, 0.04721288, 0.044975035, -0.018236572, -0.039825674, -0.032217868, -0.01746318, -0.091457605, -0.006960272, -0.00016118785, -0.020606257, -0.042631853, 0.007845157, 0.014289705, 0.030811422, 0.007418125, -0.010507123, 0.001986614, 0.016235216, 0.0682842, -0.051448084, -0.0035365494, 0.019772628, 0.062454395, -0.037534554, 0.08072121, 0.013055673, -0.028577507, -0.003590659, 0.0707415, -0.029774414, 0.009011433, -0.013833984, -0.010959731, -0.060078125, 0.025825646, -0.007689155, 0.03731973, -0.026209319, 0.03314667, -0.08749895, 0.0077521675, -0.05829843, -0.00027818198, 0.0076322183, 0.016710395, -0.018748373, -0.010477987, -0.012645498, -0.018095175, -0.017993186, -0.019411635, 0.090214446, 0.04730539, 0.018993897, 0.05823053, -0.03806707, -0.01058804, 0.0362548, -0.03869119, 0.052097835, -0.046584185, 0.008593387, -0.025111575, 0.017894287, -0.016433785, -0.02276914, -0.014000525, 0.008448569, -0.022560194, -0.013699354, 0.016340222, -0.004268028, 0.023066364, 0.018337123, -0.025428416, -0.00026454605, -0.0421055, 0.010559659, -0.015280208, -0.07077738, -0.018850654, 0.041233055, 0.01853621, 0.013991986, -0.008453635, 0.019707104, -0.024365745, 0.016799105, -0.06599878, 0.029177848, 0.01658154, -0.01597091, 0.043008957, -0.041633602, -0.0041238703, 0.08505295, -0.0062795985, 0.03364852, 0.001704471, 0.025843382, -0.008045056, 0.004195183, 0.032332156, -0.057603613, -0.061682362, -0.039694846, -0.06539847, -0.011829986, 0.0028068712, 0.0058654062, -0.011243641, -0.015544911, 0.0017351386, -0.042006064, -0.022609362, 0.021037009, -0.07511184, -0.033070892, -0.027266022, 0.044368636, -0.030916533, -0.018321624, 0.009021167, -0.0075397785, -0.031010222, 0.021504698, -0.011938802, -0.045004323, -0.047016554, 0.0025066908, 0.026606692, 0.02026496, 0.04236427, 0.011253136, -0.044003554, -0.015627602, -0.0039864224, -0.01437886, -0.077058986, 0.018318623, 0.022547565, -0.039102834, 0.008227266, -0.0032424317, -0.027878905, 0.016744778, -0.048676446, -0.044573877, 0.011532681, 0.0116534075, -0.0062418683, 0.029597346, -0.10144001, 0.06041829, -0.05018183, 0.010761143, -0.060502283, -0.05995423, -0.065600865, -0.025690783, 0.07313812, -0.024002245, 0.0029939755, -0.003921144, -0.01767678, 0.012317907, -0.0965546, 0.03382967, 0.032968126, 0.0062335273, -0.017943041, 0.029474685, 0.028990488, 0.025344469, -0.0074798847, -0.006393721, 0.026885934, -0.053363595, -0.037941363, -0.060418528, 0.023168746, -0.059060324, 0.01367454, 0.01627402, 0.016393641, 0.02217213, 0.063583024, -0.034198787, 0.013275416, -0.01272494, 0.005360466, -0.017466292, 0.04105508, 0.004680633, 0.021820925, -0.03316646, -0.07015534, -0.02275523, 0.021166878, -0.027426621, 0.009416762, 0.052213877, -0.009326984, -0.031728696, -0.040758234, -0.017775565, -0.032186866, 0.055186953, -0.024105448, -0.0031294245, 0.010908111, 0.005032016, -0.012992179, 0.041655462, 0.03754669, -0.024921525, -0.00023708468, 0.04590329, -0.0070858793, -0.024458364, 0.019757748, -0.015409301, 0.011564426, 0.010616851, -0.010121084, -0.1294168, -0.043600492, 0.025090128, -0.026674297, 0.011235717, 0.027216366, -0.055072866, -0.022616256, -0.0144550605, 0.049737316, -0.06362413, -0.019903786, 0.0155606335, -0.020984683, 0.016040843, 0.01707209, 0.016738918, -0.04594997, 0.020564184, 0.00397051, 0.013965681, 0.025700254, -0.01797942, 0.019234626, -0.004399298, -0.07859494, 0.040748145, -0.031070182, -0.024076382, -0.008021304, -0.0014363274, -0.036352865, 0.021484906, -0.0059667723, -0.041194398, 0.01920495, 0.0064357286, -0.044131245, -0.00055903185, 0.01573353, 0.0002798714, 0.058035363, 0.04230697, 0.016990153, -0.0064433063, -0.065106064, 0.07017981, -0.026827656, 0.045633104, 0.007899057, 0.01155155, 0.038845077, 0.050621144, -0.027496694, -0.0021973252, -0.0006217411, 0.00042098435, -0.008561128, 0.043791853, -0.038509827, 0.018325925, -0.010545739, 0.014559629, -0.008404202, 0.047574233, 0.03896096, 0.0061949743, 0.015206906, -0.075025395, 0.061612815, -0.04601233, -0.010906146, -0.0027712719, 0.032443967, -0.036140975, -0.025685102, -0.04713488, 0.001135734, 0.022294708, -0.024940236, 0.02654071, 0.011670339, -0.0002823052, 0.059395283, 0.010170492, 0.0085569285, 0.01700717, 0.04847202, 0.007974881, 0.02696512, 0.009613431, -0.025876561, 0.023933113, -0.07252581, 0.054428965, -0.004955547, -0.042086687, -0.039804604, -0.021512803, 0.020093892, 0.046454873, -0.035846423, -0.005678456, -0.020569384, -0.04729518, -0.04899098, 0.07041186, 0.0055598645, 0.033744343, 0.041928288, -0.013937504, -0.0047758752, -0.05789592, -0.016934052, -0.009218863, 0.035920404, -0.016754907, -0.0068708775, -0.063185036, 0.0034141308, -0.008672818, -0.023450218, 0.010275144, 0.08339461, 0.03430083, -0.1016581, -0.078466326, 0.036787484, -0.041136377, 0.031387653, 0.039288945, -0.021325676, 0.054069553, 0.0329847, -0.02622312, -0.06188597, -0.038984522, -0.036673434, 0.006833666, -0.013153565, -0.0069672866, -0.019235138, 0.027118715, -0.00401421, -0.012577643, -0.0387243, -0.039401565, 0.04637301, -0.04780437, 0.03974958, 0.038500033, -0.02408607, 0.026859788, -0.019090302, -0.008545834, -0.0010960087, 0.05410929, 0.001039158, 0.021391977, -0.010378256, -0.026869277, -0.0037782986, -0.0008104049, 0.023654059, 0.013046258, 0.01995381, -0.058196522, -0.03270637, -0.008552758, -0.069369145, -0.03677476, 0.030838294, 0.03219559, 0.012132067, -0.0040147053, -0.009720942, -0.0048848162, 0.015918948, -0.01681904, 0.0029248174, -0.0082622785, -0.0059971586, 0.029302819, 0.012494089, 0.010412245, 0.03475372, 0.01918997, 0.03370716, 0.06403508, -0.08278198, -0.027423345, 0.0315559, 0.020640021, -0.051067427, 0.031599466, 0.014661209, -0.031913307, 0.062055744, 0.043999866, 0.051493466, -0.0069152205, -0.019209275, -0.046896417, 0.06293875, -0.06195872, 0.0074903895, -0.017892053, 0.0012551183, 0.06654872, -0.0021834564, -0.011295022, 0.053883255, -0.049803935, 0.09199461, 0.0035334325, 0.06929261, 0.0002937348, -0.07292854, -0.012355306, 0.0022418033, 0.0086409105, 0.023795594, 0.039935075, -0.061347507, -0.05686736, -0.048222184, 0.02644236, -0.037164077, -0.037015863, 0.021643568, -0.031554207, 0.009426659, 0.059278943, -0.009590527, -0.0011598004, -0.034432843, 0.03186346, 0.038322635, -0.04992958, 0.030425202, -0.011825169, -0.018866489, 0.042717483, 0.033382647, -0.019305028, 0.023621285]]}\n",
      "query_embedding type: <class 'list'>, content: [[0.05979032, -0.005721661, -0.04536935, 0.0010204975, 0.044384606, 0.036143757, 0.035445698, -0.037998218, -0.0006648548, 0.07056057, 0.00039240002, 0.018596409, -0.0383092, 0.001544025, -0.014792006, -0.051335014, 0.022678455, 0.014955542, 0.04044032, -0.0823621, -0.008511623, -0.023352385, -0.014367334, -0.010154496, 0.013561452, -0.0147012975, -0.012276829, -0.06841165, 0.0010663831, 0.01805124, -0.06167818, 0.037191868, -0.0349311, -0.02301449, 0.008458694, -0.038687933, 0.012698167, -0.0008894162, -0.0008882697, 0.03955066, -0.010698935, 0.015840298, -0.042327087, -0.0035094353, 0.021065736, -0.010070455, -0.03814773, 0.07252117, 0.036233913, -0.0456164, 0.019769887, 0.008234902, 0.057150986, -0.035741508, -0.01426024, -0.08970876, 0.01430669, -0.045344915, 0.016355572, 0.037037935, -0.038524467, -0.014640292, 0.04642018, -0.017988479, -0.022767993, -0.059890445, -0.011453202, 0.041233134, 0.050100867, 0.024012843, 0.024692344, 0.001285944, 0.055092018, -0.018602071, -0.002682587, -0.098950654, 0.029222582, 0.05786162, 0.0016042452, 0.023585424, -0.010149653, -0.029620519, -0.05367361, 0.01607473, -0.03628365, 0.064666465, -0.013483414, -0.030154783, 0.0014212183, 0.024637736, 0.02933114, -0.024928728, 0.03629966, -0.030146865, -0.0061004716, 0.09777654, -0.017116789, -0.068632625, 0.021611614, -0.03930706, 0.01865874, -0.043258347, -0.06971047, 0.0016541504, 0.010159144, 0.036370397, 0.007611506, 0.06844647, -0.008053739, 0.035263173, -0.043206822, -0.024329916, 0.00080321357, -0.020699764, 0.050789274, -0.014480851, 0.016581053, 0.05700361, 0.047915723, 0.020051736, 0.06726287, 0.0030089025, 0.06899259, -0.026005609, -0.0016789823, 0.011992382, -0.020038083, 0.0118708005, 0.023369778, 0.002206486, -0.0047407458, -0.04125956, -0.048243467, -0.03460454, 0.04592831, 0.05435066, 0.032786965, 0.029809546, 0.04546352, -0.00953641, -0.021613853, 0.0255952, 0.024034543, 0.044070043, -0.012198325, 0.081336334, -0.03890635, 0.009913402, 0.04565362, -0.035323236, -0.038692463, -0.0239381, -0.04779759, 0.017600106, 0.085009016, -0.014710957, 0.025131803, 0.0013625345, 0.00272804, 0.015032251, 0.028820103, 0.029142316, 0.023051823, 0.06629699, -0.008776461, -0.026046151, -0.028263086, -0.02915307, -0.002360515, 0.027526105, -0.048416186, 0.048730657, -0.051464062, -0.012732507, 0.010323849, -0.048471354, 0.019504786, -0.019487668, -0.037750985, 0.031016842, -0.037042465, -0.06889825, -0.014440029, 0.031342823, 0.04510926, -0.06480637, 0.01380142, -0.029143987, -0.032252494, -0.015200311, -0.02118477, 0.0028273168, -0.014921464, -0.022616304, -0.006956533, 0.015391429, 0.048380695, -0.038711432, 0.009209895, -0.038341347, -0.020086078, 0.091520116, 0.03328676, 0.02459755, 0.02105529, 0.0056459457, 0.07657695, 0.018939774, -0.0323001, 0.09629827, -0.05658858, 0.018679526, -0.005685012, 0.024604032, 0.05906384, -0.016846059, 0.027120665, 0.021505967, 0.024908515, -0.04395484, -0.013632012, -0.015190565, -0.024633374, 0.031874847, 0.0035818426, 0.025733586, 0.028637672, -0.025874108, 0.0006972713, -0.020933192, -0.02869068, 0.0959818, 0.049213756, 0.0034728262, 0.09283349, 0.02713683, 0.023033306, 0.01205227, 0.025699697, 0.012388983, -0.020285036, 0.0055894135, 0.060060292, 0.036082774, -0.038891375, -0.022924999, -0.030103566, 0.04877005, 0.0018647048, 0.06436309, -0.021331104, -0.050377596, -0.00026975572, -0.010568096, -0.039741576, 0.032496136, -0.0523039, 0.01856956, -0.01785063, -0.01415033, 0.04545338, -0.002855758, -0.010985355, -0.047599636, 0.011303606, -0.017912773, 0.009151936, -0.04510579, 0.025931617, 0.008476665, 0.010124013, -0.040104203, 0.005518892, 0.00034862265, 0.047822826, -0.003708333, -0.010184221, 0.06543486, 0.0576827, -0.080481894, 0.0049503436, 0.038368493, 0.016533446, -0.029952403, -0.02236449, 0.0145499185, -0.014963911, -0.03512597, 0.041447267, -0.05463979, -0.019132052, -0.020616997, 0.009758048, -0.032642253, 0.008274102, -0.01714427, -0.03441905, 0.04721288, 0.044975035, -0.018236572, -0.039825674, -0.032217868, -0.01746318, -0.091457605, -0.006960272, -0.00016118785, -0.020606257, -0.042631853, 0.007845157, 0.014289705, 0.030811422, 0.007418125, -0.010507123, 0.001986614, 0.016235216, 0.0682842, -0.051448084, -0.0035365494, 0.019772628, 0.062454395, -0.037534554, 0.08072121, 0.013055673, -0.028577507, -0.003590659, 0.0707415, -0.029774414, 0.009011433, -0.013833984, -0.010959731, -0.060078125, 0.025825646, -0.007689155, 0.03731973, -0.026209319, 0.03314667, -0.08749895, 0.0077521675, -0.05829843, -0.00027818198, 0.0076322183, 0.016710395, -0.018748373, -0.010477987, -0.012645498, -0.018095175, -0.017993186, -0.019411635, 0.090214446, 0.04730539, 0.018993897, 0.05823053, -0.03806707, -0.01058804, 0.0362548, -0.03869119, 0.052097835, -0.046584185, 0.008593387, -0.025111575, 0.017894287, -0.016433785, -0.02276914, -0.014000525, 0.008448569, -0.022560194, -0.013699354, 0.016340222, -0.004268028, 0.023066364, 0.018337123, -0.025428416, -0.00026454605, -0.0421055, 0.010559659, -0.015280208, -0.07077738, -0.018850654, 0.041233055, 0.01853621, 0.013991986, -0.008453635, 0.019707104, -0.024365745, 0.016799105, -0.06599878, 0.029177848, 0.01658154, -0.01597091, 0.043008957, -0.041633602, -0.0041238703, 0.08505295, -0.0062795985, 0.03364852, 0.001704471, 0.025843382, -0.008045056, 0.004195183, 0.032332156, -0.057603613, -0.061682362, -0.039694846, -0.06539847, -0.011829986, 0.0028068712, 0.0058654062, -0.011243641, -0.015544911, 0.0017351386, -0.042006064, -0.022609362, 0.021037009, -0.07511184, -0.033070892, -0.027266022, 0.044368636, -0.030916533, -0.018321624, 0.009021167, -0.0075397785, -0.031010222, 0.021504698, -0.011938802, -0.045004323, -0.047016554, 0.0025066908, 0.026606692, 0.02026496, 0.04236427, 0.011253136, -0.044003554, -0.015627602, -0.0039864224, -0.01437886, -0.077058986, 0.018318623, 0.022547565, -0.039102834, 0.008227266, -0.0032424317, -0.027878905, 0.016744778, -0.048676446, -0.044573877, 0.011532681, 0.0116534075, -0.0062418683, 0.029597346, -0.10144001, 0.06041829, -0.05018183, 0.010761143, -0.060502283, -0.05995423, -0.065600865, -0.025690783, 0.07313812, -0.024002245, 0.0029939755, -0.003921144, -0.01767678, 0.012317907, -0.0965546, 0.03382967, 0.032968126, 0.0062335273, -0.017943041, 0.029474685, 0.028990488, 0.025344469, -0.0074798847, -0.006393721, 0.026885934, -0.053363595, -0.037941363, -0.060418528, 0.023168746, -0.059060324, 0.01367454, 0.01627402, 0.016393641, 0.02217213, 0.063583024, -0.034198787, 0.013275416, -0.01272494, 0.005360466, -0.017466292, 0.04105508, 0.004680633, 0.021820925, -0.03316646, -0.07015534, -0.02275523, 0.021166878, -0.027426621, 0.009416762, 0.052213877, -0.009326984, -0.031728696, -0.040758234, -0.017775565, -0.032186866, 0.055186953, -0.024105448, -0.0031294245, 0.010908111, 0.005032016, -0.012992179, 0.041655462, 0.03754669, -0.024921525, -0.00023708468, 0.04590329, -0.0070858793, -0.024458364, 0.019757748, -0.015409301, 0.011564426, 0.010616851, -0.010121084, -0.1294168, -0.043600492, 0.025090128, -0.026674297, 0.011235717, 0.027216366, -0.055072866, -0.022616256, -0.0144550605, 0.049737316, -0.06362413, -0.019903786, 0.0155606335, -0.020984683, 0.016040843, 0.01707209, 0.016738918, -0.04594997, 0.020564184, 0.00397051, 0.013965681, 0.025700254, -0.01797942, 0.019234626, -0.004399298, -0.07859494, 0.040748145, -0.031070182, -0.024076382, -0.008021304, -0.0014363274, -0.036352865, 0.021484906, -0.0059667723, -0.041194398, 0.01920495, 0.0064357286, -0.044131245, -0.00055903185, 0.01573353, 0.0002798714, 0.058035363, 0.04230697, 0.016990153, -0.0064433063, -0.065106064, 0.07017981, -0.026827656, 0.045633104, 0.007899057, 0.01155155, 0.038845077, 0.050621144, -0.027496694, -0.0021973252, -0.0006217411, 0.00042098435, -0.008561128, 0.043791853, -0.038509827, 0.018325925, -0.010545739, 0.014559629, -0.008404202, 0.047574233, 0.03896096, 0.0061949743, 0.015206906, -0.075025395, 0.061612815, -0.04601233, -0.010906146, -0.0027712719, 0.032443967, -0.036140975, -0.025685102, -0.04713488, 0.001135734, 0.022294708, -0.024940236, 0.02654071, 0.011670339, -0.0002823052, 0.059395283, 0.010170492, 0.0085569285, 0.01700717, 0.04847202, 0.007974881, 0.02696512, 0.009613431, -0.025876561, 0.023933113, -0.07252581, 0.054428965, -0.004955547, -0.042086687, -0.039804604, -0.021512803, 0.020093892, 0.046454873, -0.035846423, -0.005678456, -0.020569384, -0.04729518, -0.04899098, 0.07041186, 0.0055598645, 0.033744343, 0.041928288, -0.013937504, -0.0047758752, -0.05789592, -0.016934052, -0.009218863, 0.035920404, -0.016754907, -0.0068708775, -0.063185036, 0.0034141308, -0.008672818, -0.023450218, 0.010275144, 0.08339461, 0.03430083, -0.1016581, -0.078466326, 0.036787484, -0.041136377, 0.031387653, 0.039288945, -0.021325676, 0.054069553, 0.0329847, -0.02622312, -0.06188597, -0.038984522, -0.036673434, 0.006833666, -0.013153565, -0.0069672866, -0.019235138, 0.027118715, -0.00401421, -0.012577643, -0.0387243, -0.039401565, 0.04637301, -0.04780437, 0.03974958, 0.038500033, -0.02408607, 0.026859788, -0.019090302, -0.008545834, -0.0010960087, 0.05410929, 0.001039158, 0.021391977, -0.010378256, -0.026869277, -0.0037782986, -0.0008104049, 0.023654059, 0.013046258, 0.01995381, -0.058196522, -0.03270637, -0.008552758, -0.069369145, -0.03677476, 0.030838294, 0.03219559, 0.012132067, -0.0040147053, -0.009720942, -0.0048848162, 0.015918948, -0.01681904, 0.0029248174, -0.0082622785, -0.0059971586, 0.029302819, 0.012494089, 0.010412245, 0.03475372, 0.01918997, 0.03370716, 0.06403508, -0.08278198, -0.027423345, 0.0315559, 0.020640021, -0.051067427, 0.031599466, 0.014661209, -0.031913307, 0.062055744, 0.043999866, 0.051493466, -0.0069152205, -0.019209275, -0.046896417, 0.06293875, -0.06195872, 0.0074903895, -0.017892053, 0.0012551183, 0.06654872, -0.0021834564, -0.011295022, 0.053883255, -0.049803935, 0.09199461, 0.0035334325, 0.06929261, 0.0002937348, -0.07292854, -0.012355306, 0.0022418033, 0.0086409105, 0.023795594, 0.039935075, -0.061347507, -0.05686736, -0.048222184, 0.02644236, -0.037164077, -0.037015863, 0.021643568, -0.031554207, 0.009426659, 0.059278943, -0.009590527, -0.0011598004, -0.034432843, 0.03186346, 0.038322635, -0.04992958, 0.030425202, -0.011825169, -0.018866489, 0.042717483, 0.033382647, -0.019305028, 0.023621285]]\n",
      "Retrieved documents: ['Prompt Engineering Notes \\nPrompt engineering is the art and science of designing effective input prompts to elicit desired \\nresponses from AI models, such as large language models (LLMs) or generative AI systems. As \\nAI becomes integral to tasks like content creation, coding, and data analysis, the quality of \\nprompts directly impacts the usefulness and accuracy of the output. Prompt engineering involves \\ncrafting clear, specific, and context-rich instructions to guide the model, ensuring it understands \\nthe task and delivers relevant results. \\nOne key principle is clarity. Vague prompts, such as “Tell me about AI,” can lead to broad or off-\\ntopic responses. Instead, a well-engineered prompt like “Explain the role of transformers in \\nmodern AI models, focusing on their attention mechanism, in 200 words” provides direction and \\nconstraints. Context provision is another principle; including background information, such as \\n“Given that I’m a beginner in machine learning,” helps the model ', 'tailor its response to the user’s \\nexpertise. \\nIteration is crucial in prompt engineering. Initial prompts may yield suboptimal results, requiring \\nrefinement. Adding examples (few-shot learning) or specifying the tone (e.g., “Respond \\nformally”) can enhance output quality. Techniques like chain-of-thought prompting, where the \\nmodel is asked to “think step-by-step” before answering, are effective for complex reasoning \\ntasks, such as solving math problems or debugging code. \\nAdvanced strategies include role-playing, where the prompt assigns the model a persona (e.g., \\n“Act as a data science expert”), and temperature adjustment to control response randomness. \\nPrompt engineering also addresses limitations like bias or hallucination by using grounded \\ninstructions. As AI evolves, this skill remains vital for maximizing AI potential in education, \\nresearch, and industry. ']\n"
     ]
    }
   ],
   "source": [
    "# Implement and test retrieval of relevant chunks based on a query\n",
    "\n",
    "# Function to retrieve relevant chunks\n",
    "def retrieve_chunks(query: str, n_results: int = 3) -> List[str]:\n",
    "    query_embedding = gemini_embedding_function([query])  # Returns [[...]]\n",
    "    print(f\"query_embedding type: {type(query_embedding)}, content: {query_embedding}\")  # Debug print\n",
    "    results = collection.query(query_embeddings=query_embedding, n_results=n_results)  # Use the list directly\n",
    "    return results['documents'][0]\n",
    "\n",
    "# Define query\n",
    "query = \"What is prompt engineering, also let me know the fundamental principles for the same\"\n",
    "retrieved_docs = retrieve_chunks(query)\n",
    "print(\"Retrieved documents:\", retrieved_docs)"
   ]
  },
  {
   "cell_type": "markdown",
   "id": "1c25f0d7",
   "metadata": {},
   "source": [
    "# Step3: Augmentation"
   ]
  },
  {
   "cell_type": "code",
   "execution_count": 55,
   "id": "a67aa3cb",
   "metadata": {},
   "outputs": [
    {
     "name": "stdout",
     "output_type": "stream",
     "text": [
      "Augmented context:\n",
      " Based on the following information, answer the query:\n",
      "\n",
      "Prompt Engineering Notes \n",
      "Prompt engineering is the art and science of designing effective input prompts to elicit desired \n",
      "responses from AI models, such as large language models (LLMs) or generative AI systems. As \n",
      "AI becomes integral to tasks like content creation, coding, and data analysis, the quality of \n",
      "prompts directly impacts the usefulness and accuracy of the output. Prompt engineering involves \n",
      "crafting clear, specific, and context-rich instructions to guide the model, ensuring it understands \n",
      "the task and delivers relevant results. \n",
      "One key principle is clarity. Vague prompts, such as “Tell me about AI,” can lead to broad or off-\n",
      "topic responses. Instead, a well-engineered prompt like “Explain the role of transformers in \n",
      "modern AI models, focusing on their attention mechanism, in 200 words” provides direction and \n",
      "constraints. Context provision is another principle; including background information, such as \n",
      "“Given that I’m a beginner in machine learning,” helps the model \n",
      "tailor its response to the user’s \n",
      "expertise. \n",
      "Iteration is crucial in prompt engineering. Initial prompts may yield suboptimal results, requiring \n",
      "refinement. Adding examples (few-shot learning) or specifying the tone (e.g., “Respond \n",
      "formally”) can enhance output quality. Techniques like chain-of-thought prompting, where the \n",
      "model is asked to “think step-by-step” before answering, are effective for complex reasoning \n",
      "tasks, such as solving math problems or debugging code. \n",
      "Advanced strategies include role-playing, where the prompt assigns the model a persona (e.g., \n",
      "“Act as a data science expert”), and temperature adjustment to control response randomness. \n",
      "Prompt engineering also addresses limitations like bias or hallucination by using grounded \n",
      "instructions. As AI evolves, this skill remains vital for maximizing AI potential in education, \n",
      "research, and industry. \n",
      "\n",
      "Query: What is prompt engineering, also let me know the fundamental principles for the same\n"
     ]
    }
   ],
   "source": [
    "# Combine retrieved documents into a single context\n",
    "def augment_context(query: str, retrieved_docs: List[str]) -> str:\n",
    "    context = \"Based on the following information, answer the query:\\n\\n\"\n",
    "    context += \"\\n\".join(retrieved_docs)\n",
    "    context += f\"\\n\\nQuery: {query}\"\n",
    "    return context\n",
    "\n",
    "# Use the retrieved documents from the previous step\n",
    "query = \"What is prompt engineering, also let me know the fundamental principles for the same\"\n",
    "augmented_context = augment_context(query, retrieved_docs)\n",
    "print(\"Augmented context:\\n\", augmented_context)"
   ]
  },
  {
   "cell_type": "markdown",
   "id": "d61d7922",
   "metadata": {},
   "source": [
    "# Step4: Generation"
   ]
  },
  {
   "cell_type": "code",
   "execution_count": 56,
   "id": "18a634df",
   "metadata": {},
   "outputs": [
    {
     "name": "stdout",
     "output_type": "stream",
     "text": [
      "Generated response:\n",
      " Prompt engineering is the art and science of designing effective input prompts to get desired responses from AI models like large language models (LLMs) or generative AI systems.  Its importance stems from the fact that the quality of prompts directly affects the usefulness and accuracy of the AI's output in tasks such as content creation, coding, and data analysis.\n",
      "\n",
      "Fundamental principles of prompt engineering include:\n",
      "\n",
      "* **Clarity:**  Vague prompts lead to unhelpful answers.  Clear, specific instructions are crucial.\n",
      "* **Context Provision:** Providing background information or the user's expertise level helps the model tailor its response appropriately.\n",
      "* **Iteration:**  Initial prompts often need refinement.  Experimentation and adjusting the prompt based on the results are key.\n",
      "\n"
     ]
    }
   ],
   "source": [
    "# Generate a response using the Gemini generative model\n",
    "def generate_response(context: str) -> str:\n",
    "    try:\n",
    "        model = genai.GenerativeModel('gemini-1.5-flash')  \n",
    "        response = model.generate_content(context)\n",
    "        return response.text\n",
    "    except Exception as e:\n",
    "        return f\"Error: {str(e)}\"\n",
    "\n",
    "# Generate the response using the augmented context from Cell 6\n",
    "generated_response = generate_response(augmented_context)\n",
    "print(\"Generated response:\\n\", generated_response)"
   ]
  }
 ],
 "metadata": {
  "kernelspec": {
   "display_name": "Python 3",
   "language": "python",
   "name": "python3"
  },
  "language_info": {
   "codemirror_mode": {
    "name": "ipython",
    "version": 3
   },
   "file_extension": ".py",
   "mimetype": "text/x-python",
   "name": "python",
   "nbconvert_exporter": "python",
   "pygments_lexer": "ipython3",
   "version": "3.13.2"
  }
 },
 "nbformat": 4,
 "nbformat_minor": 5
}
