{
 "cells": [
  {
   "cell_type": "code",
   "execution_count": 6,
   "id": "de4bd278",
   "metadata": {},
   "outputs": [
    {
     "name": "stdout",
     "output_type": "stream",
     "text": [
      "Found existing installation: numpy 2.2.5\n",
      "Uninstalling numpy-2.2.5:\n",
      "  Successfully uninstalled numpy-2.2.5\n"
     ]
    },
    {
     "name": "stderr",
     "output_type": "stream",
     "text": [
      "WARNING: Failed to remove contents in a temporary directory 'C:\\Users\\HP\\AppData\\Roaming\\Python\\Python313\\site-packages\\~umpy.libs'.\n",
      "You can safely remove it manually.\n",
      "WARNING: Failed to remove contents in a temporary directory 'C:\\Users\\HP\\AppData\\Roaming\\Python\\Python313\\site-packages\\~umpy'.\n",
      "You can safely remove it manually.\n"
     ]
    },
    {
     "name": "stdout",
     "output_type": "stream",
     "text": [
      "Defaulting to user installation because normal site-packages is not writeable\n",
      "Collecting numpy\n",
      "  Downloading numpy-2.3.1-cp313-cp313-win_amd64.whl.metadata (60 kB)\n",
      "Downloading numpy-2.3.1-cp313-cp313-win_amd64.whl (12.7 MB)\n",
      "   ---------------------------------------- 0.0/12.7 MB ? eta -:--:--\n",
      "   - -------------------------------------- 0.5/12.7 MB 3.8 MB/s eta 0:00:04\n",
      "   ----- ---------------------------------- 1.8/12.7 MB 5.4 MB/s eta 0:00:03\n",
      "   --------- ------------------------------ 2.9/12.7 MB 5.2 MB/s eta 0:00:02\n",
      "   ------------- -------------------------- 4.2/12.7 MB 5.5 MB/s eta 0:00:02\n",
      "   ----------------- ---------------------- 5.5/12.7 MB 5.5 MB/s eta 0:00:02\n",
      "   -------------------- ------------------- 6.6/12.7 MB 5.7 MB/s eta 0:00:02\n",
      "   ------------------------ --------------- 7.9/12.7 MB 5.6 MB/s eta 0:00:01\n",
      "   ---------------------------- ----------- 9.2/12.7 MB 5.7 MB/s eta 0:00:01\n",
      "   --------------------------------- ------ 10.7/12.7 MB 5.9 MB/s eta 0:00:01\n",
      "   -------------------------------------- - 12.3/12.7 MB 6.0 MB/s eta 0:00:01\n",
      "   ---------------------------------------- 12.7/12.7 MB 5.9 MB/s eta 0:00:00\n",
      "Installing collected packages: numpy\n",
      "Successfully installed numpy-2.3.1\n"
     ]
    },
    {
     "name": "stderr",
     "output_type": "stream",
     "text": [
      "\n",
      "[notice] A new release of pip is available: 25.1 -> 25.1.1\n",
      "[notice] To update, run: C:\\Python313\\python.exe -m pip install --upgrade pip\n"
     ]
    },
    {
     "name": "stdout",
     "output_type": "stream",
     "text": [
      "Defaulting to user installation because normal site-packages is not writeable\n",
      "Looking in indexes: https://download.pytorch.org/whl/cpu\n"
     ]
    },
    {
     "name": "stderr",
     "output_type": "stream",
     "text": [
      "ERROR: Could not find a version that satisfies the requirement torch==2.0.1 (from versions: 2.6.0+cpu, 2.7.0+cpu, 2.7.1+cpu)\n",
      "\n",
      "[notice] A new release of pip is available: 25.1 -> 25.1.1\n",
      "[notice] To update, run: C:\\Python313\\python.exe -m pip install --upgrade pip\n",
      "ERROR: No matching distribution found for torch==2.0.1\n"
     ]
    },
    {
     "name": "stdout",
     "output_type": "stream",
     "text": [
      "Defaulting to user installation because normal site-packages is not writeable\n",
      "Collecting git+https://github.com/suno-ai/bark.git\n",
      "  Cloning https://github.com/suno-ai/bark.git to c:\\users\\hp\\appdata\\local\\temp\\pip-req-build-7j1x4jt2\n",
      "  Resolved https://github.com/suno-ai/bark.git to commit f4f32d4cd480dfec1c245d258174bc9bde3c2148\n",
      "  Installing build dependencies: started\n",
      "  Installing build dependencies: finished with status 'done'\n",
      "  Getting requirements to build wheel: started\n",
      "  Getting requirements to build wheel: finished with status 'done'\n",
      "  Preparing metadata (pyproject.toml): started\n",
      "  Preparing metadata (pyproject.toml): finished with status 'done'\n",
      "Requirement already satisfied: boto3 in c:\\users\\hp\\appdata\\roaming\\python\\python313\\site-packages (from suno-bark==0.0.1a0) (1.39.4)\n",
      "Requirement already satisfied: encodec in c:\\users\\hp\\appdata\\roaming\\python\\python313\\site-packages (from suno-bark==0.0.1a0) (0.1.1)\n",
      "Requirement already satisfied: funcy in c:\\users\\hp\\appdata\\roaming\\python\\python313\\site-packages (from suno-bark==0.0.1a0) (2.0)\n",
      "Requirement already satisfied: huggingface-hub>=0.14.1 in c:\\users\\hp\\appdata\\roaming\\python\\python313\\site-packages (from suno-bark==0.0.1a0) (0.33.2)\n",
      "Requirement already satisfied: numpy in c:\\users\\hp\\appdata\\roaming\\python\\python313\\site-packages (from suno-bark==0.0.1a0) (2.3.1)\n",
      "Requirement already satisfied: scipy in c:\\users\\hp\\appdata\\roaming\\python\\python313\\site-packages (from suno-bark==0.0.1a0) (1.16.0)\n",
      "Requirement already satisfied: tokenizers in c:\\users\\hp\\appdata\\roaming\\python\\python313\\site-packages (from suno-bark==0.0.1a0) (0.21.2)\n",
      "Requirement already satisfied: torch in c:\\users\\hp\\appdata\\roaming\\python\\python313\\site-packages (from suno-bark==0.0.1a0) (2.7.1)\n",
      "Requirement already satisfied: tqdm in c:\\users\\hp\\appdata\\roaming\\python\\python313\\site-packages (from suno-bark==0.0.1a0) (4.67.1)\n",
      "Requirement already satisfied: transformers in c:\\users\\hp\\appdata\\roaming\\python\\python313\\site-packages (from suno-bark==0.0.1a0) (4.53.1)\n",
      "Requirement already satisfied: filelock in c:\\users\\hp\\appdata\\roaming\\python\\python313\\site-packages (from huggingface-hub>=0.14.1->suno-bark==0.0.1a0) (3.18.0)\n",
      "Requirement already satisfied: fsspec>=2023.5.0 in c:\\users\\hp\\appdata\\roaming\\python\\python313\\site-packages (from huggingface-hub>=0.14.1->suno-bark==0.0.1a0) (2025.3.2)\n",
      "Requirement already satisfied: packaging>=20.9 in c:\\users\\hp\\appdata\\roaming\\python\\python313\\site-packages (from huggingface-hub>=0.14.1->suno-bark==0.0.1a0) (25.0)\n",
      "Requirement already satisfied: pyyaml>=5.1 in c:\\users\\hp\\appdata\\roaming\\python\\python313\\site-packages (from huggingface-hub>=0.14.1->suno-bark==0.0.1a0) (6.0.2)\n",
      "Requirement already satisfied: requests in c:\\users\\hp\\appdata\\roaming\\python\\python313\\site-packages (from huggingface-hub>=0.14.1->suno-bark==0.0.1a0) (2.32.4)\n",
      "Requirement already satisfied: typing-extensions>=3.7.4.3 in c:\\users\\hp\\appdata\\roaming\\python\\python313\\site-packages (from huggingface-hub>=0.14.1->suno-bark==0.0.1a0) (4.13.2)\n",
      "Requirement already satisfied: colorama in c:\\users\\hp\\appdata\\roaming\\python\\python313\\site-packages (from tqdm->suno-bark==0.0.1a0) (0.4.6)\n",
      "Requirement already satisfied: botocore<1.40.0,>=1.39.4 in c:\\users\\hp\\appdata\\roaming\\python\\python313\\site-packages (from boto3->suno-bark==0.0.1a0) (1.39.4)\n",
      "Requirement already satisfied: jmespath<2.0.0,>=0.7.1 in c:\\users\\hp\\appdata\\roaming\\python\\python313\\site-packages (from boto3->suno-bark==0.0.1a0) (1.0.1)\n",
      "Requirement already satisfied: s3transfer<0.14.0,>=0.13.0 in c:\\users\\hp\\appdata\\roaming\\python\\python313\\site-packages (from boto3->suno-bark==0.0.1a0) (0.13.0)\n",
      "Requirement already satisfied: python-dateutil<3.0.0,>=2.1 in c:\\users\\hp\\appdata\\roaming\\python\\python313\\site-packages (from botocore<1.40.0,>=1.39.4->boto3->suno-bark==0.0.1a0) (2.9.0.post0)\n",
      "Requirement already satisfied: urllib3!=2.2.0,<3,>=1.25.4 in c:\\users\\hp\\appdata\\roaming\\python\\python313\\site-packages (from botocore<1.40.0,>=1.39.4->boto3->suno-bark==0.0.1a0) (2.5.0)\n",
      "Requirement already satisfied: six>=1.5 in c:\\users\\hp\\appdata\\roaming\\python\\python313\\site-packages (from python-dateutil<3.0.0,>=2.1->botocore<1.40.0,>=1.39.4->boto3->suno-bark==0.0.1a0) (1.17.0)\n",
      "Requirement already satisfied: torchaudio in c:\\users\\hp\\appdata\\roaming\\python\\python313\\site-packages (from encodec->suno-bark==0.0.1a0) (2.7.1)\n",
      "Requirement already satisfied: einops in c:\\users\\hp\\appdata\\roaming\\python\\python313\\site-packages (from encodec->suno-bark==0.0.1a0) (0.8.1)\n",
      "Requirement already satisfied: charset_normalizer<4,>=2 in c:\\users\\hp\\appdata\\roaming\\python\\python313\\site-packages (from requests->huggingface-hub>=0.14.1->suno-bark==0.0.1a0) (3.4.2)\n",
      "Requirement already satisfied: idna<4,>=2.5 in c:\\users\\hp\\appdata\\roaming\\python\\python313\\site-packages (from requests->huggingface-hub>=0.14.1->suno-bark==0.0.1a0) (3.10)\n",
      "Requirement already satisfied: certifi>=2017.4.17 in c:\\users\\hp\\appdata\\roaming\\python\\python313\\site-packages (from requests->huggingface-hub>=0.14.1->suno-bark==0.0.1a0) (2025.6.15)\n",
      "Requirement already satisfied: sympy>=1.13.3 in c:\\users\\hp\\appdata\\roaming\\python\\python313\\site-packages (from torch->suno-bark==0.0.1a0) (1.14.0)\n",
      "Requirement already satisfied: networkx in c:\\users\\hp\\appdata\\roaming\\python\\python313\\site-packages (from torch->suno-bark==0.0.1a0) (3.4.2)\n",
      "Requirement already satisfied: jinja2 in c:\\users\\hp\\appdata\\roaming\\python\\python313\\site-packages (from torch->suno-bark==0.0.1a0) (3.1.6)\n",
      "Requirement already satisfied: setuptools in c:\\users\\hp\\appdata\\roaming\\python\\python313\\site-packages (from torch->suno-bark==0.0.1a0) (80.0.0)\n",
      "Requirement already satisfied: mpmath<1.4,>=1.1.0 in c:\\users\\hp\\appdata\\roaming\\python\\python313\\site-packages (from sympy>=1.13.3->torch->suno-bark==0.0.1a0) (1.3.0)\n",
      "Requirement already satisfied: MarkupSafe>=2.0 in c:\\users\\hp\\appdata\\roaming\\python\\python313\\site-packages (from jinja2->torch->suno-bark==0.0.1a0) (3.0.2)\n",
      "Requirement already satisfied: regex!=2019.12.17 in c:\\users\\hp\\appdata\\roaming\\python\\python313\\site-packages (from transformers->suno-bark==0.0.1a0) (2024.11.6)\n",
      "Requirement already satisfied: safetensors>=0.4.3 in c:\\users\\hp\\appdata\\roaming\\python\\python313\\site-packages (from transformers->suno-bark==0.0.1a0) (0.5.3)\n"
     ]
    },
    {
     "name": "stderr",
     "output_type": "stream",
     "text": [
      "  Running command git clone --filter=blob:none --quiet https://github.com/suno-ai/bark.git 'C:\\Users\\HP\\AppData\\Local\\Temp\\pip-req-build-7j1x4jt2'\n",
      "\n",
      "[notice] A new release of pip is available: 25.1 -> 25.1.1\n",
      "[notice] To update, run: C:\\Python313\\python.exe -m pip install --upgrade pip\n"
     ]
    },
    {
     "name": "stdout",
     "output_type": "stream",
     "text": [
      "Defaulting to user installation because normal site-packages is not writeable\n",
      "Requirement already satisfied: scipy in c:\\users\\hp\\appdata\\roaming\\python\\python313\\site-packages (1.16.0)\n",
      "Requirement already satisfied: numpy<2.6,>=1.25.2 in c:\\users\\hp\\appdata\\roaming\\python\\python313\\site-packages (from scipy) (2.3.1)\n"
     ]
    },
    {
     "name": "stderr",
     "output_type": "stream",
     "text": [
      "\n",
      "[notice] A new release of pip is available: 25.1 -> 25.1.1\n",
      "[notice] To update, run: C:\\Python313\\python.exe -m pip install --upgrade pip\n"
     ]
    }
   ],
   "source": [
    "# 1. Cleanly reinstall NumPy\n",
    "!pip uninstall -y numpy\n",
    "!pip install numpy\n",
    "\n",
    "# 2. Install CPU-compatible PyTorch, Torchaudio, Torchvision\n",
    "!pip install torch==2.0.1 torchaudio==2.0.2 torchvision==0.15.2 --index-url https://download.pytorch.org/whl/cpu\n",
    "\n",
    "# 3. Install Bark (from GitHub)\n",
    "!pip install git+https://github.com/suno-ai/bark.git\n",
    "\n",
    "# 4. Install other required scientific libraries\n",
    "!pip install scipy"
   ]
  },
  {
   "cell_type": "code",
   "execution_count": 2,
   "id": "c1deb1d6",
   "metadata": {},
   "outputs": [
    {
     "name": "stdout",
     "output_type": "stream",
     "text": [
      "Looking in indexes: https://download.pytorch.org/whl/cpu\n",
      "Requirement already satisfied: torch==2.0.1 in c:\\users\\hp\\appdata\\local\\programs\\python\\python311\\lib\\site-packages (2.0.1+cpu)\n",
      "Requirement already satisfied: torchaudio==2.0.2 in c:\\users\\hp\\appdata\\local\\programs\\python\\python311\\lib\\site-packages (2.0.2+cpu)\n",
      "Requirement already satisfied: torchvision==0.15.2 in c:\\users\\hp\\appdata\\local\\programs\\python\\python311\\lib\\site-packages (0.15.2+cpu)\n",
      "Requirement already satisfied: filelock in c:\\users\\hp\\appdata\\local\\programs\\python\\python311\\lib\\site-packages (from torch==2.0.1) (3.13.1)\n",
      "Requirement already satisfied: typing-extensions in c:\\users\\hp\\appdata\\roaming\\python\\python311\\site-packages (from torch==2.0.1) (4.14.1)\n",
      "Requirement already satisfied: sympy in c:\\users\\hp\\appdata\\local\\programs\\python\\python311\\lib\\site-packages (from torch==2.0.1) (1.13.3)\n",
      "Requirement already satisfied: networkx in c:\\users\\hp\\appdata\\local\\programs\\python\\python311\\lib\\site-packages (from torch==2.0.1) (3.3)\n",
      "Requirement already satisfied: jinja2 in c:\\users\\hp\\appdata\\local\\programs\\python\\python311\\lib\\site-packages (from torch==2.0.1) (3.1.2)\n",
      "Requirement already satisfied: numpy in c:\\users\\hp\\appdata\\local\\programs\\python\\python311\\lib\\site-packages (from torchvision==0.15.2) (2.3.1)\n",
      "Requirement already satisfied: requests in c:\\users\\hp\\appdata\\local\\programs\\python\\python311\\lib\\site-packages (from torchvision==0.15.2) (2.31.0)\n",
      "Requirement already satisfied: pillow!=8.3.*,>=5.3.0 in c:\\users\\hp\\appdata\\local\\programs\\python\\python311\\lib\\site-packages (from torchvision==0.15.2) (10.0.0)\n",
      "Requirement already satisfied: MarkupSafe>=2.0 in c:\\users\\hp\\appdata\\local\\programs\\python\\python311\\lib\\site-packages (from jinja2->torch==2.0.1) (2.1.3)\n",
      "Requirement already satisfied: charset-normalizer<4,>=2 in c:\\users\\hp\\appdata\\local\\programs\\python\\python311\\lib\\site-packages (from requests->torchvision==0.15.2) (3.2.0)\n",
      "Requirement already satisfied: idna<4,>=2.5 in c:\\users\\hp\\appdata\\local\\programs\\python\\python311\\lib\\site-packages (from requests->torchvision==0.15.2) (3.4)\n",
      "Requirement already satisfied: urllib3<3,>=1.21.1 in c:\\users\\hp\\appdata\\local\\programs\\python\\python311\\lib\\site-packages (from requests->torchvision==0.15.2) (2.0.4)\n",
      "Requirement already satisfied: certifi>=2017.4.17 in c:\\users\\hp\\appdata\\local\\programs\\python\\python311\\lib\\site-packages (from requests->torchvision==0.15.2) (2023.7.22)\n",
      "Requirement already satisfied: mpmath<1.4,>=1.1.0 in c:\\users\\hp\\appdata\\local\\programs\\python\\python311\\lib\\site-packages (from sympy->torch==2.0.1) (1.3.0)\n"
     ]
    },
    {
     "name": "stderr",
     "output_type": "stream",
     "text": [
      "\n",
      "[notice] A new release of pip is available: 24.0 -> 25.1.1\n",
      "[notice] To update, run: python.exe -m pip install --upgrade pip\n"
     ]
    },
    {
     "name": "stdout",
     "output_type": "stream",
     "text": [
      "Collecting git+https://github.com/suno-ai/bark.git\n",
      "  Cloning https://github.com/suno-ai/bark.git to c:\\users\\hp\\appdata\\local\\temp\\pip-req-build-gsky319j\n",
      "  Resolved https://github.com/suno-ai/bark.git to commit f4f32d4cd480dfec1c245d258174bc9bde3c2148\n",
      "  Installing build dependencies: started\n",
      "  Installing build dependencies: finished with status 'done'\n",
      "  Getting requirements to build wheel: started\n",
      "  Getting requirements to build wheel: finished with status 'done'\n",
      "  Preparing metadata (pyproject.toml): started\n",
      "  Preparing metadata (pyproject.toml): finished with status 'done'\n",
      "Requirement already satisfied: scipy in c:\\users\\hp\\appdata\\local\\programs\\python\\python311\\lib\\site-packages (1.16.0)\n",
      "Requirement already satisfied: numpy in c:\\users\\hp\\appdata\\local\\programs\\python\\python311\\lib\\site-packages (2.3.1)\n",
      "Requirement already satisfied: boto3 in c:\\users\\hp\\appdata\\local\\programs\\python\\python311\\lib\\site-packages (from suno-bark==0.0.1a0) (1.39.4)\n",
      "Requirement already satisfied: encodec in c:\\users\\hp\\appdata\\local\\programs\\python\\python311\\lib\\site-packages (from suno-bark==0.0.1a0) (0.1.1)\n",
      "Requirement already satisfied: funcy in c:\\users\\hp\\appdata\\local\\programs\\python\\python311\\lib\\site-packages (from suno-bark==0.0.1a0) (2.0)\n",
      "Requirement already satisfied: huggingface-hub>=0.14.1 in c:\\users\\hp\\appdata\\local\\programs\\python\\python311\\lib\\site-packages (from suno-bark==0.0.1a0) (0.33.2)\n",
      "Requirement already satisfied: tokenizers in c:\\users\\hp\\appdata\\local\\programs\\python\\python311\\lib\\site-packages (from suno-bark==0.0.1a0) (0.21.2)\n",
      "Requirement already satisfied: torch in c:\\users\\hp\\appdata\\local\\programs\\python\\python311\\lib\\site-packages (from suno-bark==0.0.1a0) (2.0.1+cpu)\n",
      "Requirement already satisfied: tqdm in c:\\users\\hp\\appdata\\local\\programs\\python\\python311\\lib\\site-packages (from suno-bark==0.0.1a0) (4.67.1)\n",
      "Requirement already satisfied: transformers in c:\\users\\hp\\appdata\\local\\programs\\python\\python311\\lib\\site-packages (from suno-bark==0.0.1a0) (4.53.1)\n",
      "Requirement already satisfied: filelock in c:\\users\\hp\\appdata\\local\\programs\\python\\python311\\lib\\site-packages (from huggingface-hub>=0.14.1->suno-bark==0.0.1a0) (3.13.1)\n",
      "Requirement already satisfied: fsspec>=2023.5.0 in c:\\users\\hp\\appdata\\local\\programs\\python\\python311\\lib\\site-packages (from huggingface-hub>=0.14.1->suno-bark==0.0.1a0) (2024.6.1)\n",
      "Requirement already satisfied: packaging>=20.9 in c:\\users\\hp\\appdata\\roaming\\python\\python311\\site-packages (from huggingface-hub>=0.14.1->suno-bark==0.0.1a0) (25.0)\n",
      "Requirement already satisfied: pyyaml>=5.1 in c:\\users\\hp\\appdata\\local\\programs\\python\\python311\\lib\\site-packages (from huggingface-hub>=0.14.1->suno-bark==0.0.1a0) (6.0.2)\n",
      "Requirement already satisfied: requests in c:\\users\\hp\\appdata\\local\\programs\\python\\python311\\lib\\site-packages (from huggingface-hub>=0.14.1->suno-bark==0.0.1a0) (2.31.0)\n",
      "Requirement already satisfied: typing-extensions>=3.7.4.3 in c:\\users\\hp\\appdata\\roaming\\python\\python311\\site-packages (from huggingface-hub>=0.14.1->suno-bark==0.0.1a0) (4.14.1)\n",
      "Requirement already satisfied: colorama in c:\\users\\hp\\appdata\\local\\programs\\python\\python311\\lib\\site-packages (from tqdm->suno-bark==0.0.1a0) (0.4.6)\n",
      "Requirement already satisfied: botocore<1.40.0,>=1.39.4 in c:\\users\\hp\\appdata\\local\\programs\\python\\python311\\lib\\site-packages (from boto3->suno-bark==0.0.1a0) (1.39.4)\n",
      "Requirement already satisfied: jmespath<2.0.0,>=0.7.1 in c:\\users\\hp\\appdata\\local\\programs\\python\\python311\\lib\\site-packages (from boto3->suno-bark==0.0.1a0) (1.0.1)\n",
      "Requirement already satisfied: s3transfer<0.14.0,>=0.13.0 in c:\\users\\hp\\appdata\\local\\programs\\python\\python311\\lib\\site-packages (from boto3->suno-bark==0.0.1a0) (0.13.0)\n",
      "Requirement already satisfied: torchaudio in c:\\users\\hp\\appdata\\local\\programs\\python\\python311\\lib\\site-packages (from encodec->suno-bark==0.0.1a0) (2.0.2+cpu)\n",
      "Requirement already satisfied: einops in c:\\users\\hp\\appdata\\local\\programs\\python\\python311\\lib\\site-packages (from encodec->suno-bark==0.0.1a0) (0.8.1)\n",
      "Requirement already satisfied: sympy in c:\\users\\hp\\appdata\\local\\programs\\python\\python311\\lib\\site-packages (from torch->suno-bark==0.0.1a0) (1.13.3)\n",
      "Requirement already satisfied: networkx in c:\\users\\hp\\appdata\\local\\programs\\python\\python311\\lib\\site-packages (from torch->suno-bark==0.0.1a0) (3.3)\n",
      "Requirement already satisfied: jinja2 in c:\\users\\hp\\appdata\\local\\programs\\python\\python311\\lib\\site-packages (from torch->suno-bark==0.0.1a0) (3.1.2)\n",
      "Requirement already satisfied: regex!=2019.12.17 in c:\\users\\hp\\appdata\\local\\programs\\python\\python311\\lib\\site-packages (from transformers->suno-bark==0.0.1a0) (2024.11.6)\n",
      "Requirement already satisfied: safetensors>=0.4.3 in c:\\users\\hp\\appdata\\local\\programs\\python\\python311\\lib\\site-packages (from transformers->suno-bark==0.0.1a0) (0.5.3)\n",
      "Requirement already satisfied: python-dateutil<3.0.0,>=2.1 in c:\\users\\hp\\appdata\\roaming\\python\\python311\\site-packages (from botocore<1.40.0,>=1.39.4->boto3->suno-bark==0.0.1a0) (2.9.0.post0)\n",
      "Requirement already satisfied: urllib3!=2.2.0,<3,>=1.25.4 in c:\\users\\hp\\appdata\\local\\programs\\python\\python311\\lib\\site-packages (from botocore<1.40.0,>=1.39.4->boto3->suno-bark==0.0.1a0) (2.0.4)\n",
      "Requirement already satisfied: MarkupSafe>=2.0 in c:\\users\\hp\\appdata\\local\\programs\\python\\python311\\lib\\site-packages (from jinja2->torch->suno-bark==0.0.1a0) (2.1.3)\n",
      "Requirement already satisfied: charset-normalizer<4,>=2 in c:\\users\\hp\\appdata\\local\\programs\\python\\python311\\lib\\site-packages (from requests->huggingface-hub>=0.14.1->suno-bark==0.0.1a0) (3.2.0)\n",
      "Requirement already satisfied: idna<4,>=2.5 in c:\\users\\hp\\appdata\\local\\programs\\python\\python311\\lib\\site-packages (from requests->huggingface-hub>=0.14.1->suno-bark==0.0.1a0) (3.4)\n",
      "Requirement already satisfied: certifi>=2017.4.17 in c:\\users\\hp\\appdata\\local\\programs\\python\\python311\\lib\\site-packages (from requests->huggingface-hub>=0.14.1->suno-bark==0.0.1a0) (2023.7.22)\n",
      "Requirement already satisfied: mpmath<1.4,>=1.1.0 in c:\\users\\hp\\appdata\\local\\programs\\python\\python311\\lib\\site-packages (from sympy->torch->suno-bark==0.0.1a0) (1.3.0)\n",
      "Requirement already satisfied: six>=1.5 in c:\\users\\hp\\appdata\\roaming\\python\\python311\\site-packages (from python-dateutil<3.0.0,>=2.1->botocore<1.40.0,>=1.39.4->boto3->suno-bark==0.0.1a0) (1.17.0)\n"
     ]
    },
    {
     "name": "stderr",
     "output_type": "stream",
     "text": [
      "  Running command git clone --filter=blob:none --quiet https://github.com/suno-ai/bark.git 'C:\\Users\\HP\\AppData\\Local\\Temp\\pip-req-build-gsky319j'\n",
      "\n",
      "[notice] A new release of pip is available: 24.0 -> 25.1.1\n",
      "[notice] To update, run: python.exe -m pip install --upgrade pip\n"
     ]
    }
   ],
   "source": [
    "# Install required packages (for CPU)\n",
    "import sys\n",
    "!{sys.executable} -m pip install torch==2.0.1 torchaudio==2.0.2 torchvision==0.15.2 --index-url https://download.pytorch.org/whl/cpu\n",
    "!{sys.executable} -m pip install scipy numpy git+https://github.com/suno-ai/bark.git"
   ]
  },
  {
   "cell_type": "code",
   "execution_count": 8,
   "id": "f310dd86",
   "metadata": {},
   "outputs": [
    {
     "name": "stderr",
     "output_type": "stream",
     "text": [
      "No GPU being used. Careful, inference might be very slow!\n"
     ]
    },
    {
     "ename": "RuntimeError",
     "evalue": "Numpy is not available",
     "output_type": "error",
     "traceback": [
      "\u001b[31m---------------------------------------------------------------------------\u001b[39m",
      "\u001b[31mRuntimeError\u001b[39m                              Traceback (most recent call last)",
      "\u001b[36mCell\u001b[39m\u001b[36m \u001b[39m\u001b[32mIn[8]\u001b[39m\u001b[32m, line 19\u001b[39m\n\u001b[32m     16\u001b[39m prompt = \u001b[33m\"\u001b[39m\u001b[33mA chill lo-fi instrumental with dreamy pads and soft beats. No speech.\u001b[39m\u001b[33m\"\u001b[39m\n\u001b[32m     18\u001b[39m \u001b[38;5;66;03m# === Generate audio (will be slow on CPU!) ===\u001b[39;00m\n\u001b[32m---> \u001b[39m\u001b[32m19\u001b[39m audio_array = \u001b[43mgenerate_audio\u001b[49m\u001b[43m(\u001b[49m\u001b[43mprompt\u001b[49m\u001b[43m)\u001b[49m\n\u001b[32m     21\u001b[39m \u001b[38;5;66;03m# === Save the output to a WAV file ===\u001b[39;00m\n\u001b[32m     22\u001b[39m wavfile.write(\u001b[33m\"\u001b[39m\u001b[33mbark_output.wav\u001b[39m\u001b[33m\"\u001b[39m, SAMPLE_RATE, audio_array)\n",
      "\u001b[36mFile \u001b[39m\u001b[32mc:\\Users\\HP\\AppData\\Local\\Programs\\Python\\Python311\\Lib\\site-packages\\bark\\api.py:107\u001b[39m, in \u001b[36mgenerate_audio\u001b[39m\u001b[34m(text, history_prompt, text_temp, waveform_temp, silent, output_full)\u001b[39m\n\u001b[32m     86\u001b[39m \u001b[38;5;28;01mdef\u001b[39;00m\u001b[38;5;250m \u001b[39m\u001b[34mgenerate_audio\u001b[39m(\n\u001b[32m     87\u001b[39m     text: \u001b[38;5;28mstr\u001b[39m,\n\u001b[32m     88\u001b[39m     history_prompt: Optional[Union[Dict, \u001b[38;5;28mstr\u001b[39m]] = \u001b[38;5;28;01mNone\u001b[39;00m,\n\u001b[32m   (...)\u001b[39m\u001b[32m     92\u001b[39m     output_full: \u001b[38;5;28mbool\u001b[39m = \u001b[38;5;28;01mFalse\u001b[39;00m,\n\u001b[32m     93\u001b[39m ):\n\u001b[32m     94\u001b[39m \u001b[38;5;250m    \u001b[39m\u001b[33;03m\"\"\"Generate audio array from input text.\u001b[39;00m\n\u001b[32m     95\u001b[39m \n\u001b[32m     96\u001b[39m \u001b[33;03m    Args:\u001b[39;00m\n\u001b[32m   (...)\u001b[39m\u001b[32m    105\u001b[39m \u001b[33;03m        numpy audio array at sample frequency 24khz\u001b[39;00m\n\u001b[32m    106\u001b[39m \u001b[33;03m    \"\"\"\u001b[39;00m\n\u001b[32m--> \u001b[39m\u001b[32m107\u001b[39m     semantic_tokens = \u001b[43mtext_to_semantic\u001b[49m\u001b[43m(\u001b[49m\n\u001b[32m    108\u001b[39m \u001b[43m        \u001b[49m\u001b[43mtext\u001b[49m\u001b[43m,\u001b[49m\n\u001b[32m    109\u001b[39m \u001b[43m        \u001b[49m\u001b[43mhistory_prompt\u001b[49m\u001b[43m=\u001b[49m\u001b[43mhistory_prompt\u001b[49m\u001b[43m,\u001b[49m\n\u001b[32m    110\u001b[39m \u001b[43m        \u001b[49m\u001b[43mtemp\u001b[49m\u001b[43m=\u001b[49m\u001b[43mtext_temp\u001b[49m\u001b[43m,\u001b[49m\n\u001b[32m    111\u001b[39m \u001b[43m        \u001b[49m\u001b[43msilent\u001b[49m\u001b[43m=\u001b[49m\u001b[43msilent\u001b[49m\u001b[43m,\u001b[49m\n\u001b[32m    112\u001b[39m \u001b[43m    \u001b[49m\u001b[43m)\u001b[49m\n\u001b[32m    113\u001b[39m     out = semantic_to_waveform(\n\u001b[32m    114\u001b[39m         semantic_tokens,\n\u001b[32m    115\u001b[39m         history_prompt=history_prompt,\n\u001b[32m   (...)\u001b[39m\u001b[32m    118\u001b[39m         output_full=output_full,\n\u001b[32m    119\u001b[39m     )\n\u001b[32m    120\u001b[39m     \u001b[38;5;28;01mif\u001b[39;00m output_full:\n",
      "\u001b[36mFile \u001b[39m\u001b[32mc:\\Users\\HP\\AppData\\Local\\Programs\\Python\\Python311\\Lib\\site-packages\\bark\\api.py:25\u001b[39m, in \u001b[36mtext_to_semantic\u001b[39m\u001b[34m(text, history_prompt, temp, silent)\u001b[39m\n\u001b[32m      8\u001b[39m \u001b[38;5;28;01mdef\u001b[39;00m\u001b[38;5;250m \u001b[39m\u001b[34mtext_to_semantic\u001b[39m(\n\u001b[32m      9\u001b[39m     text: \u001b[38;5;28mstr\u001b[39m,\n\u001b[32m     10\u001b[39m     history_prompt: Optional[Union[Dict, \u001b[38;5;28mstr\u001b[39m]] = \u001b[38;5;28;01mNone\u001b[39;00m,\n\u001b[32m     11\u001b[39m     temp: \u001b[38;5;28mfloat\u001b[39m = \u001b[32m0.7\u001b[39m,\n\u001b[32m     12\u001b[39m     silent: \u001b[38;5;28mbool\u001b[39m = \u001b[38;5;28;01mFalse\u001b[39;00m,\n\u001b[32m     13\u001b[39m ):\n\u001b[32m     14\u001b[39m \u001b[38;5;250m    \u001b[39m\u001b[33;03m\"\"\"Generate semantic array from text.\u001b[39;00m\n\u001b[32m     15\u001b[39m \n\u001b[32m     16\u001b[39m \u001b[33;03m    Args:\u001b[39;00m\n\u001b[32m   (...)\u001b[39m\u001b[32m     23\u001b[39m \u001b[33;03m        numpy semantic array to be fed into `semantic_to_waveform`\u001b[39;00m\n\u001b[32m     24\u001b[39m \u001b[33;03m    \"\"\"\u001b[39;00m\n\u001b[32m---> \u001b[39m\u001b[32m25\u001b[39m     x_semantic = \u001b[43mgenerate_text_semantic\u001b[49m\u001b[43m(\u001b[49m\n\u001b[32m     26\u001b[39m \u001b[43m        \u001b[49m\u001b[43mtext\u001b[49m\u001b[43m,\u001b[49m\n\u001b[32m     27\u001b[39m \u001b[43m        \u001b[49m\u001b[43mhistory_prompt\u001b[49m\u001b[43m=\u001b[49m\u001b[43mhistory_prompt\u001b[49m\u001b[43m,\u001b[49m\n\u001b[32m     28\u001b[39m \u001b[43m        \u001b[49m\u001b[43mtemp\u001b[49m\u001b[43m=\u001b[49m\u001b[43mtemp\u001b[49m\u001b[43m,\u001b[49m\n\u001b[32m     29\u001b[39m \u001b[43m        \u001b[49m\u001b[43msilent\u001b[49m\u001b[43m=\u001b[49m\u001b[43msilent\u001b[49m\u001b[43m,\u001b[49m\n\u001b[32m     30\u001b[39m \u001b[43m        \u001b[49m\u001b[43muse_kv_caching\u001b[49m\u001b[43m=\u001b[49m\u001b[38;5;28;43;01mTrue\u001b[39;49;00m\n\u001b[32m     31\u001b[39m \u001b[43m    \u001b[49m\u001b[43m)\u001b[49m\n\u001b[32m     32\u001b[39m     \u001b[38;5;28;01mreturn\u001b[39;00m x_semantic\n",
      "\u001b[36mFile \u001b[39m\u001b[32mc:\\Users\\HP\\AppData\\Local\\Programs\\Python\\Python311\\Lib\\site-packages\\bark\\generation.py:439\u001b[39m, in \u001b[36mgenerate_text_semantic\u001b[39m\u001b[34m(text, history_prompt, temp, top_k, top_p, silent, min_eos_p, max_gen_duration_s, allow_early_stop, use_kv_caching)\u001b[39m\n\u001b[32m    437\u001b[39m \u001b[38;5;28;01melse\u001b[39;00m:\n\u001b[32m    438\u001b[39m     semantic_history = np.array([SEMANTIC_PAD_TOKEN] * \u001b[32m256\u001b[39m)\n\u001b[32m--> \u001b[39m\u001b[32m439\u001b[39m x = \u001b[43mtorch\u001b[49m\u001b[43m.\u001b[49m\u001b[43mfrom_numpy\u001b[49m\u001b[43m(\u001b[49m\n\u001b[32m    440\u001b[39m \u001b[43m    \u001b[49m\u001b[43mnp\u001b[49m\u001b[43m.\u001b[49m\u001b[43mhstack\u001b[49m\u001b[43m(\u001b[49m\u001b[43m[\u001b[49m\n\u001b[32m    441\u001b[39m \u001b[43m        \u001b[49m\u001b[43mencoded_text\u001b[49m\u001b[43m,\u001b[49m\u001b[43m \u001b[49m\u001b[43msemantic_history\u001b[49m\u001b[43m,\u001b[49m\u001b[43m \u001b[49m\u001b[43mnp\u001b[49m\u001b[43m.\u001b[49m\u001b[43marray\u001b[49m\u001b[43m(\u001b[49m\u001b[43m[\u001b[49m\u001b[43mSEMANTIC_INFER_TOKEN\u001b[49m\u001b[43m]\u001b[49m\u001b[43m)\u001b[49m\n\u001b[32m    442\u001b[39m \u001b[43m    \u001b[49m\u001b[43m]\u001b[49m\u001b[43m)\u001b[49m\u001b[43m.\u001b[49m\u001b[43mastype\u001b[49m\u001b[43m(\u001b[49m\u001b[43mnp\u001b[49m\u001b[43m.\u001b[49m\u001b[43mint64\u001b[49m\u001b[43m)\u001b[49m\n\u001b[32m    443\u001b[39m \u001b[43m\u001b[49m\u001b[43m)\u001b[49m[\u001b[38;5;28;01mNone\u001b[39;00m]\n\u001b[32m    444\u001b[39m \u001b[38;5;28;01massert\u001b[39;00m x.shape[\u001b[32m1\u001b[39m] == \u001b[32m256\u001b[39m + \u001b[32m256\u001b[39m + \u001b[32m1\u001b[39m\n\u001b[32m    445\u001b[39m \u001b[38;5;28;01mwith\u001b[39;00m _inference_mode():\n",
      "\u001b[31mRuntimeError\u001b[39m: Numpy is not available"
     ]
    }
   ],
   "source": [
    "# === Imports ===\n",
    "import torch\n",
    "import numpy as np\n",
    "from bark import SAMPLE_RATE, generate_audio, preload_models\n",
    "import scipy.io.wavfile as wavfile\n",
    "from functools import partial\n",
    "\n",
    "# === Patch torch.load to allow full pickle loading (required for Bark model loading) ===\n",
    "torch_load_orig = torch.load\n",
    "torch.load = partial(torch_load_orig, weights_only=False)\n",
    "\n",
    "# === Load Bark models (this may take time) ===\n",
    "preload_models()\n",
    "\n",
    "# === Music-style prompt ===\n",
    "prompt = \"A chill lo-fi instrumental with dreamy pads and soft beats. No speech.\"\n",
    "\n",
    "# === Generate audio (will be slow on CPU!) ===\n",
    "audio_array = generate_audio(prompt)\n",
    "\n",
    "# === Save the output to a WAV file ===\n",
    "wavfile.write(\"bark_output.wav\", SAMPLE_RATE, audio_array)\n",
    "\n",
    "print(\"✅ Music saved as 'bark_output.wav'\")"
   ]
  },
  {
   "cell_type": "code",
   "execution_count": null,
   "id": "e8e38fb7",
   "metadata": {},
   "outputs": [],
   "source": []
  }
 ],
 "metadata": {
  "kernelspec": {
   "display_name": "Python 3",
   "language": "python",
   "name": "python3"
  },
  "language_info": {
   "codemirror_mode": {
    "name": "ipython",
    "version": 3
   },
   "file_extension": ".py",
   "mimetype": "text/x-python",
   "name": "python",
   "nbconvert_exporter": "python",
   "pygments_lexer": "ipython3",
   "version": "3.11.9"
  }
 },
 "nbformat": 4,
 "nbformat_minor": 5
}
