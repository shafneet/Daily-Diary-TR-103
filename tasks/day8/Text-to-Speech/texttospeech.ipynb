{
 "cells": [
  {
   "cell_type": "code",
   "execution_count": 14,
   "id": "1bea9cfb",
   "metadata": {},
   "outputs": [
    {
     "name": "stdout",
     "output_type": "stream",
     "text": [
      "Defaulting to user installation because normal site-packages is not writeable\n",
      "Requirement already satisfied: google-cloud-texttospeech in c:\\users\\hp\\appdata\\roaming\\python\\python313\\site-packages (2.27.0)\n",
      "Requirement already satisfied: python-dotenv in c:\\users\\hp\\appdata\\roaming\\python\\python313\\site-packages (1.1.1)\n",
      "Requirement already satisfied: ipywidgets in c:\\users\\hp\\appdata\\roaming\\python\\python313\\site-packages (8.1.7)\n",
      "Requirement already satisfied: google-api-core!=2.0.*,!=2.1.*,!=2.10.*,!=2.2.*,!=2.3.*,!=2.4.*,!=2.5.*,!=2.6.*,!=2.7.*,!=2.8.*,!=2.9.*,<3.0.0,>=1.34.1 in c:\\users\\hp\\appdata\\roaming\\python\\python313\\site-packages (from google-api-core[grpc]!=2.0.*,!=2.1.*,!=2.10.*,!=2.2.*,!=2.3.*,!=2.4.*,!=2.5.*,!=2.6.*,!=2.7.*,!=2.8.*,!=2.9.*,<3.0.0,>=1.34.1->google-cloud-texttospeech) (2.25.1)\n",
      "Requirement already satisfied: google-auth!=2.24.0,!=2.25.0,<3.0.0,>=2.14.1 in c:\\users\\hp\\appdata\\roaming\\python\\python313\\site-packages (from google-cloud-texttospeech) (2.40.3)\n",
      "Requirement already satisfied: proto-plus<2.0.0,>=1.22.3 in c:\\users\\hp\\appdata\\roaming\\python\\python313\\site-packages (from google-cloud-texttospeech) (1.26.1)\n",
      "Requirement already satisfied: protobuf!=4.21.0,!=4.21.1,!=4.21.2,!=4.21.3,!=4.21.4,!=4.21.5,<7.0.0,>=3.20.2 in c:\\users\\hp\\appdata\\roaming\\python\\python313\\site-packages (from google-cloud-texttospeech) (5.29.5)\n",
      "Requirement already satisfied: googleapis-common-protos<2.0.0,>=1.56.2 in c:\\users\\hp\\appdata\\roaming\\python\\python313\\site-packages (from google-api-core!=2.0.*,!=2.1.*,!=2.10.*,!=2.2.*,!=2.3.*,!=2.4.*,!=2.5.*,!=2.6.*,!=2.7.*,!=2.8.*,!=2.9.*,<3.0.0,>=1.34.1->google-api-core[grpc]!=2.0.*,!=2.1.*,!=2.10.*,!=2.2.*,!=2.3.*,!=2.4.*,!=2.5.*,!=2.6.*,!=2.7.*,!=2.8.*,!=2.9.*,<3.0.0,>=1.34.1->google-cloud-texttospeech) (1.70.0)\n",
      "Requirement already satisfied: requests<3.0.0,>=2.18.0 in c:\\users\\hp\\appdata\\roaming\\python\\python313\\site-packages (from google-api-core!=2.0.*,!=2.1.*,!=2.10.*,!=2.2.*,!=2.3.*,!=2.4.*,!=2.5.*,!=2.6.*,!=2.7.*,!=2.8.*,!=2.9.*,<3.0.0,>=1.34.1->google-api-core[grpc]!=2.0.*,!=2.1.*,!=2.10.*,!=2.2.*,!=2.3.*,!=2.4.*,!=2.5.*,!=2.6.*,!=2.7.*,!=2.8.*,!=2.9.*,<3.0.0,>=1.34.1->google-cloud-texttospeech) (2.32.4)\n",
      "Requirement already satisfied: grpcio<2.0.0,>=1.33.2 in c:\\users\\hp\\appdata\\roaming\\python\\python313\\site-packages (from google-api-core[grpc]!=2.0.*,!=2.1.*,!=2.10.*,!=2.2.*,!=2.3.*,!=2.4.*,!=2.5.*,!=2.6.*,!=2.7.*,!=2.8.*,!=2.9.*,<3.0.0,>=1.34.1->google-cloud-texttospeech) (1.73.1)\n",
      "Requirement already satisfied: grpcio-status<2.0.0,>=1.33.2 in c:\\users\\hp\\appdata\\roaming\\python\\python313\\site-packages (from google-api-core[grpc]!=2.0.*,!=2.1.*,!=2.10.*,!=2.2.*,!=2.3.*,!=2.4.*,!=2.5.*,!=2.6.*,!=2.7.*,!=2.8.*,!=2.9.*,<3.0.0,>=1.34.1->google-cloud-texttospeech) (1.71.2)\n",
      "Requirement already satisfied: cachetools<6.0,>=2.0.0 in c:\\users\\hp\\appdata\\roaming\\python\\python313\\site-packages (from google-auth!=2.24.0,!=2.25.0,<3.0.0,>=2.14.1->google-cloud-texttospeech) (5.5.2)\n",
      "Requirement already satisfied: pyasn1-modules>=0.2.1 in c:\\users\\hp\\appdata\\roaming\\python\\python313\\site-packages (from google-auth!=2.24.0,!=2.25.0,<3.0.0,>=2.14.1->google-cloud-texttospeech) (0.4.2)\n",
      "Requirement already satisfied: rsa<5,>=3.1.4 in c:\\users\\hp\\appdata\\roaming\\python\\python313\\site-packages (from google-auth!=2.24.0,!=2.25.0,<3.0.0,>=2.14.1->google-cloud-texttospeech) (4.9.1)\n",
      "Requirement already satisfied: charset_normalizer<4,>=2 in c:\\users\\hp\\appdata\\roaming\\python\\python313\\site-packages (from requests<3.0.0,>=2.18.0->google-api-core!=2.0.*,!=2.1.*,!=2.10.*,!=2.2.*,!=2.3.*,!=2.4.*,!=2.5.*,!=2.6.*,!=2.7.*,!=2.8.*,!=2.9.*,<3.0.0,>=1.34.1->google-api-core[grpc]!=2.0.*,!=2.1.*,!=2.10.*,!=2.2.*,!=2.3.*,!=2.4.*,!=2.5.*,!=2.6.*,!=2.7.*,!=2.8.*,!=2.9.*,<3.0.0,>=1.34.1->google-cloud-texttospeech) (3.4.2)\n",
      "Requirement already satisfied: idna<4,>=2.5 in c:\\users\\hp\\appdata\\roaming\\python\\python313\\site-packages (from requests<3.0.0,>=2.18.0->google-api-core!=2.0.*,!=2.1.*,!=2.10.*,!=2.2.*,!=2.3.*,!=2.4.*,!=2.5.*,!=2.6.*,!=2.7.*,!=2.8.*,!=2.9.*,<3.0.0,>=1.34.1->google-api-core[grpc]!=2.0.*,!=2.1.*,!=2.10.*,!=2.2.*,!=2.3.*,!=2.4.*,!=2.5.*,!=2.6.*,!=2.7.*,!=2.8.*,!=2.9.*,<3.0.0,>=1.34.1->google-cloud-texttospeech) (3.10)\n",
      "Requirement already satisfied: urllib3<3,>=1.21.1 in c:\\users\\hp\\appdata\\roaming\\python\\python313\\site-packages (from requests<3.0.0,>=2.18.0->google-api-core!=2.0.*,!=2.1.*,!=2.10.*,!=2.2.*,!=2.3.*,!=2.4.*,!=2.5.*,!=2.6.*,!=2.7.*,!=2.8.*,!=2.9.*,<3.0.0,>=1.34.1->google-api-core[grpc]!=2.0.*,!=2.1.*,!=2.10.*,!=2.2.*,!=2.3.*,!=2.4.*,!=2.5.*,!=2.6.*,!=2.7.*,!=2.8.*,!=2.9.*,<3.0.0,>=1.34.1->google-cloud-texttospeech) (2.5.0)\n",
      "Requirement already satisfied: certifi>=2017.4.17 in c:\\users\\hp\\appdata\\roaming\\python\\python313\\site-packages (from requests<3.0.0,>=2.18.0->google-api-core!=2.0.*,!=2.1.*,!=2.10.*,!=2.2.*,!=2.3.*,!=2.4.*,!=2.5.*,!=2.6.*,!=2.7.*,!=2.8.*,!=2.9.*,<3.0.0,>=1.34.1->google-api-core[grpc]!=2.0.*,!=2.1.*,!=2.10.*,!=2.2.*,!=2.3.*,!=2.4.*,!=2.5.*,!=2.6.*,!=2.7.*,!=2.8.*,!=2.9.*,<3.0.0,>=1.34.1->google-cloud-texttospeech) (2025.6.15)\n",
      "Requirement already satisfied: pyasn1>=0.1.3 in c:\\users\\hp\\appdata\\roaming\\python\\python313\\site-packages (from rsa<5,>=3.1.4->google-auth!=2.24.0,!=2.25.0,<3.0.0,>=2.14.1->google-cloud-texttospeech) (0.6.1)\n",
      "Requirement already satisfied: comm>=0.1.3 in c:\\users\\hp\\appdata\\roaming\\python\\python313\\site-packages (from ipywidgets) (0.2.2)\n",
      "Requirement already satisfied: ipython>=6.1.0 in c:\\users\\hp\\appdata\\roaming\\python\\python313\\site-packages (from ipywidgets) (9.4.0)\n",
      "Requirement already satisfied: traitlets>=4.3.1 in c:\\users\\hp\\appdata\\roaming\\python\\python313\\site-packages (from ipywidgets) (5.14.3)\n",
      "Requirement already satisfied: widgetsnbextension~=4.0.14 in c:\\users\\hp\\appdata\\roaming\\python\\python313\\site-packages (from ipywidgets) (4.0.14)\n",
      "Requirement already satisfied: jupyterlab_widgets~=3.0.15 in c:\\users\\hp\\appdata\\roaming\\python\\python313\\site-packages (from ipywidgets) (3.0.15)\n",
      "Requirement already satisfied: colorama in c:\\users\\hp\\appdata\\roaming\\python\\python313\\site-packages (from ipython>=6.1.0->ipywidgets) (0.4.6)\n",
      "Requirement already satisfied: decorator in c:\\users\\hp\\appdata\\roaming\\python\\python313\\site-packages (from ipython>=6.1.0->ipywidgets) (5.2.1)\n",
      "Requirement already satisfied: ipython-pygments-lexers in c:\\users\\hp\\appdata\\roaming\\python\\python313\\site-packages (from ipython>=6.1.0->ipywidgets) (1.1.1)\n",
      "Requirement already satisfied: jedi>=0.16 in c:\\users\\hp\\appdata\\roaming\\python\\python313\\site-packages (from ipython>=6.1.0->ipywidgets) (0.19.2)\n",
      "Requirement already satisfied: matplotlib-inline in c:\\users\\hp\\appdata\\roaming\\python\\python313\\site-packages (from ipython>=6.1.0->ipywidgets) (0.1.7)\n",
      "Requirement already satisfied: prompt_toolkit<3.1.0,>=3.0.41 in c:\\users\\hp\\appdata\\roaming\\python\\python313\\site-packages (from ipython>=6.1.0->ipywidgets) (3.0.51)\n",
      "Requirement already satisfied: pygments>=2.4.0 in c:\\users\\hp\\appdata\\roaming\\python\\python313\\site-packages (from ipython>=6.1.0->ipywidgets) (2.19.1)\n",
      "Requirement already satisfied: stack_data in c:\\users\\hp\\appdata\\roaming\\python\\python313\\site-packages (from ipython>=6.1.0->ipywidgets) (0.6.3)\n",
      "Requirement already satisfied: wcwidth in c:\\users\\hp\\appdata\\roaming\\python\\python313\\site-packages (from prompt_toolkit<3.1.0,>=3.0.41->ipython>=6.1.0->ipywidgets) (0.2.13)\n",
      "Requirement already satisfied: parso<0.9.0,>=0.8.4 in c:\\users\\hp\\appdata\\roaming\\python\\python313\\site-packages (from jedi>=0.16->ipython>=6.1.0->ipywidgets) (0.8.4)\n",
      "Requirement already satisfied: executing>=1.2.0 in c:\\users\\hp\\appdata\\roaming\\python\\python313\\site-packages (from stack_data->ipython>=6.1.0->ipywidgets) (2.2.0)\n",
      "Requirement already satisfied: asttokens>=2.1.0 in c:\\users\\hp\\appdata\\roaming\\python\\python313\\site-packages (from stack_data->ipython>=6.1.0->ipywidgets) (3.0.0)\n",
      "Requirement already satisfied: pure-eval in c:\\users\\hp\\appdata\\roaming\\python\\python313\\site-packages (from stack_data->ipython>=6.1.0->ipywidgets) (0.2.3)\n",
      "Note: you may need to restart the kernel to use updated packages.\n"
     ]
    },
    {
     "name": "stderr",
     "output_type": "stream",
     "text": [
      "\n",
      "[notice] A new release of pip is available: 25.1 -> 25.1.1\n",
      "[notice] To update, run: python.exe -m pip install --upgrade pip\n"
     ]
    }
   ],
   "source": [
    "pip install google-cloud-texttospeech python-dotenv ipywidgets"
   ]
  },
  {
   "cell_type": "code",
   "execution_count": 18,
   "id": "5461dc0c",
   "metadata": {},
   "outputs": [
    {
     "name": "stdout",
     "output_type": "stream",
     "text": [
      "Audio content written to file speech_394a3d.mp3\n"
     ]
    },
    {
     "data": {
      "text/html": [
       "\n",
       "                <audio  controls=\"controls\" >\n",
       "                    <source src=\"data:audio/mpeg;base64,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\" type=\"audio/mpeg\" />\n",
       "                    Your browser does not support the audio element.\n",
       "                </audio>\n",
       "              "
      ],
      "text/plain": [
       "<IPython.lib.display.Audio object>"
      ]
     },
     "metadata": {},
     "output_type": "display_data"
    }
   ],
   "source": [
    "from google.cloud import texttospeech\n",
    "import uuid\n",
    "from IPython.display import Audio, display\n",
    "import os\n",
    "\n",
    "# Set environment variables\n",
    "os.environ[\"GOOGLE_APPLICATION_CREDENTIALS\"] = \"peak-argon-465313-n8-23d40d862fe5.json\"\n",
    "\n",
    "def synthesize_text(text, filename=None):\n",
    "    client = texttospeech.TextToSpeechClient()\n",
    "\n",
    "    input_text = texttospeech.SynthesisInput(text=text)\n",
    "\n",
    "    # Choose voice parameters\n",
    "    voice = texttospeech.VoiceSelectionParams(\n",
    "        language_code=\"en-US\",  \n",
    "        ssml_gender=texttospeech.SsmlVoiceGender.NEUTRAL  # Options: MALE, FEMALE, NEUTRAL\n",
    "    )\n",
    "\n",
    "    audio_config = texttospeech.AudioConfig(\n",
    "        audio_encoding=texttospeech.AudioEncoding.MP3\n",
    "    )\n",
    "\n",
    "    response = client.synthesize_speech(\n",
    "        input=input_text,\n",
    "        voice=voice,\n",
    "        audio_config=audio_config\n",
    "    )\n",
    "\n",
    "    if filename is None:\n",
    "        filename = f\"speech_{uuid.uuid4().hex[:6]}.mp3\"\n",
    "\n",
    "    # Write audio to file\n",
    "    with open(filename, \"wb\") as out:\n",
    "        out.write(response.audio_content)\n",
    "        print(f\"Audio content written to file {filename}\")\n",
    "\n",
    "    return filename\n",
    "\n",
    "# Example usage\n",
    "text = \"Hi, how are you?\"\n",
    "filename = synthesize_text(text)\n",
    "\n",
    "# Play audio in notebook\n",
    "display(Audio(filename))"
   ]
  }
 ],
 "metadata": {
  "kernelspec": {
   "display_name": "Python 3",
   "language": "python",
   "name": "python3"
  },
  "language_info": {
   "codemirror_mode": {
    "name": "ipython",
    "version": 3
   },
   "file_extension": ".py",
   "mimetype": "text/x-python",
   "name": "python",
   "nbconvert_exporter": "python",
   "pygments_lexer": "ipython3",
   "version": "3.13.2"
  }
 },
 "nbformat": 4,
 "nbformat_minor": 5
}
