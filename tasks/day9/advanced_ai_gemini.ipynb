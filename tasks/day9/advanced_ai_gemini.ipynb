{
 "cells": [
  {
   "cell_type": "markdown",
   "id": "a7bea8ba",
   "metadata": {},
   "source": [
    "# Supervised Machine Learning & OpenAI: End-to-End Workflow"
   ]
  },
  {
   "cell_type": "markdown",
   "id": "4f6c242a",
   "metadata": {},
   "source": [
    "## 1. Dataset Preparation for Fine-Tuning (Code Generation Task)"
   ]
  },
  {
   "cell_type": "code",
   "execution_count": 1,
   "id": "927d8d63",
   "metadata": {},
   "outputs": [
    {
     "name": "stderr",
     "output_type": "stream",
     "text": [
      "\n",
      "[notice] A new release of pip is available: 25.1 -> 25.1.1\n",
      "[notice] To update, run: python.exe -m pip install --upgrade pip\n"
     ]
    },
    {
     "name": "stdout",
     "output_type": "stream",
     "text": [
      "Defaulting to user installation because normal site-packages is not writeable\n",
      "Requirement already satisfied: pandas in c:\\users\\hp\\appdata\\roaming\\python\\python313\\site-packages (2.2.3)\n",
      "Requirement already satisfied: numpy>=1.26.0 in c:\\users\\hp\\appdata\\roaming\\python\\python313\\site-packages (from pandas) (2.3.1)\n",
      "Requirement already satisfied: python-dateutil>=2.8.2 in c:\\users\\hp\\appdata\\roaming\\python\\python313\\site-packages (from pandas) (2.9.0.post0)\n",
      "Requirement already satisfied: pytz>=2020.1 in c:\\users\\hp\\appdata\\roaming\\python\\python313\\site-packages (from pandas) (2025.2)\n",
      "Requirement already satisfied: tzdata>=2022.7 in c:\\users\\hp\\appdata\\roaming\\python\\python313\\site-packages (from pandas) (2025.2)\n",
      "Requirement already satisfied: six>=1.5 in c:\\users\\hp\\appdata\\roaming\\python\\python313\\site-packages (from python-dateutil>=2.8.2->pandas) (1.17.0)\n"
     ]
    },
    {
     "data": {
      "text/html": [
       "<div>\n",
       "<style scoped>\n",
       "    .dataframe tbody tr th:only-of-type {\n",
       "        vertical-align: middle;\n",
       "    }\n",
       "\n",
       "    .dataframe tbody tr th {\n",
       "        vertical-align: top;\n",
       "    }\n",
       "\n",
       "    .dataframe thead th {\n",
       "        text-align: right;\n",
       "    }\n",
       "</style>\n",
       "<table border=\"1\" class=\"dataframe\">\n",
       "  <thead>\n",
       "    <tr style=\"text-align: right;\">\n",
       "      <th></th>\n",
       "      <th>prompt</th>\n",
       "      <th>completion</th>\n",
       "    </tr>\n",
       "  </thead>\n",
       "  <tbody>\n",
       "    <tr>\n",
       "      <th>0</th>\n",
       "      <td>Write a Python function to add two numbers.</td>\n",
       "      <td>def add(a, b):\\n    return a + b</td>\n",
       "    </tr>\n",
       "    <tr>\n",
       "      <th>1</th>\n",
       "      <td>Write a Python function to check if a number i...</td>\n",
       "      <td>def is_even(n):\\n    return n % 2 == 0</td>\n",
       "    </tr>\n",
       "    <tr>\n",
       "      <th>2</th>\n",
       "      <td>Write a Python function to find factorial.</td>\n",
       "      <td>def factorial(n):\\n    return 1 if n == 0 else...</td>\n",
       "    </tr>\n",
       "  </tbody>\n",
       "</table>\n",
       "</div>"
      ],
      "text/plain": [
       "                                              prompt  \\\n",
       "0        Write a Python function to add two numbers.   \n",
       "1  Write a Python function to check if a number i...   \n",
       "2         Write a Python function to find factorial.   \n",
       "\n",
       "                                          completion  \n",
       "0                   def add(a, b):\\n    return a + b  \n",
       "1             def is_even(n):\\n    return n % 2 == 0  \n",
       "2  def factorial(n):\\n    return 1 if n == 0 else...  "
      ]
     },
     "execution_count": 1,
     "metadata": {},
     "output_type": "execute_result"
    }
   ],
   "source": [
    "!pip install pandas\n",
    "\n",
    "import pandas as pd\n",
    "\n",
    "# Example dataset for fine-tuning code generation (input: prompt, output: code)\n",
    "data = [\n",
    "    {\n",
    "        \"prompt\": \"Write a Python function to add two numbers.\",\n",
    "        \"completion\": \"def add(a, b):\\n    return a + b\"\n",
    "    },\n",
    "    {\n",
    "        \"prompt\": \"Write a Python function to check if a number is even.\",\n",
    "        \"completion\": \"def is_even(n):\\n    return n % 2 == 0\"\n",
    "    },\n",
    "    {\n",
    "        \"prompt\": \"Write a Python function to find factorial.\",\n",
    "        \"completion\": \"def factorial(n):\\n    return 1 if n == 0 else n * factorial(n-1)\"\n",
    "    },\n",
    "]\n",
    "\n",
    "df = pd.DataFrame(data)\n",
    "df.to_csv(\"code_generation_dataset.csv\", index=False)\n",
    "df.head()"
   ]
  },
  {
   "cell_type": "markdown",
   "id": "a202327a",
   "metadata": {},
   "source": [
    "## 2. Supervised Model: Train-Test Split and Fine-Tuning Prep\n",
    "For OpenAI fine-tuning, you typically format your data as JSONL. Let's convert and show a basic split."
   ]
  },
  {
   "cell_type": "code",
   "execution_count": 2,
   "id": "9d044588",
   "metadata": {},
   "outputs": [],
   "source": [
    "import json\n",
    "\n",
    "# Train-test split (80-20 for demo)\n",
    "train_df = df.sample(frac=0.8, random_state=42)\n",
    "test_df = df.drop(train_df.index)\n",
    "\n",
    "# Save prompts and completions as simpler JSONL (not OpenAI format)\n",
    "def save_jsonl_simple(df, filename):\n",
    "    with open(filename, \"w\") as f:\n",
    "        for _, row in df.iterrows():\n",
    "            entry = {\n",
    "                \"prompt\": row[\"prompt\"],\n",
    "                \"completion\": row[\"completion\"]\n",
    "            }\n",
    "            f.write(json.dumps(entry) + \"\\n\")\n",
    "\n",
    "save_jsonl_simple(train_df, \"train.jsonl\")\n",
    "save_jsonl_simple(test_df, \"test.jsonl\")"
   ]
  },
  {
   "cell_type": "code",
   "execution_count": 3,
   "id": "b0e6f4e3",
   "metadata": {},
   "outputs": [
    {
     "name": "stderr",
     "output_type": "stream",
     "text": [
      "\n",
      "[notice] A new release of pip is available: 25.1 -> 25.1.1\n",
      "[notice] To update, run: python.exe -m pip install --upgrade pip\n"
     ]
    }
   ],
   "source": [
    "!pip install google-generativeai python-dotenv --quiet\n",
    "import google.generativeai as genai\n",
    "from dotenv import load_dotenv\n",
    "import os\n",
    "\n",
    "load_dotenv()\n",
    "api_key = os.getenv(\"GEMINI_API_KEY\")\n",
    "genai.configure(api_key=api_key)"
   ]
  },
  {
   "cell_type": "markdown",
   "id": "f1b1b052",
   "metadata": {},
   "source": [
    "### A. Prompt Engineering for Code Generation"
   ]
  },
  {
   "cell_type": "code",
   "execution_count": 4,
   "id": "a6ef36b8",
   "metadata": {},
   "outputs": [],
   "source": [
    "def generate_code(prompt):\n",
    "    model = genai.GenerativeModel(\"gemini-1.5-flash\")  \n",
    "    response = model.generate_content(prompt)\n",
    "    return response.text"
   ]
  },
  {
   "cell_type": "markdown",
   "id": "de74e9c6",
   "metadata": {},
   "source": [
    "### B. Code Optimization Using OpenAI"
   ]
  },
  {
   "cell_type": "code",
   "execution_count": 5,
   "id": "c695582e",
   "metadata": {},
   "outputs": [
    {
     "name": "stdout",
     "output_type": "stream",
     "text": [
      "Optimized Code:\n",
      " The simplest and most efficient way to write this function is:\n",
      "\n",
      "```python\n",
      "def add_numbers(a, b):\n",
      "  return a + b\n",
      "```\n",
      "\n",
      "The original code created an unnecessary intermediate variable `result`.  Python's direct assignment and return statement handle this operation perfectly without extra overhead.\n",
      "\n"
     ]
    }
   ],
   "source": [
    "raw_code = \"\"\"\n",
    "def add_numbers(a, b):\n",
    "    result = 0\n",
    "    result = a + b\n",
    "    return result\n",
    "\"\"\"\n",
    "\n",
    "opt_prompt = f\"Optimize the following Python code for simplicity and efficiency:\\n\\n{raw_code}\"\n",
    "\n",
    "optimized_code = generate_code(opt_prompt)\n",
    "print(\"Optimized Code:\\n\", optimized_code)"
   ]
  },
  {
   "cell_type": "markdown",
   "id": "9594c4d6",
   "metadata": {},
   "source": [
    "### C. Prompt Engineering for Debugging"
   ]
  },
  {
   "cell_type": "code",
   "execution_count": 6,
   "id": "ff883f56",
   "metadata": {},
   "outputs": [
    {
     "name": "stdout",
     "output_type": "stream",
     "text": [
      "Fixed Code:\n",
      " The bug is a `ZeroDivisionError`.  Dividing by zero is undefined in mathematics and causes an exception in Python.\n",
      "\n",
      "To fix it, you need to add error handling.  Here are a couple of ways:\n",
      "\n",
      "**Method 1: Using a `try-except` block:**\n",
      "\n",
      "```python\n",
      "def divide(a, b):\n",
      "    try:\n",
      "        return a / b\n",
      "    except ZeroDivisionError:\n",
      "        return \"Division by zero is not allowed.\"  # Or some other appropriate action\n",
      "\n",
      "print(divide(10, 0))  # Output: Division by zero is not allowed.\n",
      "print(divide(10, 2))  # Output: 5.0\n",
      "```\n",
      "\n",
      "This method attempts the division. If a `ZeroDivisionError` occurs, it catches the exception and returns a user-friendly message.\n",
      "\n",
      "\n",
      "**Method 2: Checking for zero before division:**\n",
      "\n",
      "```python\n",
      "def divide(a, b):\n",
      "    if b == 0:\n",
      "        return \"Division by zero is not allowed.\" # Or return None, float('inf'), or raise an exception\n",
      "    else:\n",
      "        return a / b\n",
      "\n",
      "print(divide(10, 0))  # Output: Division by zero is not allowed.\n",
      "print(divide(10, 2))  # Output: 5.0\n",
      "```\n",
      "\n",
      "This method checks if the denominator is zero before performing the division, preventing the error from happening in the first place.  This is generally preferred for its clarity and efficiency.  The choice of what to return when `b` is zero depends on your application's needs.  Returning `float('inf')` (infinity) might be suitable for certain mathematical contexts.  Raising an exception (`raise ZeroDivisionError(\"Division by zero\")`) allows the calling function to handle the error.\n",
      "\n",
      "\n",
      "Method 2 (the check before division) is generally considered better practice because it avoids the overhead of exception handling unless an error actually occurs.  However, the `try-except` block (Method 1) can be useful if you're handling multiple potential errors within a single function.\n",
      "\n"
     ]
    }
   ],
   "source": [
    "buggy_code = \"\"\"\n",
    "def divide(a, b):\n",
    "    return a / b\n",
    "print(divide(10, 0))\n",
    "\"\"\"\n",
    "\n",
    "debug_prompt = f\"Find and fix the bug in the following Python code:\\n\\n{buggy_code}\"\n",
    "\n",
    "fixed_code = generate_code(debug_prompt)\n",
    "print(\"Fixed Code:\\n\", fixed_code)"
   ]
  },
  {
   "cell_type": "markdown",
   "id": "f1044c12",
   "metadata": {},
   "source": [
    "## 4. [Optional] Evaluate Generated Code with Automated Testing\n",
    "You can run generated code snippets using exec, but always sanitize untrusted code. For demonstration:"
   ]
  },
  {
   "cell_type": "code",
   "execution_count": 7,
   "id": "7f0235ae",
   "metadata": {},
   "outputs": [
    {
     "name": "stdout",
     "output_type": "stream",
     "text": [
      "LLM Response:\n",
      " ```python\n",
      "def reverse_string(input_string):\n",
      "  \"\"\"Reverses a given string.\n",
      "\n",
      "  Args:\n",
      "    input_string: The string to be reversed.\n",
      "\n",
      "  Returns:\n",
      "    The reversed string.  Returns an empty string if the input is None or not a string.\n",
      "  \"\"\"\n",
      "  if not isinstance(input_string, str) or input_string is None:\n",
      "    return \"\"\n",
      "  return input_string[::-1]\n",
      "\n",
      "```\n",
      "Extracted Code:\n",
      " def reverse_string(input_string):\n",
      "  \"\"\"Reverses a given string.\n",
      "\n",
      "  Args:\n",
      "    input_string: The string to be reversed.\n",
      "\n",
      "  Returns:\n",
      "    The reversed string.  Returns an empty string if the input is None or not a string.\n",
      "  \"\"\"\n",
      "  if not isinstance(input_string, str) or input_string is None:\n",
      "    return \"\"\n",
      "  return input_string[::-1]\n",
      "Test passed!\n"
     ]
    }
   ],
   "source": [
    "import re\n",
    "def extract_code_block(text):\n",
    "    \"\"\"\n",
    "    Extracts the first python code block from LLM output.\n",
    "    If no code block, returns raw text.\n",
    "    \"\"\"\n",
    "    code_blocks = re.findall(r\"```(?:python)?(.*?)```\", text, re.DOTALL | re.IGNORECASE)\n",
    "    if code_blocks:\n",
    "        return code_blocks[0].strip()\n",
    "    return text.strip()\n",
    "\n",
    "def test_reverse_string():\n",
    "    prompt = \"Write a Python function named `reverse_string` that takes a string and returns it reversed.\"\n",
    "    code_response = generate_code(prompt)\n",
    "    print(\"LLM Response:\\n\", code_response)\n",
    "    code = extract_code_block(code_response)\n",
    "    print(\"Extracted Code:\\n\", code)\n",
    "    exec(code, globals())  # Define function in notebook/global scope\n",
    "    try:\n",
    "        assert reverse_string(\"OpenAI\") == \"IAnepO\"\n",
    "        assert reverse_string(\"\") == \"\"\n",
    "        assert reverse_string(\"a\") == \"a\"\n",
    "        print(\"Test passed!\")\n",
    "    except Exception as e:\n",
    "        print(\"Test failed:\", e)\n",
    "\n",
    "test_reverse_string()"
   ]
  },
  {
   "cell_type": "markdown",
   "id": "18252a82",
   "metadata": {},
   "source": [
    "## Summary\n",
    "*Dataset Preparation:* Created and exported a dataset for code generation tasks.\n",
    "\n",
    "*Modeling & Fine-Tuning:* Demonstrated how to prepare data for OpenAI fine-tuning.\n",
    "\n",
    "*Prompt Engineering:* Showed prompts for code generation, code optimization, and debugging.\n",
    "\n",
    "*OpenAI API Usage:* Used the OpenAI API for advanced code assistance."
   ]
  }
 ],
 "metadata": {
  "kernelspec": {
   "display_name": "Python 3",
   "language": "python",
   "name": "python3"
  },
  "language_info": {
   "codemirror_mode": {
    "name": "ipython",
    "version": 3
   },
   "file_extension": ".py",
   "mimetype": "text/x-python",
   "name": "python",
   "nbconvert_exporter": "python",
   "pygments_lexer": "ipython3",
   "version": "3.13.2"
  }
 },
 "nbformat": 4,
 "nbformat_minor": 5
}
