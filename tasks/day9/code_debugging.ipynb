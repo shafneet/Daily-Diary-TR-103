{
 "cells": [
  {
   "cell_type": "markdown",
   "id": "059309b6",
   "metadata": {},
   "source": [
    "### C. Prompt Engineering for Debugging"
   ]
  },
  {
   "cell_type": "code",
   "execution_count": 1,
   "id": "37702838",
   "metadata": {},
   "outputs": [
    {
     "name": "stderr",
     "output_type": "stream",
     "text": [
      "\n",
      "[notice] A new release of pip is available: 25.1 -> 25.1.1\n",
      "[notice] To update, run: python.exe -m pip install --upgrade pip\n"
     ]
    }
   ],
   "source": [
    "# Cell 1: Setup\n",
    "!pip install google-generativeai python-dotenv --quiet\n",
    "import google.generativeai as genai\n",
    "from dotenv import load_dotenv\n",
    "import os\n",
    "\n",
    "load_dotenv()\n",
    "api_key = os.getenv(\"GEMINI_API_KEY\")\n",
    "genai.configure(api_key=api_key)"
   ]
  },
  {
   "cell_type": "code",
   "execution_count": 2,
   "id": "1089db28",
   "metadata": {},
   "outputs": [],
   "source": [
    "# Cell 2: Code debugging function\n",
    "def generate_code(prompt):\n",
    "    model = genai.GenerativeModel(\"gemini-1.5-flash\")\n",
    "    response = model.generate_content(prompt)\n",
    "    return response.text"
   ]
  },
  {
   "cell_type": "code",
   "execution_count": 3,
   "id": "700393ed",
   "metadata": {},
   "outputs": [
    {
     "name": "stdout",
     "output_type": "stream",
     "text": [
      "Fixed Code:\n",
      " The bug is a `ZeroDivisionError`.  Dividing by zero is undefined in mathematics and results in an error in Python.\n",
      "\n",
      "To fix it, you need to handle the case where `b` is zero.  Here are a few ways to do this:\n",
      "\n",
      "**1. Using a conditional statement:**\n",
      "\n",
      "```python\n",
      "def divide(a, b):\n",
      "    if b == 0:\n",
      "        return \"Division by zero is not allowed.\"  # Or return a specific value like float('inf') or None\n",
      "    else:\n",
      "        return a / b\n",
      "\n",
      "print(divide(10, 0))  # Output: Division by zero is not allowed.\n",
      "print(divide(10, 2))  # Output: 5.0\n",
      "```\n",
      "\n",
      "This approach explicitly checks for the zero divisor and returns a user-friendly message or a designated value.\n",
      "\n",
      "**2. Using exception handling (try-except block):**\n",
      "\n",
      "```python\n",
      "def divide(a, b):\n",
      "    try:\n",
      "        return a / b\n",
      "    except ZeroDivisionError:\n",
      "        return \"Division by zero is not allowed.\" # Or return a specific value like float('inf') or None\n",
      "\n",
      "print(divide(10, 0))  # Output: Division by zero is not allowed.\n",
      "print(divide(10, 2))  # Output: 5.0\n",
      "```\n",
      "\n",
      "This method uses a `try-except` block to gracefully handle the `ZeroDivisionError`.  If the division works, the result is returned; otherwise, the error is caught, and an alternative action (returning a message or value) is performed.  This is generally preferred for robustness.\n",
      "\n",
      "\n",
      "The choice between conditional statements and exception handling depends on the context.  For simple cases, a conditional statement might suffice.  For more complex scenarios or when dealing with multiple potential errors, exception handling is more flexible and maintainable.  In this specific `divide` function, the `try-except` approach is generally considered better practice.\n",
      "\n"
     ]
    }
   ],
   "source": [
    "# Cell 3: Debug example code\n",
    "buggy_code = \"\"\"\n",
    "def divide(a, b):\n",
    "    return a / b\n",
    "print(divide(10, 0))\n",
    "\"\"\"\n",
    "\n",
    "debug_prompt = f\"Find and fix the bug in the following Python code:\\n\\n{buggy_code}\"\n",
    "fixed_code = generate_code(debug_prompt)\n",
    "print(\"Fixed Code:\\n\", fixed_code)"
   ]
  }
 ],
 "metadata": {
  "kernelspec": {
   "display_name": "Python 3",
   "language": "python",
   "name": "python3"
  },
  "language_info": {
   "codemirror_mode": {
    "name": "ipython",
    "version": 3
   },
   "file_extension": ".py",
   "mimetype": "text/x-python",
   "name": "python",
   "nbconvert_exporter": "python",
   "pygments_lexer": "ipython3",
   "version": "3.13.2"
  }
 },
 "nbformat": 4,
 "nbformat_minor": 5
}
