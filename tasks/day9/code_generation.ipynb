{
 "cells": [
  {
   "cell_type": "markdown",
   "id": "b1104db7",
   "metadata": {},
   "source": [
    "### A. Prompt Engineering for Code Generation"
   ]
  },
  {
   "cell_type": "code",
   "execution_count": 3,
   "id": "c7362653",
   "metadata": {},
   "outputs": [
    {
     "name": "stderr",
     "output_type": "stream",
     "text": [
      "\n",
      "[notice] A new release of pip is available: 25.1 -> 25.1.1\n",
      "[notice] To update, run: python.exe -m pip install --upgrade pip\n"
     ]
    }
   ],
   "source": [
    "# Cell 1: Setup\n",
    "!pip install google-generativeai python-dotenv --quiet\n",
    "import google.generativeai as genai\n",
    "from dotenv import load_dotenv\n",
    "import os\n",
    "\n",
    "load_dotenv()\n",
    "api_key = os.getenv(\"GEMINI_API_KEY\")\n",
    "genai.configure(api_key=api_key)"
   ]
  },
  {
   "cell_type": "code",
   "execution_count": 4,
   "id": "92fe92e3",
   "metadata": {},
   "outputs": [],
   "source": [
    "# Cell 2: Code generation function\n",
    "def generate_code(prompt):\n",
    "    model = genai.GenerativeModel(\"gemini-1.5-flash\")  \n",
    "    response = model.generate_content(prompt)\n",
    "    return response.text"
   ]
  },
  {
   "cell_type": "code",
   "execution_count": 5,
   "id": "033eec90",
   "metadata": {},
   "outputs": [
    {
     "name": "stdout",
     "output_type": "stream",
     "text": [
      "Generated Code:\n",
      " Several versions are possible, each with different strengths and weaknesses:\n",
      "\n",
      "**Version 1: Simple Recursive (Inefficient)**\n",
      "\n",
      "This version is the most straightforward translation of the Fibonacci definition but is extremely inefficient for larger numbers due to repeated calculations.\n",
      "\n",
      "```python\n",
      "def fibonacci_recursive(n):\n",
      "  \"\"\"\n",
      "  Calculates the nth Fibonacci number recursively.  Inefficient for large n.\n",
      "\n",
      "  Args:\n",
      "    n: The index of the desired Fibonacci number (starting from 0).\n",
      "\n",
      "  Returns:\n",
      "    The nth Fibonacci number.  Returns 0 for n < 0.\n",
      "  \"\"\"\n",
      "  if n < 0:\n",
      "    return 0\n",
      "  elif n <= 1:\n",
      "    return n\n",
      "  else:\n",
      "    return fibonacci_recursive(n-1) + fibonacci_recursive(n-2)\n",
      "\n",
      "```\n",
      "\n",
      "**Version 2: Recursive with Memoization (Efficient)**\n",
      "\n",
      "This version uses memoization to store previously calculated results, significantly improving efficiency.\n",
      "\n",
      "```python\n",
      "cache = {}  # Dictionary to store calculated Fibonacci numbers\n",
      "\n",
      "def fibonacci_recursive_memo(n):\n",
      "  \"\"\"\n",
      "  Calculates the nth Fibonacci number recursively with memoization.\n",
      "\n",
      "  Args:\n",
      "    n: The index of the desired Fibonacci number (starting from 0).\n",
      "\n",
      "  Returns:\n",
      "    The nth Fibonacci number. Returns 0 for n < 0.\n",
      "  \"\"\"\n",
      "  if n < 0:\n",
      "    return 0\n",
      "  elif n in cache:\n",
      "    return cache[n]\n",
      "  elif n <= 1:\n",
      "    result = n\n",
      "  else:\n",
      "    result = fibonacci_recursive_memo(n-1) + fibonacci_recursive_memo(n-2)\n",
      "  cache[n] = result\n",
      "  return result\n",
      "\n",
      "```\n",
      "\n",
      "**Version 3: Iterative (Most Efficient)**\n",
      "\n",
      "This iterative approach avoids recursion altogether, making it the most efficient solution for large numbers.\n",
      "\n",
      "```python\n",
      "def fibonacci_iterative(n):\n",
      "  \"\"\"\n",
      "  Calculates the nth Fibonacci number iteratively.\n",
      "\n",
      "  Args:\n",
      "    n: The index of the desired Fibonacci number (starting from 0).\n",
      "\n",
      "  Returns:\n",
      "    The nth Fibonacci number. Returns 0 for n < 0.\n",
      "  \"\"\"\n",
      "  if n < 0:\n",
      "    return 0\n",
      "  elif n <= 1:\n",
      "    return n\n",
      "  else:\n",
      "    a, b = 0, 1\n",
      "    for _ in range(2, n + 1):\n",
      "      a, b = b, a + b\n",
      "    return b\n",
      "\n",
      "```\n",
      "\n",
      "For most practical purposes, the iterative approach (`fibonacci_iterative`) is recommended due to its efficiency.  The memoized recursive version (`fibonacci_recursive_memo`) is a good compromise between readability and performance, while the simple recursive version (`fibonacci_recursive`) should be avoided for anything beyond small values of `n`.\n",
      "\n"
     ]
    }
   ],
   "source": [
    "# Cell 3: Run code generation example\n",
    "prompt = \"Write a Python function that calculates Fibonacci numbers recursively.\"\n",
    "generated_code = generate_code(prompt)\n",
    "print(\"Generated Code:\\n\", generated_code)"
   ]
  }
 ],
 "metadata": {
  "kernelspec": {
   "display_name": "Python 3",
   "language": "python",
   "name": "python3"
  },
  "language_info": {
   "codemirror_mode": {
    "name": "ipython",
    "version": 3
   },
   "file_extension": ".py",
   "mimetype": "text/x-python",
   "name": "python",
   "nbconvert_exporter": "python",
   "pygments_lexer": "ipython3",
   "version": "3.13.2"
  }
 },
 "nbformat": 4,
 "nbformat_minor": 5
}
