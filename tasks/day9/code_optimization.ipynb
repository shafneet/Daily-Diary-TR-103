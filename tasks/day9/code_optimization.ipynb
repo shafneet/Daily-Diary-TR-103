{
 "cells": [
  {
   "cell_type": "markdown",
   "id": "7af5ba8e",
   "metadata": {},
   "source": [
    "### B. Code Optimization Using OpenAI"
   ]
  },
  {
   "cell_type": "code",
   "execution_count": 1,
   "id": "202aee5a",
   "metadata": {},
   "outputs": [
    {
     "name": "stderr",
     "output_type": "stream",
     "text": [
      "\n",
      "[notice] A new release of pip is available: 25.1 -> 25.1.1\n",
      "[notice] To update, run: python.exe -m pip install --upgrade pip\n"
     ]
    }
   ],
   "source": [
    "# Cell 1: Setup\n",
    "!pip install google-generativeai python-dotenv --quiet\n",
    "import google.generativeai as genai\n",
    "from dotenv import load_dotenv\n",
    "import os\n",
    "\n",
    "load_dotenv()\n",
    "api_key = os.getenv(\"GEMINI_API_KEY\")\n",
    "genai.configure(api_key=api_key)"
   ]
  },
  {
   "cell_type": "code",
   "execution_count": 2,
   "id": "acf620ca",
   "metadata": {},
   "outputs": [],
   "source": [
    "# Cell 2: Code generation function\n",
    "def generate_code(prompt):\n",
    "    model = genai.GenerativeModel(\"gemini-1.5-flash\")  \n",
    "    response = model.generate_content(prompt)\n",
    "    return response.text"
   ]
  },
  {
   "cell_type": "code",
   "execution_count": 3,
   "id": "16ec3f4a",
   "metadata": {},
   "outputs": [
    {
     "name": "stdout",
     "output_type": "stream",
     "text": [
      "Optimized Code:\n",
      " The simplest and most efficient version is:\n",
      "\n",
      "```python\n",
      "def add_numbers(a, b):\n",
      "  return a + b\n",
      "```\n",
      "\n",
      "The original code unnecessarily initializes `result` to 0 before immediately overwriting it.  This extra step adds no value and slightly reduces efficiency.  The improved version directly returns the sum, eliminating redundant operations.\n",
      "\n"
     ]
    }
   ],
   "source": [
    "# Cell 3: Optimize example code\n",
    "raw_code = \"\"\"\n",
    "def add_numbers(a, b):\n",
    "    result = 0\n",
    "    result = a + b\n",
    "    return result\n",
    "\"\"\"\n",
    "\n",
    "opt_prompt = f\"Optimize the following Python code for simplicity and efficiency:\\n\\n{raw_code}\"\n",
    "\n",
    "optimized_code = generate_code(opt_prompt)\n",
    "print(\"Optimized Code:\\n\", optimized_code)"
   ]
  }
 ],
 "metadata": {
  "kernelspec": {
   "display_name": "Python 3",
   "language": "python",
   "name": "python3"
  },
  "language_info": {
   "codemirror_mode": {
    "name": "ipython",
    "version": 3
   },
   "file_extension": ".py",
   "mimetype": "text/x-python",
   "name": "python",
   "nbconvert_exporter": "python",
   "pygments_lexer": "ipython3",
   "version": "3.13.2"
  }
 },
 "nbformat": 4,
 "nbformat_minor": 5
}
